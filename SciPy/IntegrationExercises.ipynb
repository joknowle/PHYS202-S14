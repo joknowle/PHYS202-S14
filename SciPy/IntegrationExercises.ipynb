{
 "metadata": {
  "name": "",
  "signature": "sha256:3afc03f6e06e8d63830a3f98ce7a11fd0fb84bbb9b76b3cd51d0d2f44760e985"
 },
 "nbformat": 3,
 "nbformat_minor": 0,
 "worksheets": [
  {
   "cells": [
    {
     "cell_type": "heading",
     "level": 1,
     "metadata": {},
     "source": [
      "Integration Exercises"
     ]
    },
    {
     "cell_type": "code",
     "collapsed": false,
     "input": [
      "%pylab inline\n",
      "import numpy as np\n",
      "import matplotlib.pyplot as plt\n",
      "import scipy.integrate as scint\n",
      "import pylab as pl"
     ],
     "language": "python",
     "metadata": {},
     "outputs": [
      {
       "output_type": "stream",
       "stream": "stdout",
       "text": [
        "Populating the interactive namespace from numpy and matplotlib\n"
       ]
      }
     ],
     "prompt_number": 1
    },
    {
     "cell_type": "heading",
     "level": 3,
     "metadata": {},
     "source": [
      "Question 1"
     ]
    },
    {
     "cell_type": "heading",
     "level": 4,
     "metadata": {},
     "source": [
      "(a)"
     ]
    },
    {
     "cell_type": "markdown",
     "metadata": {},
     "source": [
      "Write two functions trapz(func,a,b,N) and simps(func,a,b,N) to compute the integral of the function func over the variable x using the trapezoidal rule and Simpson's rule to a file called Integrators.py. Do not use the scipy.integrate built-in functions. Include docstrings with each function that describe what they do. Then import the module and use the functions to answer the following questions. To avoid namespace conflicts, import your module as myint and then call the functions from that namespace. i.e."
     ]
    },
    {
     "cell_type": "markdown",
     "metadata": {},
     "source": [
      "    import integrators as myint\n",
      "    #...your code...here\n",
      "    I = myint.trapz(func,a,b,N)"
     ]
    },
    {
     "cell_type": "markdown",
     "metadata": {},
     "source": [
      "Also, be sure that you import any needed modules inside your Integrators.py file.\n"
     ]
    },
    {
     "cell_type": "markdown",
     "metadata": {},
     "source": [
      "Trapezoidal Rule : $A_k = \\frac{1}{2} [f(a+(k\u22121)h)+f(a+kh)]$\n",
      "\n",
      "Simpson's Rule: $A_k = \\frac{1}{3}[f(a+(2k\u22122)h)+4f(a+(2k\u22121)h)f(a+2kh)]$"
     ]
    },
    {
     "cell_type": "code",
     "collapsed": false,
     "input": [
      "%%file integrators.py\n",
      "import numpy as np\n",
      "\n",
      "def trapz(func, a, b, N):\n",
      "    \"\"\"\n",
      "    A technique for approximating the definite integral using straight line segments.\n",
      "    The trapezoidal rule works by approximating the region under the graph of \n",
      "    the function f(x) as a trapezoid and calculating its area. \n",
      "    \"\"\"\n",
      "    h = (b - a)/float(N) # width of each slice\n",
      "    k = np.arange(1,N)\n",
      "    I =  h*(0.5*func(a) + 0.5*func(b) + func(a+k*h).sum())\n",
      "    return I\n",
      "\n",
      "def simps(func, a, b, N):\n",
      "    \"\"\"\n",
      "    A numerical approximation of definite integrals using quadratic polynomials.\n",
      "    Parabolic arcs are used instead of the straight line segments that \n",
      "    the trapezoidal rule uses. \n",
      "    \"\"\"\n",
      "    h = (b-a)/float(N)\n",
      "    k1 = np.arange(1,N/2+1)\n",
      "    k2 = np.arange(1,N/2)\n",
      "    \n",
      "    I = (1./3.)*h*(func(a) + func(b) + 4.*func(a+(2*k1-1)*h).sum() \\\n",
      "                   + 2.*func(a+2*k2*h).sum())\n",
      "    return I"
     ],
     "language": "python",
     "metadata": {},
     "outputs": [
      {
       "output_type": "stream",
       "stream": "stdout",
       "text": [
        "Overwriting integrators.py\n"
       ]
      }
     ],
     "prompt_number": 2
    },
    {
     "cell_type": "heading",
     "level": 4,
     "metadata": {},
     "source": [
      "(b)"
     ]
    },
    {
     "cell_type": "markdown",
     "metadata": {},
     "source": [
      "Use your trapz and simps functions from part (a) to calculate the integral of $x^4\u22122x+1$ from $x = 0$ to $x = 2$ with $N = 10$, $N = 100$, and $N = 1000$. Then compare your result to the known correct value of 4.4. What is the percent error in each case?\n",
      " "
     ]
    },
    {
     "cell_type": "code",
     "collapsed": false,
     "input": [
      "import integrators as myint\n",
      "\n",
      "func = lambda x: x**4 - 2*x + 1\n",
      "\n",
      "trapz10 = myint.trapz(func, 0, 2, 10)\n",
      "trapz100 = myint.trapz(func, 0, 2, 100)\n",
      "trapz1000 = myint.trapz(func, 0, 2, 1000)"
     ],
     "language": "python",
     "metadata": {},
     "outputs": [],
     "prompt_number": 3
    },
    {
     "cell_type": "code",
     "collapsed": false,
     "input": [
      "simps10 = myint.simps(func, 0, 2, 10)\n",
      "simps100 = myint.simps(func, 0, 2, 100)\n",
      "simps1000 = myint.simps(func, 0, 2, 1000)"
     ],
     "language": "python",
     "metadata": {},
     "outputs": [],
     "prompt_number": 4
    },
    {
     "cell_type": "code",
     "collapsed": false,
     "input": [
      "def reportedError(x):\n",
      "    \"\"\"\n",
      "    Percent error from actual value 4.4.\n",
      "    \"\"\"\n",
      "    y = 100*abs(x - 4.4)/4.4\n",
      "    return y"
     ],
     "language": "python",
     "metadata": {},
     "outputs": [],
     "prompt_number": 5
    },
    {
     "cell_type": "code",
     "collapsed": false,
     "input": [
      "result, error = scint.quad(func, 0, 2)\n",
      "print \"Quad result:      \", result,  \"           %Error: \", error\n",
      "print \"Trapz 10 result:  \", trapz10, \"       %Error: \", reportedError(trapz10)\n",
      "print \"Trapz 100 result: \", trapz10, \"       %Error: \", reportedError(trapz100)\n",
      "print \"Trapz 1000 result:\", trapz10, \"       %Error: \", reportedError(trapz1000)\n",
      "\n",
      "print \"Simps 10 result:  \", simps10, \" %Error: \", reportedError(simps10)\n",
      "print \"Simps 100 result: \", simps100, \" %Error: \", reportedError(simps100)\n",
      "print \"Simps 1000 result:\", simps1000, \"           %Error: \", reportedError(simps1000)"
     ],
     "language": "python",
     "metadata": {},
     "outputs": [
      {
       "output_type": "stream",
       "stream": "stdout",
       "text": [
        "Quad result:       4.4            %Error:  5.00399649605e-14\n",
        "Trapz 10 result:   4.50656        %Error:  2.42181818182\n",
        "Trapz 100 result:  4.50656        %Error:  0.0242421818182\n",
        "Trapz 1000 result: 4.50656        %Error:  0.000242424218175\n",
        "Simps 10 result:   4.40042666667  %Error:  0.00969696969697\n",
        "Simps 100 result:  4.40000004267  %Error:  9.69696969187e-07\n",
        "Simps 1000 result: 4.4            %Error:  9.69729347327e-11\n"
       ]
      }
     ],
     "prompt_number": 6
    },
    {
     "cell_type": "heading",
     "level": 3,
     "metadata": {},
     "source": [
      "Question 2"
     ]
    },
    {
     "cell_type": "markdown",
     "metadata": {},
     "source": [
      "$$E(x) = \\int_0^x e^{-t^2}$$"
     ]
    },
    {
     "cell_type": "markdown",
     "metadata": {},
     "source": [
      "(a) Use scipy.integrate.cumtrapz to calculate $E(x)$ for values of x from 0 to 3 in steps of 0.1. Print the result."
     ]
    },
    {
     "cell_type": "code",
     "collapsed": false,
     "input": [
      "x = np.arange(0, 4, .1)\n",
      "y = e**(-x**2)\n",
      "sumtrapz = scint.cumtrapz(y, x)"
     ],
     "language": "python",
     "metadata": {},
     "outputs": [],
     "prompt_number": 7
    },
    {
     "cell_type": "markdown",
     "metadata": {},
     "source": [
      "(b) Plot the integrand as a function of t and E(x) as a function of x (both ranging from 0 to 3) on the same graph."
     ]
    },
    {
     "cell_type": "code",
     "collapsed": false,
     "input": [
      "pl.figure(figsize=(9, 6), dpi=80)\n",
      "pl.subplot(1, 1, 1)\n",
      "\n",
      "plt.plot(x[:39], sumtrapz, label=\"Integral of E(x)\")\n",
      "plt.legend(loc=\"lower right\")\n",
      "plt.show()"
     ],
     "language": "python",
     "metadata": {},
     "outputs": [
      {
       "metadata": {},
       "output_type": "display_data",
       "png": "[encoded data removed]",
       "text": [
        "<matplotlib.figure.Figure at 0x1065c5fd0>"
       ]
      }
     ],
     "prompt_number": 8
    },
    {
     "cell_type": "heading",
     "level": 3,
     "metadata": {},
     "source": [
      "Question 3"
     ]
    },
    {
     "cell_type": "markdown",
     "metadata": {},
     "source": [
      "$$P(a,b) = \\int_a^b |\\psi (x)|^2 dx \\tag{Prob of a particle btwn a  and b}$$"
     ]
    },
    {
     "cell_type": "markdown",
     "metadata": {},
     "source": [
      "$$\\psi (x) = \\sqrt{\\frac{2}{L}}\\sin{\\frac{n \\pi x}{L}}$$"
     ]
    },
    {
     "cell_type": "markdown",
     "metadata": {},
     "source": [
      "(a) What is the probability of finding the particle between $L/3$ and $L/2$ for the ground state $(n = 1)$ and for the first excited state $(n = 2)$? Let $L = 1$. Perform the integral using both scipy.integrate.trapz and scipy.integrate.quad with an accuracy of 6 sig figs. How many slices did you need to use for scipy.integrate.trapz?"
     ]
    },
    {
     "cell_type": "code",
     "collapsed": false,
     "input": [
      "def findError(x):\n",
      "    y = abs((x - .304498890522)/.304498890522)\n",
      "    return y\n",
      "\n",
      "a = 1.0/3.0\n",
      "b = 1.0/2.0\n",
      "x = np.arange(a, b, .001)\n",
      "\n",
      "psi = lambda x, L, n: abs(((2.0/L)**(1.0/2.0))*np.sin(n*np.pi*x/L))**2.0\n",
      "print \"n = \", 1,\",\", \"L = \", 1\n",
      "trapzProb = scint.trapz(psi(x, 1.0, 1.0), x)\n",
      "quadProbVal, error = scint.quad(psi, a, b, args=(1.0,1.0))\n",
      "print \"Trapz Probability: \", trapzProb, \"Trapz Error: \", findError(trapzProb), \\\n",
      "\"\\n\", \"Quad Probability: \", quadProbVal, \"and its error: \", error\n",
      "\n",
      "print \"n = \", 2,\",\", \"L = \", 1\n",
      "trapzProb = scint.trapz(psi(x, 1.0, 2.0), x)\n",
      "quadProbVal, error = scint.quad(psi, a, b, args=(1.0,2.0))\n",
      "print \"Trapz Probability: \", trapzProb, \"Trapz Error: \", findError(trapzProb), \\\n",
      "\"\\n\", \"Quad Probability: \", quadProbVal, \"and its error: \", error\n"
     ],
     "language": "python",
     "metadata": {},
     "outputs": [
      {
       "output_type": "stream",
       "stream": "stdout",
       "text": [
        "n =  1 , L =  1\n",
        "Trapz Probability:  0.303165107881 Trapz Error:  0.00438025451679 \n",
        "Quad Probability:  0.304498890522 and its error:  3.3806167923e-15\n",
        "n =  2 , L =  1\n",
        "Trapz Probability:  0.0977514450699 Trapz Error:  0.678976022204 \n",
        "Quad Probability:  0.0977505547389 and its error:  1.08524916541e-15\n"
       ]
      }
     ],
     "prompt_number": 49
    },
    {
     "cell_type": "markdown",
     "metadata": {},
     "source": [
      "(b) Make a plot of |\u03c8(x)|2 vs. x for the first two excited states with L=1."
     ]
    },
    {
     "cell_type": "code",
     "collapsed": false,
     "input": [
      "pl.figure(figsize=(9, 6), dpi=80)\n",
      "pl.subplot(1, 1, 1)\n",
      "\n",
      "plt.plot(x, psi(x,1.0,1.0), label=\"Psi vs x\")\n",
      "plt.plot(x, psi(x,1.0,2.0), label=\"Psi vs x\")\n",
      "plt.legend(loc=\"lower right\")\n",
      "plt.show()"
     ],
     "language": "python",
     "metadata": {},
     "outputs": [
      {
       "metadata": {},
       "output_type": "display_data",
       "png": "[encoded data removed]",
       "text": [
        "<matplotlib.figure.Figure at 0x12e90b850>"
       ]
      }
     ],
     "prompt_number": 58
    },
    {
     "cell_type": "heading",
     "level": 3,
     "metadata": {},
     "source": [
      "Question 4"
     ]
    },
    {
     "cell_type": "markdown",
     "metadata": {},
     "source": [
      "$$M = \\int \\rho dV$$\n",
      "$$\\vec r_{cm} = (x_{cm}, y_{cm}, z_{cm}) = \\frac{1}{M} \\int \\vec r \\rho dV$$\n",
      "$$I_{cm} = \\int (r-r_{cm}^2 \\rho dV)$$"
     ]
    },
    {
     "cell_type": "markdown",
     "metadata": {},
     "source": [
      "where M is the total mass (a scalar), $\\vec r_{cm}$is the center of mass position (a vector of 3 components), $I_{cm}$ are the moments of inertia about the center of mass (diagonals of a 3x3 matrix), and the mass density, $\\rho$, may be a function of the spatial variables.\n",
      "\n",
      "Consider a rectangular box: \n",
      "\n",
      "length (in x) = 0.2 m,\n",
      "\n",
      "width (in y) = 0.2 m,\n",
      "\n",
      "and height (in z) = 1.0 m\n",
      "\n",
      "centered on the origin, (0,0,0)\n",
      "\n",
      "and with a mass density, $\\rho (x,y,z) = (100 \\frac{kg}{m^4})(y + 0.1) + (100 \\frac{kg}{m^5})z^2$ for x, y, and z in meters."
     ]
    },
    {
     "cell_type": "markdown",
     "metadata": {},
     "source": [
      "(a) Use numerical integration to find $M$, $\\vec r_{cm}$, and $I_{cm}$. Note that you need $M$ to compute $\\vec r_{cm}$ and $\\vec r_{cm}$ to compute $I_{cm}$. The moments of inertia $I_{cm}$ are $I_{xx}$, $I_{yy}$, and $I_{zz}$, where e.g. $$I_{xx}= \\int \\left[ (y\u2212y_{cm})^2+(z\u2212z_{cm})^2 \\right]\u03c1dV $$"
     ]
    },
    {
     "cell_type": "code",
     "collapsed": false,
     "input": [],
     "language": "python",
     "metadata": {},
     "outputs": []
    }
   ],
   "metadata": {}
  }
 ]
}