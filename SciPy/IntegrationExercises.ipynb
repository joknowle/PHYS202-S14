{
 "metadata": {
  "name": "",
  "signature": "sha256:c2e53ce4c6faab81f3811cde47c65c27a2731a986af17049584e126f3e776731"
 },
 "nbformat": 3,
 "nbformat_minor": 0,
 "worksheets": [
  {
   "cells": [
    {
     "cell_type": "heading",
     "level": 1,
     "metadata": {},
     "source": [
      "Integration Exercises"
     ]
    },
    {
     "cell_type": "code",
     "collapsed": false,
     "input": [
      "%pylab inline\n",
      "import numpy as np\n",
      "import matplotlib.pyplot as plt\n",
      "import scipy.integrate as scint"
     ],
     "language": "python",
     "metadata": {},
     "outputs": [
      {
       "output_type": "stream",
       "stream": "stdout",
       "text": [
        "Populating the interactive namespace from numpy and matplotlib\n"
       ]
      }
     ],
     "prompt_number": 8
    },
    {
     "cell_type": "heading",
     "level": 3,
     "metadata": {},
     "source": [
      "Question 1"
     ]
    },
    {
     "cell_type": "heading",
     "level": 4,
     "metadata": {},
     "source": [
      "(a)"
     ]
    },
    {
     "cell_type": "markdown",
     "metadata": {},
     "source": [
      "Write two functions trapz(func,a,b,N) and simps(func,a,b,N) to compute the integral of the function func over the variable x using the trapezoidal rule and Simpson's rule to a file called Integrators.py. Do not use the scipy.integrate built-in functions. Include docstrings with each function that describe what they do. Then import the module and use the functions to answer the following questions. To avoid namespace conflicts, import your module as myint and then call the functions from that namespace. i.e."
     ]
    },
    {
     "cell_type": "markdown",
     "metadata": {},
     "source": [
      "    import integrators as myint\n",
      "    #...your code...here\n",
      "    I = myint.trapz(func,a,b,N)"
     ]
    },
    {
     "cell_type": "markdown",
     "metadata": {},
     "source": [
      "Also, be sure that you import any needed modules inside your Integrators.py file.\n"
     ]
    },
    {
     "cell_type": "markdown",
     "metadata": {},
     "source": [
      "Trapezoidal Rule : $A_k = \\frac{1}{2} [f(a+(k\u22121)h)+f(a+kh)]$\n",
      "\n",
      "Simpson's Rule: $A_k = \\frac{1}{3}[f(a+(2k\u22122)h)+4f(a+(2k\u22121)h)f(a+2kh)]$"
     ]
    },
    {
     "cell_type": "code",
     "collapsed": false,
     "input": [
      "%%file integrators.py\n",
      "import numpy as np\n",
      "\n",
      "def trapz(func, a, b, N):\n",
      "    \"\"\"\n",
      "    A technique for approximating the definite integral using straight line segments.\n",
      "    The trapezoidal rule works by approximating the region under the graph of \n",
      "    the function f(x) as a trapezoid and calculating its area. \n",
      "    \"\"\"\n",
      "    h = (b-a)/N # width of each slice\n",
      "    k = np.arange(1,N)\n",
      "    I =  h*(.5*func(a) + .5*func(b) + func(a+k*h).sum())\n",
      "    return I\n",
      "def simps(func, a, b, N):\n",
      "    \"\"\"\n",
      "    A numerical approximation of definite integrals using quadratic polynomials.\n",
      "    Parabolic arcs are used instead of the straight line segments that \n",
      "    the trapezoidal rule uses. \n",
      "    \"\"\"\n",
      "    h = (b-a)/N\n",
      "    k1 = np.arange(1,N/2+1)\n",
      "    k2 = np.arange(1,N/2)\n",
      "    \n",
      "    I = (1./3.)*h*(func(a) + func(b) + 4.*func(a+(2*k1-1)*h).sum() \\\n",
      "                   + 2.*func(a+2*k2*h).sum())\n",
      "    return I"
     ],
     "language": "python",
     "metadata": {},
     "outputs": [
      {
       "output_type": "stream",
       "stream": "stdout",
       "text": [
        "Overwriting integrators.py\n"
       ]
      }
     ],
     "prompt_number": 2
    },
    {
     "cell_type": "heading",
     "level": 4,
     "metadata": {},
     "source": [
      "(b)"
     ]
    },
    {
     "cell_type": "markdown",
     "metadata": {},
     "source": [
      "Use your trapz and simps functions from part (a) to calculate the integral of $x^4\u22122x+1$ from $x = 0$ to $x = 2$ with $N = 10$, $N = 100$, and $N = 1000$. Then compare your result to the known correct value of 4.4. What is the percent error in each case?\n",
      " "
     ]
    },
    {
     "cell_type": "code",
     "collapsed": false,
     "input": [
      "import integrators as myint\n",
      "\n",
      "func = lambda x: x**4 - 2*x + 1\n",
      "\n",
      "trapz10 = myint.trapz(func, 0, 2, 10)\n",
      "trapz100 = myint.trapz(func, 0, 2, 100)\n",
      "trapz1000 = myint.trapz(func, 0, 2, 1000)"
     ],
     "language": "python",
     "metadata": {},
     "outputs": [],
     "prompt_number": 5
    },
    {
     "cell_type": "code",
     "collapsed": false,
     "input": [
      "simps10 = myint.simps(func, 0, 2, 10)\n",
      "simps100 = myint.simps(func, 0, 2, 100)\n",
      "simps1000 = myint.simps(func, 0, 2, 1000)"
     ],
     "language": "python",
     "metadata": {},
     "outputs": [],
     "prompt_number": 6
    },
    {
     "cell_type": "code",
     "collapsed": false,
     "input": [
      "result, error = scint.quad(func, 0, 2)\n",
      "print \"Result: \", result, \",\", \"Error: \", error"
     ],
     "language": "python",
     "metadata": {},
     "outputs": [
      {
       "output_type": "stream",
       "stream": "stdout",
       "text": [
        "Result:  4.4 , Error:  5.00399649605e-14\n"
       ]
      }
     ],
     "prompt_number": 11
    },
    {
     "cell_type": "code",
     "collapsed": false,
     "input": [
      "# Find the error for all of the function calls.\n",
      "result, error = scint.quad(, 0, 2)\n",
      "print \"Result: \", result, \",\", \"Error: \", error"
     ],
     "language": "python",
     "metadata": {},
     "outputs": []
    }
   ],
   "metadata": {}
  }
 ]
}