{
 "metadata": {
  "name": "",
  "signature": "sha256:892719f42969aba4759d56f3984f0876d76be28a25c9212cc5d393bdb753b4df"
 },
 "nbformat": 3,
 "nbformat_minor": 0,
 "worksheets": [
  {
   "cells": [
    {
     "cell_type": "heading",
     "level": 1,
     "metadata": {},
     "source": [
      "Integration Exercises"
     ]
    },
    {
     "cell_type": "code",
     "collapsed": false,
     "input": [
      "%pylab inline\n",
      "import numpy as np\n",
      "import matplotlib.pyplot as plt\n",
      "import scipy.integrate as scint\n",
      "import pylab as pl"
     ],
     "language": "python",
     "metadata": {},
     "outputs": [
      {
       "output_type": "stream",
       "stream": "stdout",
       "text": [
        "Populating the interactive namespace from numpy and matplotlib\n"
       ]
      }
     ],
     "prompt_number": 1
    },
    {
     "cell_type": "heading",
     "level": 3,
     "metadata": {},
     "source": [
      "Question 1"
     ]
    },
    {
     "cell_type": "heading",
     "level": 4,
     "metadata": {},
     "source": [
      "(a)"
     ]
    },
    {
     "cell_type": "markdown",
     "metadata": {},
     "source": [
      "Write two functions trapz(func,a,b,N) and simps(func,a,b,N) to compute the integral of the function func over the variable x using the trapezoidal rule and Simpson's rule to a file called Integrators.py. Do not use the scipy.integrate built-in functions. Include docstrings with each function that describe what they do. Then import the module and use the functions to answer the following questions. To avoid namespace conflicts, import your module as myint and then call the functions from that namespace. i.e."
     ]
    },
    {
     "cell_type": "markdown",
     "metadata": {},
     "source": [
      "    import integrators as myint\n",
      "    #...your code...here\n",
      "    I = myint.trapz(func,a,b,N)"
     ]
    },
    {
     "cell_type": "markdown",
     "metadata": {},
     "source": [
      "Also, be sure that you import any needed modules inside your Integrators.py file.\n"
     ]
    },
    {
     "cell_type": "markdown",
     "metadata": {},
     "source": [
      "Trapezoidal Rule : $A_k = \\frac{1}{2} [f(a+(k\u22121)h)+f(a+kh)]$\n",
      "\n",
      "Simpson's Rule: $A_k = \\frac{1}{3}[f(a+(2k\u22122)h)+4f(a+(2k\u22121)h)f(a+2kh)]$"
     ]
    },
    {
     "cell_type": "code",
     "collapsed": false,
     "input": [
      "%%file integrators.py\n",
      "import numpy as np\n",
      "\n",
      "def trapz(func, a, b, N):\n",
      "    \"\"\"\n",
      "    A technique for approximating the definite integral using straight line segments.\n",
      "    The trapezoidal rule works by approximating the region under the graph of \n",
      "    the function f(x) as a trapezoid and calculating its area. \n",
      "    \"\"\"\n",
      "    h = (b - a)/float(N) # width of each slice\n",
      "    k = np.arange(1,N)\n",
      "    I =  h*(0.5*func(a) + 0.5*func(b) + func(a+k*h).sum())\n",
      "    return I\n",
      "\n",
      "def simps(func, a, b, N):\n",
      "    \"\"\"\n",
      "    A numerical approximation of definite integrals using quadratic polynomials.\n",
      "    Parabolic arcs are used instead of the straight line segments that \n",
      "    the trapezoidal rule uses. \n",
      "    \"\"\"\n",
      "    h = (b-a)/float(N)\n",
      "    k1 = np.arange(1,N/2+1)\n",
      "    k2 = np.arange(1,N/2)\n",
      "    \n",
      "    I = (1./3.)*h*(func(a) + func(b) + 4.*func(a+(2*k1-1)*h).sum() \\\n",
      "                   + 2.*func(a+2*k2*h).sum())\n",
      "    return I"
     ],
     "language": "python",
     "metadata": {},
     "outputs": [
      {
       "output_type": "stream",
       "stream": "stdout",
       "text": [
        "Overwriting integrators.py\n"
       ]
      }
     ],
     "prompt_number": 2
    },
    {
     "cell_type": "heading",
     "level": 4,
     "metadata": {},
     "source": [
      "(b)"
     ]
    },
    {
     "cell_type": "markdown",
     "metadata": {},
     "source": [
      "Use your trapz and simps functions from part (a) to calculate the integral of $x^4\u22122x+1$ from $x = 0$ to $x = 2$ with $N = 10$, $N = 100$, and $N = 1000$. Then compare your result to the known correct value of 4.4. What is the percent error in each case?\n",
      " "
     ]
    },
    {
     "cell_type": "code",
     "collapsed": false,
     "input": [
      "import integrators as myint\n",
      "\n",
      "func = lambda x: x**4 - 2*x + 1\n",
      "\n",
      "trapz10 = myint.trapz(func, 0, 2, 10)\n",
      "trapz100 = myint.trapz(func, 0, 2, 100)\n",
      "trapz1000 = myint.trapz(func, 0, 2, 1000)"
     ],
     "language": "python",
     "metadata": {},
     "outputs": [],
     "prompt_number": 3
    },
    {
     "cell_type": "code",
     "collapsed": false,
     "input": [
      "simps10 = myint.simps(func, 0, 2, 10)\n",
      "simps100 = myint.simps(func, 0, 2, 100)\n",
      "simps1000 = myint.simps(func, 0, 2, 1000)"
     ],
     "language": "python",
     "metadata": {},
     "outputs": [],
     "prompt_number": 4
    },
    {
     "cell_type": "code",
     "collapsed": false,
     "input": [
      "def reportedError(x):\n",
      "    \"\"\"\n",
      "    Percent error from actual value 4.4.\n",
      "    \"\"\"\n",
      "    y = 100*abs(x - 4.4)/4.4\n",
      "    return y"
     ],
     "language": "python",
     "metadata": {},
     "outputs": [],
     "prompt_number": 5
    },
    {
     "cell_type": "code",
     "collapsed": false,
     "input": [
      "result, error = scint.quad(func, 0, 2)\n",
      "print \"Quad result:      \", result,  \"           %Error: \", error\n",
      "print \"Trapz 10 result:  \", trapz10, \"       %Error: \", reportedError(trapz10)\n",
      "print \"Trapz 100 result: \", trapz10, \"       %Error: \", reportedError(trapz100)\n",
      "print \"Trapz 1000 result:\", trapz10, \"       %Error: \", reportedError(trapz1000)\n",
      "\n",
      "print \"Simps 10 result:  \", simps10, \" %Error: \", reportedError(simps10)\n",
      "print \"Simps 100 result: \", simps100, \" %Error: \", reportedError(simps100)\n",
      "print \"Simps 1000 result:\", simps1000, \"           %Error: \", reportedError(simps1000)"
     ],
     "language": "python",
     "metadata": {},
     "outputs": [
      {
       "output_type": "stream",
       "stream": "stdout",
       "text": [
        "Quad result:       4.4            %Error:  5.00399649605e-14\n",
        "Trapz 10 result:   4.50656        %Error:  2.42181818182\n",
        "Trapz 100 result:  4.50656        %Error:  0.0242421818182\n",
        "Trapz 1000 result: 4.50656        %Error:  0.000242424218175\n",
        "Simps 10 result:   4.40042666667  %Error:  0.00969696969697\n",
        "Simps 100 result:  4.40000004267  %Error:  9.69696969187e-07\n",
        "Simps 1000 result: 4.4            %Error:  9.69729347327e-11\n"
       ]
      }
     ],
     "prompt_number": 6
    },
    {
     "cell_type": "heading",
     "level": 3,
     "metadata": {},
     "source": [
      "Question 2"
     ]
    },
    {
     "cell_type": "markdown",
     "metadata": {},
     "source": [
      "$$E(x) = \\int_0^x e^{-t^2}$$"
     ]
    },
    {
     "cell_type": "markdown",
     "metadata": {},
     "source": [
      "(a) Use scipy.integrate.cumtrapz to calculate $E(x)$ for values of x from 0 to 3 in steps of 0.1. Print the result."
     ]
    },
    {
     "cell_type": "code",
     "collapsed": false,
     "input": [
      "x = np.arange(0., 4., .1)\n",
      "func = lambda x: np.exp(-x**2)\n",
      "sumtrapz = scint.cumtrapz(func(x), x, initial = 0)\n",
      "print sumtrapz"
     ],
     "language": "python",
     "metadata": {},
     "outputs": [
      {
       "output_type": "stream",
       "stream": "stdout",
       "text": [
        "[ 0.          0.09950249  0.19704446  0.29078049  0.37908424  0.46063146\n",
        "  0.53445532  0.59997046  0.6569664   0.70557392  0.7462108   0.77951463\n",
        "  0.80627088  0.82734325  0.84361215  0.85592503  0.86506023  0.87170427\n",
        "  0.87644128  0.87975207  0.88202044  0.88354398  0.88454709  0.88519453\n",
        "  0.88560418  0.88585826  0.88601274  0.88610482  0.88615862  0.88618943\n",
        "  0.88620673  0.88621626  0.8862214   0.88622411  0.88622552  0.88622624\n",
        "  0.8862266   0.88622677  0.88622685  0.88622689]\n"
       ]
      }
     ],
     "prompt_number": 7
    },
    {
     "cell_type": "markdown",
     "metadata": {},
     "source": [
      "(b) Plot the integrand as a function of t and E(x) as a function of x (both ranging from 0 to 3) on the same graph."
     ]
    },
    {
     "cell_type": "code",
     "collapsed": false,
     "input": [
      "pl.figure(figsize=(9, 6), dpi=80)\n",
      "pl.subplot(1, 1, 1)\n",
      "\n",
      "plt.plot(x, func(x), 'g', label=r'$e^{(-x^2)}$')\n",
      "plt.plot(x, sumtrapz, 'r', label=\"Integral\")\n",
      "\n",
      "plt.legend(loc=\"lower right\", fontsize = 20)\n",
      "plt.show()"
     ],
     "language": "python",
     "metadata": {},
     "outputs": [
      {
       "metadata": {},
       "output_type": "display_data",
       "png": "[encoded data removed]",
       "text": [
        "<matplotlib.figure.Figure at 0x9e59cc0>"
       ]
      }
     ],
     "prompt_number": 8
    },
    {
     "cell_type": "heading",
     "level": 3,
     "metadata": {},
     "source": [
      "Question 3"
     ]
    },
    {
     "cell_type": "markdown",
     "metadata": {},
     "source": [
      "$$P(a,b) = \\int_a^b |\\psi (x)|^2 dx \\tag{Prob of a particle btwn a  and b}$$"
     ]
    },
    {
     "cell_type": "markdown",
     "metadata": {},
     "source": [
      "$$\\psi (x) = \\sqrt{\\frac{2}{L}}\\sin{\\frac{n \\pi x}{L}}$$"
     ]
    },
    {
     "cell_type": "markdown",
     "metadata": {},
     "source": [
      "(a) What is the probability of finding the particle between $L/3$ and $L/2$ for the ground state $(n = 1)$ and for the first excited state $(n = 2)$? Let $L = 1$. Perform the integral using both scipy.integrate.trapz and scipy.integrate.quad with an accuracy of 6 sig figs. How many slices did you need to use for scipy.integrate.trapz?"
     ]
    },
    {
     "cell_type": "code",
     "collapsed": false,
     "input": [
      "def findError(x):\n",
      "    results = abs((x - .304498890522)/.304498890522)\n",
      "    return results\n",
      "\n",
      "a = 1/3.0\n",
      "b = 1/2.0\n",
      "x = linspace(a, b, 40.)\n",
      "y = linspace(a, b, 60.)\n",
      "z = linspace(1/3., 1/2., 2)\n",
      "psi = lambda x, L, n: abs(((2.0/L)**(1.0/2.0))*np.sin(n*np.pi*x/L))\n",
      "psi2 = lambda x, L, n: (2.0/L)*np.sin(n*np.pi*x/L)**2.0\n",
      "\n",
      "print \"n = \", 1,\",\", \"L = \", 1\n",
      "\n",
      "trapzProb = scint.trapz(psi2(x, 1.0, 1.0), x)\n",
      "quadProbVal, error = scint.quad(psi2, a, b, args=(1.0,1.0))\n",
      "print \"Trapz Probability: \", trapzProb, \"Trapz Error: \", findError(trapzProb), \\\n",
      "\"\\n\", \"Quad Probability: \", quadProbVal, \"and its error: \", error\n",
      "print \"% Diff\", abs((scint.trapz(psi2(x, 1., 1.), x)-quadProbVal))\n",
      "\n",
      "\n",
      "print \"n = \", 2,\",\", \"L = \", 1\n",
      "trapzProb = scint.trapz(psi2(y, 2.0, 1.0), y)\n",
      "quadProbVal, error = scint.quad(psi2, a, b, args=(2.0,1.0))\n",
      "print \"Trapz Probability: \", trapzProb, \"Trapz Error: \", findError(trapzProb), \\\n",
      "\"\\n\", \"Quad Probability: \", quadProbVal, \"and its error: \", error\n",
      "print \"slices needed =\", len(y)\n",
      "print \"% Diff\", abs((scint.trapz(psi2(y, 2, 1), y)-quadProbVal))"
     ],
     "language": "python",
     "metadata": {},
     "outputs": [
      {
       "output_type": "stream",
       "stream": "stdout",
       "text": [
        "n =  1 , L =  1\n",
        "Trapz Probability:  0.304490609141 Trapz Error:  2.71967517671e-05 \n",
        "Quad Probability:  0.304498890522 and its error:  3.3806167923e-15\n",
        "% Diff 8.28138085357e-06\n",
        "n =  2 , L =  1\n",
        "Trapz Probability:  0.0620107540412 Trapz Error:  0.796351461462 \n",
        "Quad Probability:  0.0620106140969 and its error:  6.88456115415e-16\n",
        "slices needed = 60\n",
        "% Diff 1.39944274134e-07\n"
       ]
      }
     ],
     "prompt_number": 9
    },
    {
     "cell_type": "markdown",
     "metadata": {},
     "source": [
      "(b) Make a plot of |\u03c8(x)|2 vs. x for the first two excited states with L=1."
     ]
    },
    {
     "cell_type": "code",
     "collapsed": false,
     "input": [
      "pl.figure(figsize=(9, 6), dpi=80)\n",
      "pl.subplot(1, 1, 1)\n",
      "\n",
      "print \"Trapz Probability; n = 2\", scint.trapz(psi2(z, 3, 1), z)\n",
      "quadProbVal, error = scint.quad(psi2, a, b, args=(3,1))\n",
      "print \"Actual; n = 2\", quadProbVal\n",
      "print \"percent differnece\", abs((scint.trapz(psi2(z, 3, 1), z)-quadProbVal))\n",
      "print \"slices needed =\", len(z)\n",
      "\n",
      "plt.ylim(0,2.0)\n",
      "plt.plot(x, psi2(x,2,1), label='n=2')\n",
      "plt.plot(x, psi2(x,3,1), label='n=3')\n",
      "plt.title('$\\psi^2$ vs x', fontsize=20)\n",
      "plt.legend(loc='upper center')\n",
      "plt.show()"
     ],
     "language": "python",
     "metadata": {},
     "outputs": [
      {
       "output_type": "stream",
       "stream": "stdout",
       "text": [
        "Trapz Probability; n = 2 0.0203876543578\n",
        "Actual; n = 2 0.0200261571399\n",
        "percent differnece 0.000361497217862\n",
        "slices needed = 2\n"
       ]
      },
      {
       "metadata": {},
       "output_type": "display_data",
       "png": "[encoded data removed]",
       "text": [
        "<matplotlib.figure.Figure at 0x9e7b780>"
       ]
      }
     ],
     "prompt_number": 10
    },
    {
     "cell_type": "heading",
     "level": 3,
     "metadata": {},
     "source": [
      "Question 4"
     ]
    },
    {
     "cell_type": "markdown",
     "metadata": {},
     "source": [
      "$$M = \\int \\rho dV$$\n",
      "$$\\vec r_{cm} = (x_{cm}, y_{cm}, z_{cm}) = \\frac{1}{M} \\int \\vec r \\rho dV$$\n",
      "$$I_{cm} = \\int (r-r_{cm}^2 \\rho dV)$$"
     ]
    },
    {
     "cell_type": "markdown",
     "metadata": {},
     "source": [
      "where M is the total mass (a scalar), $\\vec r_{cm}$is the center of mass position (a vector of 3 components), $I_{cm}$ are the moments of inertia about the center of mass (diagonals of a 3x3 matrix), and the mass density, $\\rho$, may be a function of the spatial variables.\n",
      "\n",
      "Consider a rectangular box: \n",
      "\n",
      "length (in x) = 0.2 m,\n",
      "\n",
      "width (in y) = 0.2 m,\n",
      "\n",
      "and height (in z) = 1.0 m\n",
      "\n",
      "centered on the origin, (0,0,0)\n",
      "\n",
      "and with a mass density, $\\rho (x,y,z) = (100 \\frac{kg}{m^4})(y + 0.1) + (100 \\frac{kg}{m^5})z^2$ for x, y, and z in meters."
     ]
    },
    {
     "cell_type": "markdown",
     "metadata": {},
     "source": [
      "(a) Use numerical integration to find $M$, $\\vec r_{cm}$, and $I_{cm}$. Note that you need $M$ to compute $\\vec r_{cm}$ and $\\vec r_{cm}$ to compute $I_{cm}$. The moments of inertia $I_{cm}$ are $I_{xx}$, $I_{yy}$, and $I_{zz}$, where e.g. $$I_{xx}= \\int \\left[ (y\u2212y_{cm})^2+(z\u2212z_{cm})^2 \\right]\u03c1dV $$"
     ]
    },
    {
     "cell_type": "code",
     "collapsed": false,
     "input": [
      "x = 0.2\n",
      "y = 0.2\n",
      "z = 1\n",
      "\n",
      "rho = lambda z,y,x : 100*(y+0.1)+(100)*z**2\n",
      "rhox = lambda z,y,x : (100*(y+0.1)+(100)*z**2)*x\n",
      "rhoy = lambda z,y,x : (100*(y+0.1)+(100)*z**2)*y\n",
      "rhoz = lambda z,y,x : (100*(y+0.1)+(100)*z**2)*z\n",
      "\n",
      "xmin = -0.1\n",
      "xmax = 0.1\n",
      "ymin = lambda x : -0.1\n",
      "ymax = lambda x : 0.1\n",
      "zmin = lambda x,y: -0.5\n",
      "zmax = lambda x,y: 0.5\n",
      "\n",
      "xcm, errx = scint.tplquad(rhox,-0.1, 0.1, ymin, ymax, zmin, zmax)\n",
      "ycm, erry = scint.tplquad(rhoy,-0.1, 0.1, ymin, ymax, zmin, zmax)\n",
      "zcm, errz = scint.tplquad(rhoz,-0.1, 0.1, ymin, ymax, zmin, zmax)\n",
      "\n",
      "M, e = scint.tplquad(rho, -0.1, 0.1, ymin, ymax, zmin, zmax)\n",
      "\n",
      "x1 = xcm/M\n",
      "y1 = ycm/M\n",
      "z1 = zcm/M\n",
      "\n",
      "rx =  lambda z,y,x: ((y-y1)**2 + (z-z1)**2)*(100*(y+0.1)+(100)*z**2)\n",
      "ry =  lambda z,y,x: ((x-x1)**2 + (z-z1)**2)*(100*(y+0.1)+(100)*z**2)\n",
      "rz =  lambda z,y,x: ((y-y1)**2 + (x-x1)**2)*(100*(y+0.1)+(100)*z**2)\n",
      "\n",
      "Ixx, ex = scint.tplquad(rx,-0.1, 0.1, ymin, ymax, zmin, zmax)\n",
      "Iyy, ex = scint.tplquad(ry,-0.1, 0.1, ymin, ymax, zmin, zmax)\n",
      "Izz, ex = scint.tplquad(rz,-0.1, 0.1, ymin, ymax, zmin, zmax) \n",
      "\n",
      "print M"
     ],
     "language": "python",
     "metadata": {},
     "outputs": [
      {
       "output_type": "stream",
       "stream": "stdout",
       "text": [
        "0.733333333333\n"
       ]
      }
     ],
     "prompt_number": 27
    },
    {
     "cell_type": "code",
     "collapsed": false,
     "input": [
      "rcm = [x1, y1, z1]\n",
      "print rcm"
     ],
     "language": "python",
     "metadata": {},
     "outputs": [
      {
       "output_type": "stream",
       "stream": "stdout",
       "text": [
        "[0.0, 0.018181818181818184, 0.0]\n"
       ]
      }
     ],
     "prompt_number": 28
    },
    {
     "cell_type": "code",
     "collapsed": false,
     "input": [
      "Icm = [Ixx, Iyy, Izz]\n",
      "print Icm"
     ],
     "language": "python",
     "metadata": {},
     "outputs": [
      {
       "output_type": "stream",
       "stream": "stdout",
       "text": [
        "[0.08553535353535353, 0.08577777777777779, 0.004646464646464648]\n"
       ]
      }
     ],
     "prompt_number": 29
    },
    {
     "cell_type": "code",
     "collapsed": false,
     "input": [
      "rho = lambda z,y,x : 5\n",
      "M, e = scint.tplquad(rho, -0.1, 0.1, ymin, ymax, zmin, zmax)\n",
      "print M"
     ],
     "language": "python",
     "metadata": {},
     "outputs": [
      {
       "output_type": "stream",
       "stream": "stdout",
       "text": [
        "0.2\n"
       ]
      }
     ],
     "prompt_number": 32
    },
    {
     "cell_type": "code",
     "collapsed": false,
     "input": [
      "x = 0.2\n",
      "y = 0.2\n",
      "z = 1\n",
      "\n",
      "Ix = 1/12.*M*(y**2+z**2)\n",
      "Iy = 1/12.*M*(x**2+z**2)\n",
      "Iz = 1/12.*M*(x**2+y**2)\n",
      "I = [Ix, Iy, Iz]\n",
      "\n",
      "print I"
     ],
     "language": "python",
     "metadata": {},
     "outputs": [
      {
       "output_type": "stream",
       "stream": "stdout",
       "text": [
        "[0.017333333333333333, 0.017333333333333333, 0.0013333333333333335]\n"
       ]
      }
     ],
     "prompt_number": 34
    },
    {
     "cell_type": "code",
     "collapsed": false,
     "input": [
      "rhox = lambda z,y,x : x*5\n",
      "rhoy = lambda z,y,x : y*5\n",
      "rhoz = lambda z,y,x : z*5\n",
      "xcm, errx = scint.tplquad(rhox,-0.1, 0.1, ymin, ymax, zmin, zmax)\n",
      "ycm, erry = scint.tplquad(rhoy,-0.1, 0.1, ymin, ymax, zmin, zmax)\n",
      "zcm, errz = scint.tplquad(rhoz,-0.1, 0.1, ymin, ymax, zmin, zmax)\n",
      "x1 = xcm/M\n",
      "y1 = ycm/M\n",
      "z1 = zcm/M\n",
      "rcm = [x1, y1, z1]\n",
      "print rcm"
     ],
     "language": "python",
     "metadata": {},
     "outputs": [
      {
       "output_type": "stream",
       "stream": "stdout",
       "text": [
        "[0.0, 0.0, 0.0]\n"
       ]
      }
     ],
     "prompt_number": 38
    },
    {
     "cell_type": "code",
     "collapsed": false,
     "input": [
      "rx =  lambda z,y,x: ((y)**2 + (z)**2)*5\n",
      "ry =  lambda z,y,x: ((x)**2 + (z)**2)*5\n",
      "rz =  lambda z,y,x: ((y)**2 + (x)**2)*5\n",
      "Ixx, ex = scint.tplquad(rx,-0.1, 0.1, ymin, ymax, zmin, zmax)\n",
      "Iyy, ex = scint.tplquad(ry,-0.1, 0.1, ymin, ymax, zmin, zmax)\n",
      "Izz, ex = scint.tplquad(rz,-0.1, 0.1, ymin, ymax, zmin, zmax) \n",
      "Icm = [Ixx, Iyy, Izz]\n",
      "print Icm"
     ],
     "language": "python",
     "metadata": {},
     "outputs": [
      {
       "output_type": "stream",
       "stream": "stdout",
       "text": [
        "[0.017333333333333336, 0.017333333333333336, 0.0013333333333333337]\n"
       ]
      }
     ],
     "prompt_number": 41
    },
    {
     "cell_type": "code",
     "collapsed": false,
     "input": [
      "diff = [I[0]-Icm[0],I[1]-Icm[1],I[2]-Icm[2]]\n",
      "print diff"
     ],
     "language": "python",
     "metadata": {},
     "outputs": [
      {
       "output_type": "stream",
       "stream": "stdout",
       "text": [
        "[-3.469446951953614e-18, -3.469446951953614e-18, -2.168404344971009e-19]\n"
       ]
      }
     ],
     "prompt_number": 42
    },
    {
     "cell_type": "code",
     "collapsed": false,
     "input": [
      "rho = lambda z,y,x : x**(2.)+y**(3.)+z**(4.)\n",
      "M, e = scint.tplquad(rho, -0.1, 0.1, ymin, ymax, zmin, zmax)\n",
      "print M"
     ],
     "language": "python",
     "metadata": {},
     "outputs": [
      {
       "output_type": "stream",
       "stream": "stdout",
       "text": [
        "0.000633333333333\n"
       ]
      }
     ],
     "prompt_number": 43
    },
    {
     "cell_type": "code",
     "collapsed": false,
     "input": [
      "rhox = lambda z,y,x : (x**(2.)+y**(3.)+z**(4.))*x\n",
      "rhoy = lambda z,y,x : (x**(2.)+y**(3.)+z**(4.))*y\n",
      "rhoz = lambda z,y,x : (x**(2.)+y**(3.)+z**(4.))*z\n",
      "xcm, errx = scint.tplquad(rhox,-0.1, 0.1, ymin, ymax, zmin, zmax)\n",
      "ycm, erry = scint.tplquad(rhoy,-0.1, 0.1, ymin, ymax, zmin, zmax)\n",
      "zcm, errz = scint.tplquad(rhoz,-0.1, 0.1, ymin, ymax, zmin, zmax)\n",
      "rcm = [xcm, ycm, zcm]\n",
      "print rcm"
     ],
     "language": "python",
     "metadata": {},
     "outputs": [
      {
       "output_type": "stream",
       "stream": "stdout",
       "text": [
        "[0.0, 8.000000000000002e-07, 0.0]\n"
       ]
      }
     ],
     "prompt_number": 46
    },
    {
     "cell_type": "code",
     "collapsed": false,
     "input": [
      "rx =  lambda z,y,x: ((y-ycm)**2 + (z-zcm)**2)*x**(2.)+y**(3.)+z**(4.)\n",
      "ry =  lambda z,y,x: ((x-xcm)**2 + (z-zcm)**2)*x**(2.)+y**(3.)+z**(4.)\n",
      "rz =  lambda z,y,x: ((y-ycm)**2 + (x-xcm)**2)*x**(2.)+y**(3.)+z**(4.)\n",
      "Ixx, ex = scint.tplquad(rx,-0.1, 0.1, ymin, ymax, zmin, zmax)\n",
      "Iyy, ex = scint.tplquad(ry,-0.1, 0.1, ymin, ymax, zmin, zmax)\n",
      "Izz, ex = scint.tplquad(rz,-0.1, 0.1, ymin, ymax, zmin, zmax)\n",
      "\n",
      "Icm = [Ixx, Iyy, Izz]\n",
      "print Icm"
     ],
     "language": "python",
     "metadata": {},
     "outputs": [
      {
       "output_type": "stream",
       "stream": "stdout",
       "text": [
        "[0.000511555555555641, 0.0005119111111111113, 0.0005012444444445299]\n"
       ]
      }
     ],
     "prompt_number": 49
    },
    {
     "cell_type": "code",
     "collapsed": false,
     "input": [],
     "language": "python",
     "metadata": {},
     "outputs": [],
     "prompt_number": 22
    },
    {
     "cell_type": "code",
     "collapsed": false,
     "input": [],
     "language": "python",
     "metadata": {},
     "outputs": [],
     "prompt_number": 22
    }
   ],
   "metadata": {}
  }
 ]
}