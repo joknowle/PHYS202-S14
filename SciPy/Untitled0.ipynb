{
 "metadata": {
  "name": "",
  "signature": "sha256:df9f6ca463653281f48965bf2c6330103b1f41cd87ef995e3d5d27c723f8f1ad"
 },
 "nbformat": 3,
 "nbformat_minor": 0,
 "worksheets": [
  {
   "cells": [
    {
     "cell_type": "heading",
     "level": 1,
     "metadata": {},
     "source": [
      "Random Numbers, Monte-Carlo Sampling, and Simulation"
     ]
    },
    {
     "cell_type": "code",
     "collapsed": false,
     "input": [],
     "language": "python",
     "metadata": {},
     "outputs": []
    }
   ],
   "metadata": {}
  }
 ]
}