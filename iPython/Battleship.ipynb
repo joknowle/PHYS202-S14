{
 "metadata": {
  "name": "",
  "signature": "sha256:e008be5ecc1c3cad797c6a9fef9aa76ba68c2a0d5d60eb0e76a78ebeefc19332"
 },
 "nbformat": 3,
 "nbformat_minor": 0,
 "worksheets": [
  {
   "cells": [
    {
     "cell_type": "code",
     "collapsed": false,
     "input": [
      "import random \n",
      "from ipythonblocks import BlockGrid as BG\n",
      "import numpy as np"
     ],
     "language": "python",
     "metadata": {},
     "outputs": [],
     "prompt_number": 82
    },
    {
     "cell_type": "code",
     "collapsed": false,
     "input": [
      "Red = (199,27,27)\n",
      "Black = (0,0,0)\n",
      "Fin = (255,128,0)\n",
      "turn = 0\n",
      "\n",
      "print \"How big is the ocean grid? (Minimum 3x3)\"\n",
      "try:\n",
      "    xsize = int(raw_input(\"Row: \"))\n",
      "    if xsize < 3:\n",
      "        xsize = 3\n",
      "    ysize = int(raw_input(\"Col: \"))\n",
      "    if ysize < 3:\n",
      "        ysize = 3\n",
      "except ValueError:\n",
      "    pass\n",
      "    \n",
      "print \"Let's play Battleship!\"\n",
      "grid = BG(xsize, ysize, fill=(5,125,144))\n",
      "grid.show()\n",
      "\n",
      "print \"How many turns would you like? (Minimum 3 turns)\"\n",
      "tries = int(raw_input())\n",
      "if tries < 3:\n",
      "    tries = 3"
     ],
     "language": "python",
     "metadata": {},
     "outputs": [
      {
       "output_type": "stream",
       "stream": "stdout",
       "text": [
        "How big is the ocean grid? (Minimum 5x5)\n"
       ]
      },
      {
       "name": "stdout",
       "output_type": "stream",
       "stream": "stdout",
       "text": [
        "row 8\n"
       ]
      },
      {
       "name": "stdout",
       "output_type": "stream",
       "stream": "stdout",
       "text": [
        "column 8\n"
       ]
      },
      {
       "output_type": "stream",
       "stream": "stdout",
       "text": [
        "Let's play Battleship!\n"
       ]
      },
      {
       "html": [
        "<style type=\"text/css\">table.blockgrid {border: none;} .blockgrid tr {border: none;} .blockgrid td {padding: 0px;} #blocksbfb2d2e8-ef10-4a32-8ebe-4b250648e758 td {border: 1px solid white;}</style><table id=\"blocksbfb2d2e8-ef10-4a32-8ebe-4b250648e758\" class=\"blockgrid\"><tbody><tr><td title=\"Index: [0, 0]&#10;Color: (5, 125, 144)\" style=\"width: 20px; height: 20px;background-color: rgb(5, 125, 144);\"></td><td title=\"Index: [0, 1]&#10;Color: (5, 125, 144)\" style=\"width: 20px; height: 20px;background-color: rgb(5, 125, 144);\"></td><td title=\"Index: [0, 2]&#10;Color: (5, 125, 144)\" style=\"width: 20px; height: 20px;background-color: rgb(5, 125, 144);\"></td><td title=\"Index: [0, 3]&#10;Color: (5, 125, 144)\" style=\"width: 20px; height: 20px;background-color: rgb(5, 125, 144);\"></td><td title=\"Index: [0, 4]&#10;Color: (5, 125, 144)\" style=\"width: 20px; height: 20px;background-color: rgb(5, 125, 144);\"></td><td title=\"Index: [0, 5]&#10;Color: (5, 125, 144)\" style=\"width: 20px; height: 20px;background-color: rgb(5, 125, 144);\"></td><td title=\"Index: [0, 6]&#10;Color: (5, 125, 144)\" style=\"width: 20px; height: 20px;background-color: rgb(5, 125, 144);\"></td><td title=\"Index: [0, 7]&#10;Color: (5, 125, 144)\" style=\"width: 20px; height: 20px;background-color: rgb(5, 125, 144);\"></td></tr><tr><td title=\"Index: [1, 0]&#10;Color: (5, 125, 144)\" style=\"width: 20px; height: 20px;background-color: rgb(5, 125, 144);\"></td><td title=\"Index: [1, 1]&#10;Color: (5, 125, 144)\" style=\"width: 20px; height: 20px;background-color: rgb(5, 125, 144);\"></td><td title=\"Index: [1, 2]&#10;Color: (5, 125, 144)\" style=\"width: 20px; height: 20px;background-color: rgb(5, 125, 144);\"></td><td title=\"Index: [1, 3]&#10;Color: (5, 125, 144)\" style=\"width: 20px; height: 20px;background-color: rgb(5, 125, 144);\"></td><td title=\"Index: [1, 4]&#10;Color: (5, 125, 144)\" style=\"width: 20px; height: 20px;background-color: rgb(5, 125, 144);\"></td><td title=\"Index: [1, 5]&#10;Color: (5, 125, 144)\" style=\"width: 20px; height: 20px;background-color: rgb(5, 125, 144);\"></td><td title=\"Index: [1, 6]&#10;Color: (5, 125, 144)\" style=\"width: 20px; height: 20px;background-color: rgb(5, 125, 144);\"></td><td title=\"Index: [1, 7]&#10;Color: (5, 125, 144)\" style=\"width: 20px; height: 20px;background-color: rgb(5, 125, 144);\"></td></tr><tr><td title=\"Index: [2, 0]&#10;Color: (5, 125, 144)\" style=\"width: 20px; height: 20px;background-color: rgb(5, 125, 144);\"></td><td title=\"Index: [2, 1]&#10;Color: (5, 125, 144)\" style=\"width: 20px; height: 20px;background-color: rgb(5, 125, 144);\"></td><td title=\"Index: [2, 2]&#10;Color: (5, 125, 144)\" style=\"width: 20px; height: 20px;background-color: rgb(5, 125, 144);\"></td><td title=\"Index: [2, 3]&#10;Color: (5, 125, 144)\" style=\"width: 20px; height: 20px;background-color: rgb(5, 125, 144);\"></td><td title=\"Index: [2, 4]&#10;Color: (5, 125, 144)\" style=\"width: 20px; height: 20px;background-color: rgb(5, 125, 144);\"></td><td title=\"Index: [2, 5]&#10;Color: (5, 125, 144)\" style=\"width: 20px; height: 20px;background-color: rgb(5, 125, 144);\"></td><td title=\"Index: [2, 6]&#10;Color: (5, 125, 144)\" style=\"width: 20px; height: 20px;background-color: rgb(5, 125, 144);\"></td><td title=\"Index: [2, 7]&#10;Color: (5, 125, 144)\" style=\"width: 20px; height: 20px;background-color: rgb(5, 125, 144);\"></td></tr><tr><td title=\"Index: [3, 0]&#10;Color: (5, 125, 144)\" style=\"width: 20px; height: 20px;background-color: rgb(5, 125, 144);\"></td><td title=\"Index: [3, 1]&#10;Color: (5, 125, 144)\" style=\"width: 20px; height: 20px;background-color: rgb(5, 125, 144);\"></td><td title=\"Index: [3, 2]&#10;Color: (5, 125, 144)\" style=\"width: 20px; height: 20px;background-color: rgb(5, 125, 144);\"></td><td title=\"Index: [3, 3]&#10;Color: (5, 125, 144)\" style=\"width: 20px; height: 20px;background-color: rgb(5, 125, 144);\"></td><td title=\"Index: [3, 4]&#10;Color: (5, 125, 144)\" style=\"width: 20px; height: 20px;background-color: rgb(5, 125, 144);\"></td><td title=\"Index: [3, 5]&#10;Color: (5, 125, 144)\" style=\"width: 20px; height: 20px;background-color: rgb(5, 125, 144);\"></td><td title=\"Index: [3, 6]&#10;Color: (5, 125, 144)\" style=\"width: 20px; height: 20px;background-color: rgb(5, 125, 144);\"></td><td title=\"Index: [3, 7]&#10;Color: (5, 125, 144)\" style=\"width: 20px; height: 20px;background-color: rgb(5, 125, 144);\"></td></tr><tr><td title=\"Index: [4, 0]&#10;Color: (5, 125, 144)\" style=\"width: 20px; height: 20px;background-color: rgb(5, 125, 144);\"></td><td title=\"Index: [4, 1]&#10;Color: (5, 125, 144)\" style=\"width: 20px; height: 20px;background-color: rgb(5, 125, 144);\"></td><td title=\"Index: [4, 2]&#10;Color: (5, 125, 144)\" style=\"width: 20px; height: 20px;background-color: rgb(5, 125, 144);\"></td><td title=\"Index: [4, 3]&#10;Color: (5, 125, 144)\" style=\"width: 20px; height: 20px;background-color: rgb(5, 125, 144);\"></td><td title=\"Index: [4, 4]&#10;Color: (5, 125, 144)\" style=\"width: 20px; height: 20px;background-color: rgb(5, 125, 144);\"></td><td title=\"Index: [4, 5]&#10;Color: (5, 125, 144)\" style=\"width: 20px; height: 20px;background-color: rgb(5, 125, 144);\"></td><td title=\"Index: [4, 6]&#10;Color: (5, 125, 144)\" style=\"width: 20px; height: 20px;background-color: rgb(5, 125, 144);\"></td><td title=\"Index: [4, 7]&#10;Color: (5, 125, 144)\" style=\"width: 20px; height: 20px;background-color: rgb(5, 125, 144);\"></td></tr><tr><td title=\"Index: [5, 0]&#10;Color: (5, 125, 144)\" style=\"width: 20px; height: 20px;background-color: rgb(5, 125, 144);\"></td><td title=\"Index: [5, 1]&#10;Color: (5, 125, 144)\" style=\"width: 20px; height: 20px;background-color: rgb(5, 125, 144);\"></td><td title=\"Index: [5, 2]&#10;Color: (5, 125, 144)\" style=\"width: 20px; height: 20px;background-color: rgb(5, 125, 144);\"></td><td title=\"Index: [5, 3]&#10;Color: (5, 125, 144)\" style=\"width: 20px; height: 20px;background-color: rgb(5, 125, 144);\"></td><td title=\"Index: [5, 4]&#10;Color: (5, 125, 144)\" style=\"width: 20px; height: 20px;background-color: rgb(5, 125, 144);\"></td><td title=\"Index: [5, 5]&#10;Color: (5, 125, 144)\" style=\"width: 20px; height: 20px;background-color: rgb(5, 125, 144);\"></td><td title=\"Index: [5, 6]&#10;Color: (5, 125, 144)\" style=\"width: 20px; height: 20px;background-color: rgb(5, 125, 144);\"></td><td title=\"Index: [5, 7]&#10;Color: (5, 125, 144)\" style=\"width: 20px; height: 20px;background-color: rgb(5, 125, 144);\"></td></tr><tr><td title=\"Index: [6, 0]&#10;Color: (5, 125, 144)\" style=\"width: 20px; height: 20px;background-color: rgb(5, 125, 144);\"></td><td title=\"Index: [6, 1]&#10;Color: (5, 125, 144)\" style=\"width: 20px; height: 20px;background-color: rgb(5, 125, 144);\"></td><td title=\"Index: [6, 2]&#10;Color: (5, 125, 144)\" style=\"width: 20px; height: 20px;background-color: rgb(5, 125, 144);\"></td><td title=\"Index: [6, 3]&#10;Color: (5, 125, 144)\" style=\"width: 20px; height: 20px;background-color: rgb(5, 125, 144);\"></td><td title=\"Index: [6, 4]&#10;Color: (5, 125, 144)\" style=\"width: 20px; height: 20px;background-color: rgb(5, 125, 144);\"></td><td title=\"Index: [6, 5]&#10;Color: (5, 125, 144)\" style=\"width: 20px; height: 20px;background-color: rgb(5, 125, 144);\"></td><td title=\"Index: [6, 6]&#10;Color: (5, 125, 144)\" style=\"width: 20px; height: 20px;background-color: rgb(5, 125, 144);\"></td><td title=\"Index: [6, 7]&#10;Color: (5, 125, 144)\" style=\"width: 20px; height: 20px;background-color: rgb(5, 125, 144);\"></td></tr><tr><td title=\"Index: [7, 0]&#10;Color: (5, 125, 144)\" style=\"width: 20px; height: 20px;background-color: rgb(5, 125, 144);\"></td><td title=\"Index: [7, 1]&#10;Color: (5, 125, 144)\" style=\"width: 20px; height: 20px;background-color: rgb(5, 125, 144);\"></td><td title=\"Index: [7, 2]&#10;Color: (5, 125, 144)\" style=\"width: 20px; height: 20px;background-color: rgb(5, 125, 144);\"></td><td title=\"Index: [7, 3]&#10;Color: (5, 125, 144)\" style=\"width: 20px; height: 20px;background-color: rgb(5, 125, 144);\"></td><td title=\"Index: [7, 4]&#10;Color: (5, 125, 144)\" style=\"width: 20px; height: 20px;background-color: rgb(5, 125, 144);\"></td><td title=\"Index: [7, 5]&#10;Color: (5, 125, 144)\" style=\"width: 20px; height: 20px;background-color: rgb(5, 125, 144);\"></td><td title=\"Index: [7, 6]&#10;Color: (5, 125, 144)\" style=\"width: 20px; height: 20px;background-color: rgb(5, 125, 144);\"></td><td title=\"Index: [7, 7]&#10;Color: (5, 125, 144)\" style=\"width: 20px; height: 20px;background-color: rgb(5, 125, 144);\"></td></tr></tbody></table>"
       ],
       "metadata": {},
       "output_type": "display_data",
       "text": [
        "<IPython.core.display.HTML at 0x4248630>"
       ]
      },
      {
       "output_type": "stream",
       "stream": "stdout",
       "text": [
        "How many turns would you like?\n"
       ]
      },
      {
       "name": "stdout",
       "output_type": "stream",
       "stream": "stdout",
       "text": [
        "0\n"
       ]
      }
     ],
     "prompt_number": 21
    },
    {
     "cell_type": "markdown",
     "metadata": {},
     "source": [
      "Setting up the board size, number of turns, and displaying the playing grid. Minimum requirements to play. global variables"
     ]
    },
    {
     "cell_type": "code",
     "collapsed": false,
     "input": [
      "# Secret placement of the ships on board. \n",
      "\n",
      "board = np.zeros((xsize, ysize))\n",
      "fix = randint(0,1)\n",
      "sRow1 = randint(1, xsize)\n",
      "sCol1 = randint(1, ysize)\n",
      "\n",
      "if fix == 0:  # 0 Value implies vertical translation\n",
      "    if sRow1 == 1: \n",
      "        sRow2 = sRow1 + 1\n",
      "        sRow3 = sRow2 + 1\n",
      "    elif sRow1 == ysize:\n",
      "        sRow2 = sRow1 - 1\n",
      "        sRow3 = sRow2 - 1\n",
      "    elif sRow1 >= (ysize - 2) and sRow1 != ysize:\n",
      "        sRow2 = sRow1 - 1\n",
      "        sRow3 = sRow1 + 1\n",
      "    else:\n",
      "        r = random.choice([-1, 1])\n",
      "        sRow2 = sRow1 + r\n",
      "        if r == -1:\n",
      "            sRow3 = sRow1 + 1\n",
      "        else: \n",
      "            sRow3 = sRow1 - 1\n",
      "    sCol2 = sCol1\n",
      "    sCol3 = sCol1\n",
      "elif fix == 1:  # 1 Value implies Horizontal translation\n",
      "    if sCol1 == 1:\n",
      "        sCol2 = sCol1 + 1\n",
      "        sCol3 = sCol2 + 1\n",
      "    elif sCol1 == xsize:\n",
      "        sCol2 = sCol1 - 1\n",
      "        sCol3 = sCol2 - 1\n",
      "    elif sCol1 >= (xsize - 2) and sCol1 != xsize:\n",
      "        sCol2 = sCol1 - 1\n",
      "        sCol3 = sCol1 + 1\n",
      "    else:\n",
      "        r = random.choice([-1, 1])\n",
      "        sCol2 = sCol1 + r\n",
      "        if r == -1:\n",
      "            sCol3 = sCol1 + 1\n",
      "        else: \n",
      "            sCol3 = sCol1 - 1\n",
      "    sRow2 = sRow1\n",
      "    sRow3 = sRow1"
     ],
     "language": "python",
     "metadata": {},
     "outputs": [],
     "prompt_number": 122
    },
    {
     "cell_type": "markdown",
     "metadata": {},
     "source": [
      "The board array is created as an array of zeros, the fix determins which direction the ship is in, vertical or horizontal. It's a random integer, equal to 0 or 1. Code then follows to place the ship according to values generated. Checks are made to not go out of bounds on the board with a minimum board size of 3."
     ]
    },
    {
     "cell_type": "code",
     "collapsed": false,
     "input": [
      "for x in range(tries + 1):\n",
      "    print \"Turn \", turn + 1\n",
      "    gRow = int(raw_input(\"Guess Row: \")) - 1\n",
      "    gCol = int(raw_input(\"Guess Col: \")) - 1\n",
      "    \n",
      "    while (gRow < 0 or gRow > ysize) or (gCol < 0 or gCol > xsize) or (board[gRow, gCol] == -1):\n",
      "        print \"Error, retry!\"\n",
      "        gRow = int(raw_input(\"Guess Row: \")) - 1\n",
      "        gCol = int(raw_input(\"Guess Col: \")) - 1\n",
      "        \n",
      "    if (gRow == sRow1 - 1 and (gCol == sCol1 - 1 or gCol == sCol2 - 1 or gCol == sCol3 - 1)) or \\\n",
      "    (gCol == sCol1 - 1 and (gRow == sRow1 - 1 or gRow == sRow2 - 1 or gRow == sRow3 - 1)):\n",
      "        print \"You hit my Battleship!\"\n",
      "        grid[gRow, gCol] = Red  # Turns red\n",
      "        board[gRow, gCol] = 1\n",
      "        grid.show()\n",
      "        if (board == 1).sum() == 3:\n",
      "            print \"You made it rain!\"\n",
      "            break\n",
      "    else:\n",
      "        print \"You missed my battleship!\"\n",
      "        board[gRow, gCol] = -1\n",
      "        grid[gRow, gCol] = Black  #turns black\n",
      "        grid.show()\n",
      "\n",
      "    if turn >= tries - 1:\n",
      "        print \"Game Over\"\n",
      "        if fix == 0:\n",
      "            grid[sRow1 - 1, sCol1 - 1] = (255,128,0)\n",
      "            grid[sRow2 - 1, sCol1 - 1] = (255,128,0)\n",
      "            grid[sRow3 - 1, sCol1 - 1] = (255,128,0)\n",
      "        else:\n",
      "            grid[sRow1 - 1, sCol1 - 1] = (255,128,0)\n",
      "            grid[sRow1 - 1, sCol2 - 1] = (255,128,0)\n",
      "            grid[sRow1 - 1, sCol3 - 1] = (255,128,0)\n",
      "        grid.show()\n",
      "        break\n",
      "    turn += 1"
     ],
     "language": "python",
     "metadata": {},
     "outputs": []
    },
    {
     "cell_type": "markdown",
     "metadata": {},
     "source": [
      "For loop establishes whole gameplay based on number set for tries. Loop if invalid guesses. Turn tiles red if they correctly guess the location. Set background array values to -1 once it has been guessed, and check to see if that element has been chosen before. When game ends, the location is shown."
     ]
    },
    {
     "cell_type": "code",
     "collapsed": false,
     "input": [
      "import random\n",
      "from random import randint\n",
      "from ipythonblocks import BlockGrid as BG\n",
      "import numpy as np\n",
      "\n",
      "Red = (199,27,27)\n",
      "Black = (0,0,0)\n",
      "Fin = (255,128,0)\n",
      "turn = 0\n",
      "\n",
      "print \"How big is the ocean grid? (Minimum 3x3)\"\n",
      "try:\n",
      "    xsize = int(raw_input(\"Row: \"))\n",
      "    if xsize < 3:\n",
      "        xsize = 3\n",
      "    ysize = int(raw_input(\"Col: \"))\n",
      "    if ysize < 3:\n",
      "        ysize = 3\n",
      "except ValueError:\n",
      "    pass\n",
      "    \n",
      "print \"Let's play Battleship!\"\n",
      "grid = BG(xsize, ysize, fill=(5,125,144))\n",
      "grid.show()\n",
      "\n",
      "print \"How many turns would you like? (Minimum 3 turns)\"\n",
      "tries = int(raw_input())\n",
      "if tries < 3:\n",
      "    tries = 3\n",
      "\n",
      "# Secret placement of the ships on board. \n",
      "\n",
      "board = np.zeros((xsize, ysize))\n",
      "fix = randint(0,1)\n",
      "sRow1 = randint(1, xsize)\n",
      "sCol1 = randint(1, ysize)\n",
      "\n",
      "if fix == 0:  # 0 Value implies vertical translation\n",
      "    if sRow1 == 1: \n",
      "        sRow2 = sRow1 + 1\n",
      "        sRow3 = sRow2 + 1\n",
      "    elif sRow1 == ysize:\n",
      "        sRow2 = sRow1 - 1\n",
      "        sRow3 = sRow2 - 1\n",
      "    elif sRow1 >= (ysize - 2) and sRow1 != ysize:\n",
      "        sRow2 = sRow1 - 1\n",
      "        sRow3 = sRow1 + 1\n",
      "    else:\n",
      "        r = random.choice([-1, 1])\n",
      "        sRow2 = sRow1 + r\n",
      "        if r == -1:\n",
      "            sRow3 = sRow1 + 1\n",
      "        else: \n",
      "            sRow3 = sRow1 - 1\n",
      "    sCol2 = sCol1\n",
      "    sCol3 = sCol1\n",
      "elif fix == 1:  # 1 Value implies Horizontal translation\n",
      "    if sCol1 == 1:\n",
      "        sCol2 = sCol1 + 1\n",
      "        sCol3 = sCol2 + 1\n",
      "    elif sCol1 == xsize:\n",
      "        sCol2 = sCol1 - 1\n",
      "        sCol3 = sCol2 - 1\n",
      "    elif sCol1 >= (xsize - 2) and sCol1 != xsize:\n",
      "        sCol2 = sCol1 - 1\n",
      "        sCol3 = sCol1 + 1\n",
      "    else:\n",
      "        r = random.choice([-1, 1])\n",
      "        sCol2 = sCol1 + r\n",
      "        if r == -1:\n",
      "            sCol3 = sCol1 + 1\n",
      "        else: \n",
      "            sCol3 = sCol1 - 1\n",
      "    sRow2 = sRow1\n",
      "    sRow3 = sRow1\n",
      "            \n",
      "for x in range(tries + 1):\n",
      "    print \"Turn \", turn + 1\n",
      "    gRow = int(raw_input(\"Guess Row: \")) - 1\n",
      "    gCol = int(raw_input(\"Guess Col: \")) - 1\n",
      "    \n",
      "    while (gRow < 0 or gRow > ysize) or (gCol < 0 or gCol > xsize) or (board[gRow, gCol] == -1):\n",
      "        print \"Error, retry!\"\n",
      "        gRow = int(raw_input(\"Guess Row: \")) - 1\n",
      "        gCol = int(raw_input(\"Guess Col: \")) - 1\n",
      "        \n",
      "    if (gRow == sRow1 - 1 and (gCol == sCol1 - 1 or gCol == sCol2 - 1 or gCol == sCol3 - 1)) or \\\n",
      "    (gCol == sCol1 - 1 and (gRow == sRow1 - 1 or gRow == sRow2 - 1 or gRow == sRow3 - 1)):\n",
      "        print \"You hit my Battleship!\"\n",
      "        grid[gRow, gCol] = Red  # Turns red\n",
      "        board[gRow, gCol] = 1\n",
      "        grid.show()\n",
      "        if (board == 1).sum() == 3:\n",
      "            print \"You made it rain!\"\n",
      "            break\n",
      "    else:\n",
      "        print \"You missed my battleship!\"\n",
      "        board[gRow, gCol] = -1\n",
      "        grid[gRow, gCol] = Black  #turns black\n",
      "        grid.show()\n",
      "\n",
      "    if turn >= tries - 1:\n",
      "        print \"Game Over\"\n",
      "        if fix == 0:\n",
      "            grid[sRow1 - 1, sCol1 - 1] = Fin\n",
      "            grid[sRow2 - 1, sCol1 - 1] = Fin\n",
      "            grid[sRow3 - 1, sCol1 - 1] = Fin\n",
      "        else:\n",
      "            grid[sRow1 - 1, sCol1 - 1] = Fin\n",
      "            grid[sRow1 - 1, sCol2 - 1] = Fin\n",
      "            grid[sRow1 - 1, sCol3 - 1] = Fin\n",
      "        grid.show()\n",
      "        break\n",
      "    turn += 1"
     ],
     "language": "python",
     "metadata": {},
     "outputs": [
      {
       "output_type": "stream",
       "stream": "stdout",
       "text": [
        "How big is the ocean grid? (Minimum 3x3)\n"
       ]
      },
      {
       "name": "stdout",
       "output_type": "stream",
       "stream": "stdout",
       "text": [
        "Row: 3\n"
       ]
      },
      {
       "name": "stdout",
       "output_type": "stream",
       "stream": "stdout",
       "text": [
        "Col: 3\n"
       ]
      },
      {
       "output_type": "stream",
       "stream": "stdout",
       "text": [
        "Let's play Battleship!\n"
       ]
      },
      {
       "html": [
        "<style type=\"text/css\">table.blockgrid {border: none;} .blockgrid tr {border: none;} .blockgrid td {padding: 0px;} #blockscaf3be14-c1d5-4aba-af4f-dba657dbdfa7 td {border: 1px solid white;}</style><table id=\"blockscaf3be14-c1d5-4aba-af4f-dba657dbdfa7\" class=\"blockgrid\"><tbody><tr><td title=\"Index: [0, 0]&#10;Color: (5, 125, 144)\" style=\"width: 20px; height: 20px;background-color: rgb(5, 125, 144);\"></td><td title=\"Index: [0, 1]&#10;Color: (5, 125, 144)\" style=\"width: 20px; height: 20px;background-color: rgb(5, 125, 144);\"></td><td title=\"Index: [0, 2]&#10;Color: (5, 125, 144)\" style=\"width: 20px; height: 20px;background-color: rgb(5, 125, 144);\"></td></tr><tr><td title=\"Index: [1, 0]&#10;Color: (5, 125, 144)\" style=\"width: 20px; height: 20px;background-color: rgb(5, 125, 144);\"></td><td title=\"Index: [1, 1]&#10;Color: (5, 125, 144)\" style=\"width: 20px; height: 20px;background-color: rgb(5, 125, 144);\"></td><td title=\"Index: [1, 2]&#10;Color: (5, 125, 144)\" style=\"width: 20px; height: 20px;background-color: rgb(5, 125, 144);\"></td></tr><tr><td title=\"Index: [2, 0]&#10;Color: (5, 125, 144)\" style=\"width: 20px; height: 20px;background-color: rgb(5, 125, 144);\"></td><td title=\"Index: [2, 1]&#10;Color: (5, 125, 144)\" style=\"width: 20px; height: 20px;background-color: rgb(5, 125, 144);\"></td><td title=\"Index: [2, 2]&#10;Color: (5, 125, 144)\" style=\"width: 20px; height: 20px;background-color: rgb(5, 125, 144);\"></td></tr></tbody></table>"
       ],
       "metadata": {},
       "output_type": "display_data",
       "text": [
        "<IPython.core.display.HTML at 0x3cb1f60>"
       ]
      },
      {
       "output_type": "stream",
       "stream": "stdout",
       "text": [
        "How many turns would you like? (Minimum 3 turns)\n"
       ]
      },
      {
       "name": "stdout",
       "output_type": "stream",
       "stream": "stdout",
       "text": [
        "5\n"
       ]
      },
      {
       "output_type": "stream",
       "stream": "stdout",
       "text": [
        "Turn  1\n"
       ]
      },
      {
       "name": "stdout",
       "output_type": "stream",
       "stream": "stdout",
       "text": [
        "Guess Row: 1\n"
       ]
      },
      {
       "name": "stdout",
       "output_type": "stream",
       "stream": "stdout",
       "text": [
        "Guess Col: 1\n"
       ]
      },
      {
       "output_type": "stream",
       "stream": "stdout",
       "text": [
        "You missed my battleship!\n"
       ]
      },
      {
       "html": [
        "<style type=\"text/css\">table.blockgrid {border: none;} .blockgrid tr {border: none;} .blockgrid td {padding: 0px;} #blocksa26df0ce-2e92-4abe-ae09-726f1979f4b4 td {border: 1px solid white;}</style><table id=\"blocksa26df0ce-2e92-4abe-ae09-726f1979f4b4\" class=\"blockgrid\"><tbody><tr><td title=\"Index: [0, 0]&#10;Color: (0, 0, 0)\" style=\"width: 20px; height: 20px;background-color: rgb(0, 0, 0);\"></td><td title=\"Index: [0, 1]&#10;Color: (5, 125, 144)\" style=\"width: 20px; height: 20px;background-color: rgb(5, 125, 144);\"></td><td title=\"Index: [0, 2]&#10;Color: (5, 125, 144)\" style=\"width: 20px; height: 20px;background-color: rgb(5, 125, 144);\"></td></tr><tr><td title=\"Index: [1, 0]&#10;Color: (5, 125, 144)\" style=\"width: 20px; height: 20px;background-color: rgb(5, 125, 144);\"></td><td title=\"Index: [1, 1]&#10;Color: (5, 125, 144)\" style=\"width: 20px; height: 20px;background-color: rgb(5, 125, 144);\"></td><td title=\"Index: [1, 2]&#10;Color: (5, 125, 144)\" style=\"width: 20px; height: 20px;background-color: rgb(5, 125, 144);\"></td></tr><tr><td title=\"Index: [2, 0]&#10;Color: (5, 125, 144)\" style=\"width: 20px; height: 20px;background-color: rgb(5, 125, 144);\"></td><td title=\"Index: [2, 1]&#10;Color: (5, 125, 144)\" style=\"width: 20px; height: 20px;background-color: rgb(5, 125, 144);\"></td><td title=\"Index: [2, 2]&#10;Color: (5, 125, 144)\" style=\"width: 20px; height: 20px;background-color: rgb(5, 125, 144);\"></td></tr></tbody></table>"
       ],
       "metadata": {},
       "output_type": "display_data",
       "text": [
        "<IPython.core.display.HTML at 0x42d2f98>"
       ]
      },
      {
       "output_type": "stream",
       "stream": "stdout",
       "text": [
        "Turn  2\n"
       ]
      },
      {
       "name": "stdout",
       "output_type": "stream",
       "stream": "stdout",
       "text": [
        "Guess Row: 2\n"
       ]
      },
      {
       "name": "stdout",
       "output_type": "stream",
       "stream": "stdout",
       "text": [
        "Guess Col: 2\n"
       ]
      },
      {
       "output_type": "stream",
       "stream": "stdout",
       "text": [
        "You missed my battleship!\n"
       ]
      },
      {
       "html": [
        "<style type=\"text/css\">table.blockgrid {border: none;} .blockgrid tr {border: none;} .blockgrid td {padding: 0px;} #blocksaecd209c-be98-4b10-839f-8b2b93808306 td {border: 1px solid white;}</style><table id=\"blocksaecd209c-be98-4b10-839f-8b2b93808306\" class=\"blockgrid\"><tbody><tr><td title=\"Index: [0, 0]&#10;Color: (0, 0, 0)\" style=\"width: 20px; height: 20px;background-color: rgb(0, 0, 0);\"></td><td title=\"Index: [0, 1]&#10;Color: (5, 125, 144)\" style=\"width: 20px; height: 20px;background-color: rgb(5, 125, 144);\"></td><td title=\"Index: [0, 2]&#10;Color: (5, 125, 144)\" style=\"width: 20px; height: 20px;background-color: rgb(5, 125, 144);\"></td></tr><tr><td title=\"Index: [1, 0]&#10;Color: (5, 125, 144)\" style=\"width: 20px; height: 20px;background-color: rgb(5, 125, 144);\"></td><td title=\"Index: [1, 1]&#10;Color: (0, 0, 0)\" style=\"width: 20px; height: 20px;background-color: rgb(0, 0, 0);\"></td><td title=\"Index: [1, 2]&#10;Color: (5, 125, 144)\" style=\"width: 20px; height: 20px;background-color: rgb(5, 125, 144);\"></td></tr><tr><td title=\"Index: [2, 0]&#10;Color: (5, 125, 144)\" style=\"width: 20px; height: 20px;background-color: rgb(5, 125, 144);\"></td><td title=\"Index: [2, 1]&#10;Color: (5, 125, 144)\" style=\"width: 20px; height: 20px;background-color: rgb(5, 125, 144);\"></td><td title=\"Index: [2, 2]&#10;Color: (5, 125, 144)\" style=\"width: 20px; height: 20px;background-color: rgb(5, 125, 144);\"></td></tr></tbody></table>"
       ],
       "metadata": {},
       "output_type": "display_data",
       "text": [
        "<IPython.core.display.HTML at 0x3cb1240>"
       ]
      },
      {
       "output_type": "stream",
       "stream": "stdout",
       "text": [
        "Turn  3\n"
       ]
      },
      {
       "name": "stdout",
       "output_type": "stream",
       "stream": "stdout",
       "text": [
        "Guess Row: 3\n"
       ]
      },
      {
       "name": "stdout",
       "output_type": "stream",
       "stream": "stdout",
       "text": [
        "Guess Col: 3\n"
       ]
      },
      {
       "output_type": "stream",
       "stream": "stdout",
       "text": [
        "You hit my Battleship!\n"
       ]
      },
      {
       "html": [
        "<style type=\"text/css\">table.blockgrid {border: none;} .blockgrid tr {border: none;} .blockgrid td {padding: 0px;} #blockscb52d598-5948-4b83-8889-73878aa9291c td {border: 1px solid white;}</style><table id=\"blockscb52d598-5948-4b83-8889-73878aa9291c\" class=\"blockgrid\"><tbody><tr><td title=\"Index: [0, 0]&#10;Color: (0, 0, 0)\" style=\"width: 20px; height: 20px;background-color: rgb(0, 0, 0);\"></td><td title=\"Index: [0, 1]&#10;Color: (5, 125, 144)\" style=\"width: 20px; height: 20px;background-color: rgb(5, 125, 144);\"></td><td title=\"Index: [0, 2]&#10;Color: (5, 125, 144)\" style=\"width: 20px; height: 20px;background-color: rgb(5, 125, 144);\"></td></tr><tr><td title=\"Index: [1, 0]&#10;Color: (5, 125, 144)\" style=\"width: 20px; height: 20px;background-color: rgb(5, 125, 144);\"></td><td title=\"Index: [1, 1]&#10;Color: (0, 0, 0)\" style=\"width: 20px; height: 20px;background-color: rgb(0, 0, 0);\"></td><td title=\"Index: [1, 2]&#10;Color: (5, 125, 144)\" style=\"width: 20px; height: 20px;background-color: rgb(5, 125, 144);\"></td></tr><tr><td title=\"Index: [2, 0]&#10;Color: (5, 125, 144)\" style=\"width: 20px; height: 20px;background-color: rgb(5, 125, 144);\"></td><td title=\"Index: [2, 1]&#10;Color: (5, 125, 144)\" style=\"width: 20px; height: 20px;background-color: rgb(5, 125, 144);\"></td><td title=\"Index: [2, 2]&#10;Color: (199, 27, 27)\" style=\"width: 20px; height: 20px;background-color: rgb(199, 27, 27);\"></td></tr></tbody></table>"
       ],
       "metadata": {},
       "output_type": "display_data",
       "text": [
        "<IPython.core.display.HTML at 0x42dc0f0>"
       ]
      },
      {
       "output_type": "stream",
       "stream": "stdout",
       "text": [
        "Turn  4\n"
       ]
      },
      {
       "name": "stdout",
       "output_type": "stream",
       "stream": "stdout",
       "text": [
        "Guess Row: 2\n"
       ]
      },
      {
       "name": "stdout",
       "output_type": "stream",
       "stream": "stdout",
       "text": [
        "Guess Col: 3\n"
       ]
      },
      {
       "output_type": "stream",
       "stream": "stdout",
       "text": [
        "You hit my Battleship!\n"
       ]
      },
      {
       "html": [
        "<style type=\"text/css\">table.blockgrid {border: none;} .blockgrid tr {border: none;} .blockgrid td {padding: 0px;} #blocksb95ef6bb-0865-42e6-8c41-b5da5b01cfd3 td {border: 1px solid white;}</style><table id=\"blocksb95ef6bb-0865-42e6-8c41-b5da5b01cfd3\" class=\"blockgrid\"><tbody><tr><td title=\"Index: [0, 0]&#10;Color: (0, 0, 0)\" style=\"width: 20px; height: 20px;background-color: rgb(0, 0, 0);\"></td><td title=\"Index: [0, 1]&#10;Color: (5, 125, 144)\" style=\"width: 20px; height: 20px;background-color: rgb(5, 125, 144);\"></td><td title=\"Index: [0, 2]&#10;Color: (5, 125, 144)\" style=\"width: 20px; height: 20px;background-color: rgb(5, 125, 144);\"></td></tr><tr><td title=\"Index: [1, 0]&#10;Color: (5, 125, 144)\" style=\"width: 20px; height: 20px;background-color: rgb(5, 125, 144);\"></td><td title=\"Index: [1, 1]&#10;Color: (0, 0, 0)\" style=\"width: 20px; height: 20px;background-color: rgb(0, 0, 0);\"></td><td title=\"Index: [1, 2]&#10;Color: (199, 27, 27)\" style=\"width: 20px; height: 20px;background-color: rgb(199, 27, 27);\"></td></tr><tr><td title=\"Index: [2, 0]&#10;Color: (5, 125, 144)\" style=\"width: 20px; height: 20px;background-color: rgb(5, 125, 144);\"></td><td title=\"Index: [2, 1]&#10;Color: (5, 125, 144)\" style=\"width: 20px; height: 20px;background-color: rgb(5, 125, 144);\"></td><td title=\"Index: [2, 2]&#10;Color: (199, 27, 27)\" style=\"width: 20px; height: 20px;background-color: rgb(199, 27, 27);\"></td></tr></tbody></table>"
       ],
       "metadata": {},
       "output_type": "display_data",
       "text": [
        "<IPython.core.display.HTML at 0x42dc128>"
       ]
      },
      {
       "output_type": "stream",
       "stream": "stdout",
       "text": [
        "Turn  5\n"
       ]
      },
      {
       "name": "stdout",
       "output_type": "stream",
       "stream": "stdout",
       "text": [
        "Guess Row: 1\n"
       ]
      },
      {
       "name": "stdout",
       "output_type": "stream",
       "stream": "stdout",
       "text": [
        "Guess Col: 3\n"
       ]
      },
      {
       "output_type": "stream",
       "stream": "stdout",
       "text": [
        "You hit my Battleship!\n"
       ]
      },
      {
       "html": [
        "<style type=\"text/css\">table.blockgrid {border: none;} .blockgrid tr {border: none;} .blockgrid td {padding: 0px;} #blocksecb9ba2d-f6f6-49b5-9fc0-c939aeb4e673 td {border: 1px solid white;}</style><table id=\"blocksecb9ba2d-f6f6-49b5-9fc0-c939aeb4e673\" class=\"blockgrid\"><tbody><tr><td title=\"Index: [0, 0]&#10;Color: (0, 0, 0)\" style=\"width: 20px; height: 20px;background-color: rgb(0, 0, 0);\"></td><td title=\"Index: [0, 1]&#10;Color: (5, 125, 144)\" style=\"width: 20px; height: 20px;background-color: rgb(5, 125, 144);\"></td><td title=\"Index: [0, 2]&#10;Color: (199, 27, 27)\" style=\"width: 20px; height: 20px;background-color: rgb(199, 27, 27);\"></td></tr><tr><td title=\"Index: [1, 0]&#10;Color: (5, 125, 144)\" style=\"width: 20px; height: 20px;background-color: rgb(5, 125, 144);\"></td><td title=\"Index: [1, 1]&#10;Color: (0, 0, 0)\" style=\"width: 20px; height: 20px;background-color: rgb(0, 0, 0);\"></td><td title=\"Index: [1, 2]&#10;Color: (199, 27, 27)\" style=\"width: 20px; height: 20px;background-color: rgb(199, 27, 27);\"></td></tr><tr><td title=\"Index: [2, 0]&#10;Color: (5, 125, 144)\" style=\"width: 20px; height: 20px;background-color: rgb(5, 125, 144);\"></td><td title=\"Index: [2, 1]&#10;Color: (5, 125, 144)\" style=\"width: 20px; height: 20px;background-color: rgb(5, 125, 144);\"></td><td title=\"Index: [2, 2]&#10;Color: (199, 27, 27)\" style=\"width: 20px; height: 20px;background-color: rgb(199, 27, 27);\"></td></tr></tbody></table>"
       ],
       "metadata": {},
       "output_type": "display_data",
       "text": [
        "<IPython.core.display.HTML at 0x42dc080>"
       ]
      },
      {
       "output_type": "stream",
       "stream": "stdout",
       "text": [
        "You made it rain!\n"
       ]
      }
     ],
     "prompt_number": 7
    },
    {
     "cell_type": "code",
     "collapsed": false,
     "input": [],
     "language": "python",
     "metadata": {},
     "outputs": [],
     "prompt_number": 6
    },
    {
     "cell_type": "code",
     "collapsed": false,
     "input": [],
     "language": "python",
     "metadata": {},
     "outputs": []
    }
   ],
   "metadata": {}
  }
 ]
}