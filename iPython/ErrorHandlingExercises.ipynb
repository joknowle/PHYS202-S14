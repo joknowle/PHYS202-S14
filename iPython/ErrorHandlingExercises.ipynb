{
 "metadata": {
  "name": "",
  "signature": "sha256:552794524afb6c796c072712e93406fe26633156d2fa6646603026f6e23605e7"
 },
 "nbformat": 3,
 "nbformat_minor": 0,
 "worksheets": [
  {
   "cells": [
    {
     "cell_type": "heading",
     "level": 1,
     "metadata": {},
     "source": [
      "Error Handling Exercises"
     ]
    },
    {
     "cell_type": "code",
     "collapsed": false,
     "input": [
      "%pylab inline\n",
      "import random\n",
      "from random import randint\n",
      "from ipythonblocks import BlockGrid as BG\n",
      "import numpy as np"
     ],
     "language": "python",
     "metadata": {},
     "outputs": [
      {
       "output_type": "stream",
       "stream": "stdout",
       "text": [
        "Populating the interactive namespace from numpy and matplotlib\n"
       ]
      }
     ],
     "prompt_number": 2
    },
    {
     "cell_type": "markdown",
     "metadata": {},
     "source": [
      "Find a partner. Choose a driver and a navigator. The driver should copy their Battleship code to a cell in the driver's ErrorHandlingExercises notebook. The driver should explain to the navigator the basics of how their program works. Work together to add some error handling to the program. Include a markdown cell identifying the driver and navigator. When you are done, switch roles and let the navigator be the driver and vice versa. At the end you should both have a Battleship program that includes some error handling."
     ]
    },
    {
     "cell_type": "markdown",
     "metadata": {},
     "source": [
      "Driver = John, Navigator = Masha"
     ]
    },
    {
     "cell_type": "code",
     "collapsed": false,
     "input": [
      "Red = (199,27,27)\n",
      "Black = (0,0,0)\n",
      "Fin = (255,128,0)\n",
      "turn = 0\n",
      "\n",
      "print \"How big is the ocean grid? (Minimum 3x3)\"\n",
      "try:\n",
      "    xsize = int(raw_input(\"Row: \"))\n",
      "    ysize = int(raw_input(\"Col: \"))\n",
      "except ValueError:\n",
      "    print err\n",
      "    print \"Wrong value\"\n",
      "except TypeError as err:\n",
      "    print err\n",
      "    print \"Wrong Type\"\n",
      "finally:\n",
      "    if ysize < 3:\n",
      "        ysize = 3\n",
      "        # assert ysize < 3, \"Row size needs to be greater than three.\"\n",
      "    if xsize < 3:\n",
      "        xsize = 3\n",
      "        # assert xsize < 3, \"Col size needs to be greater than three.\"\n",
      "try:\n",
      "    print \"Let's play Battleship!\"\n",
      "    grid = BG(xsize, ysize, fill=(5,125,144))\n",
      "    grid.show()\n",
      "    print \"How many turns would you like? (Minimum 3 turns)\"\n",
      "    tries = int(raw_input())\n",
      "    if tries < 3:\n",
      "        tries = 3\n",
      "except ValueError as err:\n",
      "    print err\n",
      "    print \"Value Error.\"\n",
      "except TypeError as err:\n",
      "    print err\n",
      "    print \"Wrong Type\"\n",
      "finally:\n",
      "    pass\n",
      "\n",
      "# Secret placement of the ships on board. \n",
      "\n",
      "board = np.zeros((xsize, ysize))\n",
      "fix = randint(0,1)\n",
      "sRow1 = randint(1, xsize)\n",
      "sCol1 = randint(1, ysize)\n",
      "\n",
      "if fix == 0:  # 0 Value implies vertical translation\n",
      "    if sRow1 == 1: \n",
      "        sRow2 = sRow1 + 1\n",
      "        sRow3 = sRow2 + 1\n",
      "    elif sRow1 == ysize:\n",
      "        sRow2 = sRow1 - 1\n",
      "        sRow3 = sRow2 - 1\n",
      "    elif sRow1 >= (ysize - 2) and sRow1 != ysize:\n",
      "        sRow2 = sRow1 - 1\n",
      "        sRow3 = sRow1 + 1\n",
      "    else:\n",
      "        r = random.choice([-1, 1])\n",
      "        sRow2 = sRow1 + r\n",
      "        if r == -1:\n",
      "            sRow3 = sRow1 + 1\n",
      "        else: \n",
      "            sRow3 = sRow1 - 1\n",
      "    sCol2 = sCol1\n",
      "    sCol3 = sCol1\n",
      "elif fix == 1:  # 1 Value implies Horizontal translation\n",
      "    if sCol1 == 1:\n",
      "        sCol2 = sCol1 + 1\n",
      "        sCol3 = sCol2 + 1\n",
      "    elif sCol1 == xsize:\n",
      "        sCol2 = sCol1 - 1\n",
      "        sCol3 = sCol2 - 1\n",
      "    elif sCol1 >= (xsize - 2) and sCol1 != xsize:\n",
      "        sCol2 = sCol1 - 1\n",
      "        sCol3 = sCol1 + 1\n",
      "    else:\n",
      "        r = random.choice([-1, 1])\n",
      "        sCol2 = sCol1 + r\n",
      "        if r == -1:\n",
      "            sCol3 = sCol1 + 1\n",
      "        else: \n",
      "            sCol3 = sCol1 - 1\n",
      "    sRow2 = sRow1\n",
      "    sRow3 = sRow1\n",
      "            \n",
      "for x in range(tries + 1):\n",
      "    print \"Turn \", turn + 1\n",
      "    gRow = int(raw_input(\"Guess Row: \")) - 1\n",
      "    gCol = int(raw_input(\"Guess Col: \")) - 1\n",
      "    \n",
      "    while (gRow < 0 or gRow > ysize) or (gCol < 0 or gCol > xsize) or (board[gRow, gCol] == -1):\n",
      "        print \"Error, retry!\"\n",
      "        gRow = int(raw_input(\"Guess Row: \")) - 1\n",
      "        gCol = int(raw_input(\"Guess Col: \")) - 1\n",
      "        \n",
      "    if (gRow == sRow1 - 1 and (gCol == sCol1 - 1 or gCol == sCol2 - 1 or gCol == sCol3 - 1)) or \\\n",
      "    (gCol == sCol1 - 1 and (gRow == sRow1 - 1 or gRow == sRow2 - 1 or gRow == sRow3 - 1)):\n",
      "        print \"You hit my Battleship!\"\n",
      "        grid[gRow, gCol] = Red  # Turns red\n",
      "        board[gRow, gCol] = 1\n",
      "        grid.show()\n",
      "        if (board == 1).sum() == 3:\n",
      "            print \"You made it rain!\"\n",
      "            break\n",
      "    else:\n",
      "        print \"You missed my battleship!\"\n",
      "        board[gRow, gCol] = -1\n",
      "        grid[gRow, gCol] = Black  #turns black\n",
      "        grid.show()\n",
      "\n",
      "    if turn >= tries - 1:\n",
      "        print \"Game Over\"\n",
      "        if fix == 0:\n",
      "            grid[sRow1 - 1, sCol1 - 1] = Fin\n",
      "            grid[sRow2 - 1, sCol1 - 1] = Fin\n",
      "            grid[sRow3 - 1, sCol1 - 1] = Fin\n",
      "        else:\n",
      "            grid[sRow1 - 1, sCol1 - 1] = Fin\n",
      "            grid[sRow1 - 1, sCol2 - 1] = Fin\n",
      "            grid[sRow1 - 1, sCol3 - 1] = Fin\n",
      "        grid.show()\n",
      "        break\n",
      "    turn += 1"
     ],
     "language": "python",
     "metadata": {},
     "outputs": [
      {
       "output_type": "stream",
       "stream": "stdout",
       "text": [
        "How big is the ocean grid? (Minimum 3x3)\n"
       ]
      },
      {
       "name": "stdout",
       "output_type": "stream",
       "stream": "stdout",
       "text": [
        "Row: 4\n"
       ]
      },
      {
       "name": "stdout",
       "output_type": "stream",
       "stream": "stdout",
       "text": [
        "Col: 4\n"
       ]
      },
      {
       "output_type": "stream",
       "stream": "stdout",
       "text": [
        "Let's play Battleship!\n"
       ]
      },
      {
       "html": [
        "<style type=\"text/css\">table.blockgrid {border: none;} .blockgrid tr {border: none;} .blockgrid td {padding: 0px;} #blocksc6288ca7-4981-4182-a3d7-0273a7be5266 td {border: 1px solid white;}</style><table id=\"blocksc6288ca7-4981-4182-a3d7-0273a7be5266\" class=\"blockgrid\"><tbody><tr><td title=\"Index: [0, 0]&#10;Color: (5, 125, 144)\" style=\"width: 20px; height: 20px;background-color: rgb(5, 125, 144);\"></td><td title=\"Index: [0, 1]&#10;Color: (5, 125, 144)\" style=\"width: 20px; height: 20px;background-color: rgb(5, 125, 144);\"></td><td title=\"Index: [0, 2]&#10;Color: (5, 125, 144)\" style=\"width: 20px; height: 20px;background-color: rgb(5, 125, 144);\"></td><td title=\"Index: [0, 3]&#10;Color: (5, 125, 144)\" style=\"width: 20px; height: 20px;background-color: rgb(5, 125, 144);\"></td></tr><tr><td title=\"Index: [1, 0]&#10;Color: (5, 125, 144)\" style=\"width: 20px; height: 20px;background-color: rgb(5, 125, 144);\"></td><td title=\"Index: [1, 1]&#10;Color: (5, 125, 144)\" style=\"width: 20px; height: 20px;background-color: rgb(5, 125, 144);\"></td><td title=\"Index: [1, 2]&#10;Color: (5, 125, 144)\" style=\"width: 20px; height: 20px;background-color: rgb(5, 125, 144);\"></td><td title=\"Index: [1, 3]&#10;Color: (5, 125, 144)\" style=\"width: 20px; height: 20px;background-color: rgb(5, 125, 144);\"></td></tr><tr><td title=\"Index: [2, 0]&#10;Color: (5, 125, 144)\" style=\"width: 20px; height: 20px;background-color: rgb(5, 125, 144);\"></td><td title=\"Index: [2, 1]&#10;Color: (5, 125, 144)\" style=\"width: 20px; height: 20px;background-color: rgb(5, 125, 144);\"></td><td title=\"Index: [2, 2]&#10;Color: (5, 125, 144)\" style=\"width: 20px; height: 20px;background-color: rgb(5, 125, 144);\"></td><td title=\"Index: [2, 3]&#10;Color: (5, 125, 144)\" style=\"width: 20px; height: 20px;background-color: rgb(5, 125, 144);\"></td></tr><tr><td title=\"Index: [3, 0]&#10;Color: (5, 125, 144)\" style=\"width: 20px; height: 20px;background-color: rgb(5, 125, 144);\"></td><td title=\"Index: [3, 1]&#10;Color: (5, 125, 144)\" style=\"width: 20px; height: 20px;background-color: rgb(5, 125, 144);\"></td><td title=\"Index: [3, 2]&#10;Color: (5, 125, 144)\" style=\"width: 20px; height: 20px;background-color: rgb(5, 125, 144);\"></td><td title=\"Index: [3, 3]&#10;Color: (5, 125, 144)\" style=\"width: 20px; height: 20px;background-color: rgb(5, 125, 144);\"></td></tr></tbody></table>"
       ],
       "metadata": {},
       "output_type": "display_data",
       "text": [
        "<IPython.core.display.HTML at 0x9916898>"
       ]
      },
      {
       "output_type": "stream",
       "stream": "stdout",
       "text": [
        "How many turns would you like? (Minimum 3 turns)\n"
       ]
      },
      {
       "name": "stdout",
       "output_type": "stream",
       "stream": "stdout",
       "text": [
        "10\n"
       ]
      },
      {
       "output_type": "stream",
       "stream": "stdout",
       "text": [
        "Turn  1\n"
       ]
      },
      {
       "name": "stdout",
       "output_type": "stream",
       "stream": "stdout",
       "text": [
        "Guess Row: 1\n"
       ]
      },
      {
       "name": "stdout",
       "output_type": "stream",
       "stream": "stdout",
       "text": [
        "Guess Col: 1\n"
       ]
      },
      {
       "output_type": "stream",
       "stream": "stdout",
       "text": [
        "You missed my battleship!\n"
       ]
      },
      {
       "html": [
        "<style type=\"text/css\">table.blockgrid {border: none;} .blockgrid tr {border: none;} .blockgrid td {padding: 0px;} #blocksc8984c91-a632-4908-ab60-3bd04f5ed448 td {border: 1px solid white;}</style><table id=\"blocksc8984c91-a632-4908-ab60-3bd04f5ed448\" class=\"blockgrid\"><tbody><tr><td title=\"Index: [0, 0]&#10;Color: (0, 0, 0)\" style=\"width: 20px; height: 20px;background-color: rgb(0, 0, 0);\"></td><td title=\"Index: [0, 1]&#10;Color: (5, 125, 144)\" style=\"width: 20px; height: 20px;background-color: rgb(5, 125, 144);\"></td><td title=\"Index: [0, 2]&#10;Color: (5, 125, 144)\" style=\"width: 20px; height: 20px;background-color: rgb(5, 125, 144);\"></td><td title=\"Index: [0, 3]&#10;Color: (5, 125, 144)\" style=\"width: 20px; height: 20px;background-color: rgb(5, 125, 144);\"></td></tr><tr><td title=\"Index: [1, 0]&#10;Color: (5, 125, 144)\" style=\"width: 20px; height: 20px;background-color: rgb(5, 125, 144);\"></td><td title=\"Index: [1, 1]&#10;Color: (5, 125, 144)\" style=\"width: 20px; height: 20px;background-color: rgb(5, 125, 144);\"></td><td title=\"Index: [1, 2]&#10;Color: (5, 125, 144)\" style=\"width: 20px; height: 20px;background-color: rgb(5, 125, 144);\"></td><td title=\"Index: [1, 3]&#10;Color: (5, 125, 144)\" style=\"width: 20px; height: 20px;background-color: rgb(5, 125, 144);\"></td></tr><tr><td title=\"Index: [2, 0]&#10;Color: (5, 125, 144)\" style=\"width: 20px; height: 20px;background-color: rgb(5, 125, 144);\"></td><td title=\"Index: [2, 1]&#10;Color: (5, 125, 144)\" style=\"width: 20px; height: 20px;background-color: rgb(5, 125, 144);\"></td><td title=\"Index: [2, 2]&#10;Color: (5, 125, 144)\" style=\"width: 20px; height: 20px;background-color: rgb(5, 125, 144);\"></td><td title=\"Index: [2, 3]&#10;Color: (5, 125, 144)\" style=\"width: 20px; height: 20px;background-color: rgb(5, 125, 144);\"></td></tr><tr><td title=\"Index: [3, 0]&#10;Color: (5, 125, 144)\" style=\"width: 20px; height: 20px;background-color: rgb(5, 125, 144);\"></td><td title=\"Index: [3, 1]&#10;Color: (5, 125, 144)\" style=\"width: 20px; height: 20px;background-color: rgb(5, 125, 144);\"></td><td title=\"Index: [3, 2]&#10;Color: (5, 125, 144)\" style=\"width: 20px; height: 20px;background-color: rgb(5, 125, 144);\"></td><td title=\"Index: [3, 3]&#10;Color: (5, 125, 144)\" style=\"width: 20px; height: 20px;background-color: rgb(5, 125, 144);\"></td></tr></tbody></table>"
       ],
       "metadata": {},
       "output_type": "display_data",
       "text": [
        "<IPython.core.display.HTML at 0x1d486d8>"
       ]
      },
      {
       "output_type": "stream",
       "stream": "stdout",
       "text": [
        "Turn  2\n"
       ]
      },
      {
       "name": "stdout",
       "output_type": "stream",
       "stream": "stdout",
       "text": [
        "Guess Row: 2\n"
       ]
      },
      {
       "name": "stdout",
       "output_type": "stream",
       "stream": "stdout",
       "text": [
        "Guess Col: 2\n"
       ]
      },
      {
       "output_type": "stream",
       "stream": "stdout",
       "text": [
        "You missed my battleship!\n"
       ]
      },
      {
       "html": [
        "<style type=\"text/css\">table.blockgrid {border: none;} .blockgrid tr {border: none;} .blockgrid td {padding: 0px;} #blocks42107e9c-3bfc-4904-b123-a7d4a2f7bdfe td {border: 1px solid white;}</style><table id=\"blocks42107e9c-3bfc-4904-b123-a7d4a2f7bdfe\" class=\"blockgrid\"><tbody><tr><td title=\"Index: [0, 0]&#10;Color: (0, 0, 0)\" style=\"width: 20px; height: 20px;background-color: rgb(0, 0, 0);\"></td><td title=\"Index: [0, 1]&#10;Color: (5, 125, 144)\" style=\"width: 20px; height: 20px;background-color: rgb(5, 125, 144);\"></td><td title=\"Index: [0, 2]&#10;Color: (5, 125, 144)\" style=\"width: 20px; height: 20px;background-color: rgb(5, 125, 144);\"></td><td title=\"Index: [0, 3]&#10;Color: (5, 125, 144)\" style=\"width: 20px; height: 20px;background-color: rgb(5, 125, 144);\"></td></tr><tr><td title=\"Index: [1, 0]&#10;Color: (5, 125, 144)\" style=\"width: 20px; height: 20px;background-color: rgb(5, 125, 144);\"></td><td title=\"Index: [1, 1]&#10;Color: (0, 0, 0)\" style=\"width: 20px; height: 20px;background-color: rgb(0, 0, 0);\"></td><td title=\"Index: [1, 2]&#10;Color: (5, 125, 144)\" style=\"width: 20px; height: 20px;background-color: rgb(5, 125, 144);\"></td><td title=\"Index: [1, 3]&#10;Color: (5, 125, 144)\" style=\"width: 20px; height: 20px;background-color: rgb(5, 125, 144);\"></td></tr><tr><td title=\"Index: [2, 0]&#10;Color: (5, 125, 144)\" style=\"width: 20px; height: 20px;background-color: rgb(5, 125, 144);\"></td><td title=\"Index: [2, 1]&#10;Color: (5, 125, 144)\" style=\"width: 20px; height: 20px;background-color: rgb(5, 125, 144);\"></td><td title=\"Index: [2, 2]&#10;Color: (5, 125, 144)\" style=\"width: 20px; height: 20px;background-color: rgb(5, 125, 144);\"></td><td title=\"Index: [2, 3]&#10;Color: (5, 125, 144)\" style=\"width: 20px; height: 20px;background-color: rgb(5, 125, 144);\"></td></tr><tr><td title=\"Index: [3, 0]&#10;Color: (5, 125, 144)\" style=\"width: 20px; height: 20px;background-color: rgb(5, 125, 144);\"></td><td title=\"Index: [3, 1]&#10;Color: (5, 125, 144)\" style=\"width: 20px; height: 20px;background-color: rgb(5, 125, 144);\"></td><td title=\"Index: [3, 2]&#10;Color: (5, 125, 144)\" style=\"width: 20px; height: 20px;background-color: rgb(5, 125, 144);\"></td><td title=\"Index: [3, 3]&#10;Color: (5, 125, 144)\" style=\"width: 20px; height: 20px;background-color: rgb(5, 125, 144);\"></td></tr></tbody></table>"
       ],
       "metadata": {},
       "output_type": "display_data",
       "text": [
        "<IPython.core.display.HTML at 0x3f21c88>"
       ]
      },
      {
       "output_type": "stream",
       "stream": "stdout",
       "text": [
        "Turn  3\n"
       ]
      },
      {
       "name": "stdout",
       "output_type": "stream",
       "stream": "stdout",
       "text": [
        "Guess Row: 3\n"
       ]
      },
      {
       "name": "stdout",
       "output_type": "stream",
       "stream": "stdout",
       "text": [
        "Guess Col: 3\n"
       ]
      },
      {
       "output_type": "stream",
       "stream": "stdout",
       "text": [
        "You hit my Battleship!\n"
       ]
      },
      {
       "html": [
        "<style type=\"text/css\">table.blockgrid {border: none;} .blockgrid tr {border: none;} .blockgrid td {padding: 0px;} #blocksd0f0619e-8197-496a-b534-05d8fe1d52ab td {border: 1px solid white;}</style><table id=\"blocksd0f0619e-8197-496a-b534-05d8fe1d52ab\" class=\"blockgrid\"><tbody><tr><td title=\"Index: [0, 0]&#10;Color: (0, 0, 0)\" style=\"width: 20px; height: 20px;background-color: rgb(0, 0, 0);\"></td><td title=\"Index: [0, 1]&#10;Color: (5, 125, 144)\" style=\"width: 20px; height: 20px;background-color: rgb(5, 125, 144);\"></td><td title=\"Index: [0, 2]&#10;Color: (5, 125, 144)\" style=\"width: 20px; height: 20px;background-color: rgb(5, 125, 144);\"></td><td title=\"Index: [0, 3]&#10;Color: (5, 125, 144)\" style=\"width: 20px; height: 20px;background-color: rgb(5, 125, 144);\"></td></tr><tr><td title=\"Index: [1, 0]&#10;Color: (5, 125, 144)\" style=\"width: 20px; height: 20px;background-color: rgb(5, 125, 144);\"></td><td title=\"Index: [1, 1]&#10;Color: (0, 0, 0)\" style=\"width: 20px; height: 20px;background-color: rgb(0, 0, 0);\"></td><td title=\"Index: [1, 2]&#10;Color: (5, 125, 144)\" style=\"width: 20px; height: 20px;background-color: rgb(5, 125, 144);\"></td><td title=\"Index: [1, 3]&#10;Color: (5, 125, 144)\" style=\"width: 20px; height: 20px;background-color: rgb(5, 125, 144);\"></td></tr><tr><td title=\"Index: [2, 0]&#10;Color: (5, 125, 144)\" style=\"width: 20px; height: 20px;background-color: rgb(5, 125, 144);\"></td><td title=\"Index: [2, 1]&#10;Color: (5, 125, 144)\" style=\"width: 20px; height: 20px;background-color: rgb(5, 125, 144);\"></td><td title=\"Index: [2, 2]&#10;Color: (199, 27, 27)\" style=\"width: 20px; height: 20px;background-color: rgb(199, 27, 27);\"></td><td title=\"Index: [2, 3]&#10;Color: (5, 125, 144)\" style=\"width: 20px; height: 20px;background-color: rgb(5, 125, 144);\"></td></tr><tr><td title=\"Index: [3, 0]&#10;Color: (5, 125, 144)\" style=\"width: 20px; height: 20px;background-color: rgb(5, 125, 144);\"></td><td title=\"Index: [3, 1]&#10;Color: (5, 125, 144)\" style=\"width: 20px; height: 20px;background-color: rgb(5, 125, 144);\"></td><td title=\"Index: [3, 2]&#10;Color: (5, 125, 144)\" style=\"width: 20px; height: 20px;background-color: rgb(5, 125, 144);\"></td><td title=\"Index: [3, 3]&#10;Color: (5, 125, 144)\" style=\"width: 20px; height: 20px;background-color: rgb(5, 125, 144);\"></td></tr></tbody></table>"
       ],
       "metadata": {},
       "output_type": "display_data",
       "text": [
        "<IPython.core.display.HTML at 0x1d8ab70>"
       ]
      },
      {
       "output_type": "stream",
       "stream": "stdout",
       "text": [
        "Turn  4\n"
       ]
      },
      {
       "name": "stdout",
       "output_type": "stream",
       "stream": "stdout",
       "text": [
        "Guess Row: 4\n"
       ]
      },
      {
       "name": "stdout",
       "output_type": "stream",
       "stream": "stdout",
       "text": [
        "Guess Col: 4\n"
       ]
      },
      {
       "output_type": "stream",
       "stream": "stdout",
       "text": [
        "You missed my battleship!\n"
       ]
      },
      {
       "html": [
        "<style type=\"text/css\">table.blockgrid {border: none;} .blockgrid tr {border: none;} .blockgrid td {padding: 0px;} #blocks004c76fb-e936-43f3-a906-b4618142dcfe td {border: 1px solid white;}</style><table id=\"blocks004c76fb-e936-43f3-a906-b4618142dcfe\" class=\"blockgrid\"><tbody><tr><td title=\"Index: [0, 0]&#10;Color: (0, 0, 0)\" style=\"width: 20px; height: 20px;background-color: rgb(0, 0, 0);\"></td><td title=\"Index: [0, 1]&#10;Color: (5, 125, 144)\" style=\"width: 20px; height: 20px;background-color: rgb(5, 125, 144);\"></td><td title=\"Index: [0, 2]&#10;Color: (5, 125, 144)\" style=\"width: 20px; height: 20px;background-color: rgb(5, 125, 144);\"></td><td title=\"Index: [0, 3]&#10;Color: (5, 125, 144)\" style=\"width: 20px; height: 20px;background-color: rgb(5, 125, 144);\"></td></tr><tr><td title=\"Index: [1, 0]&#10;Color: (5, 125, 144)\" style=\"width: 20px; height: 20px;background-color: rgb(5, 125, 144);\"></td><td title=\"Index: [1, 1]&#10;Color: (0, 0, 0)\" style=\"width: 20px; height: 20px;background-color: rgb(0, 0, 0);\"></td><td title=\"Index: [1, 2]&#10;Color: (5, 125, 144)\" style=\"width: 20px; height: 20px;background-color: rgb(5, 125, 144);\"></td><td title=\"Index: [1, 3]&#10;Color: (5, 125, 144)\" style=\"width: 20px; height: 20px;background-color: rgb(5, 125, 144);\"></td></tr><tr><td title=\"Index: [2, 0]&#10;Color: (5, 125, 144)\" style=\"width: 20px; height: 20px;background-color: rgb(5, 125, 144);\"></td><td title=\"Index: [2, 1]&#10;Color: (5, 125, 144)\" style=\"width: 20px; height: 20px;background-color: rgb(5, 125, 144);\"></td><td title=\"Index: [2, 2]&#10;Color: (199, 27, 27)\" style=\"width: 20px; height: 20px;background-color: rgb(199, 27, 27);\"></td><td title=\"Index: [2, 3]&#10;Color: (5, 125, 144)\" style=\"width: 20px; height: 20px;background-color: rgb(5, 125, 144);\"></td></tr><tr><td title=\"Index: [3, 0]&#10;Color: (5, 125, 144)\" style=\"width: 20px; height: 20px;background-color: rgb(5, 125, 144);\"></td><td title=\"Index: [3, 1]&#10;Color: (5, 125, 144)\" style=\"width: 20px; height: 20px;background-color: rgb(5, 125, 144);\"></td><td title=\"Index: [3, 2]&#10;Color: (5, 125, 144)\" style=\"width: 20px; height: 20px;background-color: rgb(5, 125, 144);\"></td><td title=\"Index: [3, 3]&#10;Color: (0, 0, 0)\" style=\"width: 20px; height: 20px;background-color: rgb(0, 0, 0);\"></td></tr></tbody></table>"
       ],
       "metadata": {},
       "output_type": "display_data",
       "text": [
        "<IPython.core.display.HTML at 0x1d8ac50>"
       ]
      },
      {
       "output_type": "stream",
       "stream": "stdout",
       "text": [
        "Turn  5\n"
       ]
      },
      {
       "name": "stdout",
       "output_type": "stream",
       "stream": "stdout",
       "text": [
        "Guess Row: 3\n"
       ]
      },
      {
       "name": "stdout",
       "output_type": "stream",
       "stream": "stdout",
       "text": [
        "Guess Col: 2\n"
       ]
      },
      {
       "output_type": "stream",
       "stream": "stdout",
       "text": [
        "You hit my Battleship!\n"
       ]
      },
      {
       "html": [
        "<style type=\"text/css\">table.blockgrid {border: none;} .blockgrid tr {border: none;} .blockgrid td {padding: 0px;} #blocks1ab91b45-cfda-4ff5-9081-4297bc7bee97 td {border: 1px solid white;}</style><table id=\"blocks1ab91b45-cfda-4ff5-9081-4297bc7bee97\" class=\"blockgrid\"><tbody><tr><td title=\"Index: [0, 0]&#10;Color: (0, 0, 0)\" style=\"width: 20px; height: 20px;background-color: rgb(0, 0, 0);\"></td><td title=\"Index: [0, 1]&#10;Color: (5, 125, 144)\" style=\"width: 20px; height: 20px;background-color: rgb(5, 125, 144);\"></td><td title=\"Index: [0, 2]&#10;Color: (5, 125, 144)\" style=\"width: 20px; height: 20px;background-color: rgb(5, 125, 144);\"></td><td title=\"Index: [0, 3]&#10;Color: (5, 125, 144)\" style=\"width: 20px; height: 20px;background-color: rgb(5, 125, 144);\"></td></tr><tr><td title=\"Index: [1, 0]&#10;Color: (5, 125, 144)\" style=\"width: 20px; height: 20px;background-color: rgb(5, 125, 144);\"></td><td title=\"Index: [1, 1]&#10;Color: (0, 0, 0)\" style=\"width: 20px; height: 20px;background-color: rgb(0, 0, 0);\"></td><td title=\"Index: [1, 2]&#10;Color: (5, 125, 144)\" style=\"width: 20px; height: 20px;background-color: rgb(5, 125, 144);\"></td><td title=\"Index: [1, 3]&#10;Color: (5, 125, 144)\" style=\"width: 20px; height: 20px;background-color: rgb(5, 125, 144);\"></td></tr><tr><td title=\"Index: [2, 0]&#10;Color: (5, 125, 144)\" style=\"width: 20px; height: 20px;background-color: rgb(5, 125, 144);\"></td><td title=\"Index: [2, 1]&#10;Color: (199, 27, 27)\" style=\"width: 20px; height: 20px;background-color: rgb(199, 27, 27);\"></td><td title=\"Index: [2, 2]&#10;Color: (199, 27, 27)\" style=\"width: 20px; height: 20px;background-color: rgb(199, 27, 27);\"></td><td title=\"Index: [2, 3]&#10;Color: (5, 125, 144)\" style=\"width: 20px; height: 20px;background-color: rgb(5, 125, 144);\"></td></tr><tr><td title=\"Index: [3, 0]&#10;Color: (5, 125, 144)\" style=\"width: 20px; height: 20px;background-color: rgb(5, 125, 144);\"></td><td title=\"Index: [3, 1]&#10;Color: (5, 125, 144)\" style=\"width: 20px; height: 20px;background-color: rgb(5, 125, 144);\"></td><td title=\"Index: [3, 2]&#10;Color: (5, 125, 144)\" style=\"width: 20px; height: 20px;background-color: rgb(5, 125, 144);\"></td><td title=\"Index: [3, 3]&#10;Color: (0, 0, 0)\" style=\"width: 20px; height: 20px;background-color: rgb(0, 0, 0);\"></td></tr></tbody></table>"
       ],
       "metadata": {},
       "output_type": "display_data",
       "text": [
        "<IPython.core.display.HTML at 0x9ca2358>"
       ]
      },
      {
       "output_type": "stream",
       "stream": "stdout",
       "text": [
        "Turn  6\n"
       ]
      },
      {
       "name": "stdout",
       "output_type": "stream",
       "stream": "stdout",
       "text": [
        "Guess Row: 3\n"
       ]
      },
      {
       "name": "stdout",
       "output_type": "stream",
       "stream": "stdout",
       "text": [
        "Guess Col: 1\n"
       ]
      },
      {
       "output_type": "stream",
       "stream": "stdout",
       "text": [
        "You hit my Battleship!\n"
       ]
      },
      {
       "html": [
        "<style type=\"text/css\">table.blockgrid {border: none;} .blockgrid tr {border: none;} .blockgrid td {padding: 0px;} #blocks8c17d2a8-101d-4bdc-a3a7-9fcf488b15f4 td {border: 1px solid white;}</style><table id=\"blocks8c17d2a8-101d-4bdc-a3a7-9fcf488b15f4\" class=\"blockgrid\"><tbody><tr><td title=\"Index: [0, 0]&#10;Color: (0, 0, 0)\" style=\"width: 20px; height: 20px;background-color: rgb(0, 0, 0);\"></td><td title=\"Index: [0, 1]&#10;Color: (5, 125, 144)\" style=\"width: 20px; height: 20px;background-color: rgb(5, 125, 144);\"></td><td title=\"Index: [0, 2]&#10;Color: (5, 125, 144)\" style=\"width: 20px; height: 20px;background-color: rgb(5, 125, 144);\"></td><td title=\"Index: [0, 3]&#10;Color: (5, 125, 144)\" style=\"width: 20px; height: 20px;background-color: rgb(5, 125, 144);\"></td></tr><tr><td title=\"Index: [1, 0]&#10;Color: (5, 125, 144)\" style=\"width: 20px; height: 20px;background-color: rgb(5, 125, 144);\"></td><td title=\"Index: [1, 1]&#10;Color: (0, 0, 0)\" style=\"width: 20px; height: 20px;background-color: rgb(0, 0, 0);\"></td><td title=\"Index: [1, 2]&#10;Color: (5, 125, 144)\" style=\"width: 20px; height: 20px;background-color: rgb(5, 125, 144);\"></td><td title=\"Index: [1, 3]&#10;Color: (5, 125, 144)\" style=\"width: 20px; height: 20px;background-color: rgb(5, 125, 144);\"></td></tr><tr><td title=\"Index: [2, 0]&#10;Color: (199, 27, 27)\" style=\"width: 20px; height: 20px;background-color: rgb(199, 27, 27);\"></td><td title=\"Index: [2, 1]&#10;Color: (199, 27, 27)\" style=\"width: 20px; height: 20px;background-color: rgb(199, 27, 27);\"></td><td title=\"Index: [2, 2]&#10;Color: (199, 27, 27)\" style=\"width: 20px; height: 20px;background-color: rgb(199, 27, 27);\"></td><td title=\"Index: [2, 3]&#10;Color: (5, 125, 144)\" style=\"width: 20px; height: 20px;background-color: rgb(5, 125, 144);\"></td></tr><tr><td title=\"Index: [3, 0]&#10;Color: (5, 125, 144)\" style=\"width: 20px; height: 20px;background-color: rgb(5, 125, 144);\"></td><td title=\"Index: [3, 1]&#10;Color: (5, 125, 144)\" style=\"width: 20px; height: 20px;background-color: rgb(5, 125, 144);\"></td><td title=\"Index: [3, 2]&#10;Color: (5, 125, 144)\" style=\"width: 20px; height: 20px;background-color: rgb(5, 125, 144);\"></td><td title=\"Index: [3, 3]&#10;Color: (0, 0, 0)\" style=\"width: 20px; height: 20px;background-color: rgb(0, 0, 0);\"></td></tr></tbody></table>"
       ],
       "metadata": {},
       "output_type": "display_data",
       "text": [
        "<IPython.core.display.HTML at 0x9ca23c8>"
       ]
      },
      {
       "output_type": "stream",
       "stream": "stdout",
       "text": [
        "You made it rain!\n"
       ]
      }
     ],
     "prompt_number": 3
    },
    {
     "cell_type": "code",
     "collapsed": false,
     "input": [
      "import os\n",
      "safe = False\n",
      "\n",
      "class call(RuntimeError):\n",
      "    pass\n",
      "\n",
      "def read_all_from_file(filename, safe):\n",
      "    default = [\"\"]\n",
      "    if safe == True:\n",
      "        return default\n",
      "    if not os.path.exists(filename):\n",
      "        raise call(\"'%s' This is a custom message showing \\\n",
      "        that my exception works.\"%format(filename))\n",
      "    try:\n",
      "        f = open(filename)\n",
      "        contents = f.read()\n",
      "        return contents\n",
      "    except IOError as err:\n",
      "        print err\n",
      "        print \"Second Custom message about nonexistant \\\n",
      "        filename...\", err.filename\n",
      "        return none\n",
      "    except TypeError as err:\n",
      "        print err\n",
      "        print \"Too many arguements \\\n",
      "        ...\", err.filename\n",
      "        return none\n",
      "    finally:\n",
      "        f.close()"
     ],
     "language": "python",
     "metadata": {},
     "outputs": [],
     "prompt_number": 4
    },
    {
     "cell_type": "code",
     "collapsed": false,
     "input": [
      "read_all_from_file('tmp.txt', safe = False)"
     ],
     "language": "python",
     "metadata": {},
     "outputs": [
      {
       "metadata": {},
       "output_type": "pyout",
       "prompt_number": 5,
       "text": [
        "'this is the contents of the file'"
       ]
      }
     ],
     "prompt_number": 5
    },
    {
     "cell_type": "code",
     "collapsed": false,
     "input": [
      "read_all_from_file('file.which.does.not.exist', safe=False)"
     ],
     "language": "python",
     "metadata": {},
     "outputs": [
      {
       "ename": "call",
       "evalue": "'file.which.does.not.exist' This is a custom message showing         that my exception works.",
       "output_type": "pyerr",
       "traceback": [
        "\u001b[1;31m---------------------------------------------------------------------------\u001b[0m\n\u001b[1;31mcall\u001b[0m                                      Traceback (most recent call last)",
        "\u001b[1;32m<ipython-input-6-c3923411a3c5>\u001b[0m in \u001b[0;36m<module>\u001b[1;34m()\u001b[0m\n\u001b[1;32m----> 1\u001b[1;33m \u001b[0mread_all_from_file\u001b[0m\u001b[1;33m(\u001b[0m\u001b[1;34m'file.which.does.not.exist'\u001b[0m\u001b[1;33m,\u001b[0m \u001b[0msafe\u001b[0m\u001b[1;33m=\u001b[0m\u001b[0mFalse\u001b[0m\u001b[1;33m)\u001b[0m\u001b[1;33m\u001b[0m\u001b[0m\n\u001b[0m",
        "\u001b[1;32m<ipython-input-4-d25b846ecf13>\u001b[0m in \u001b[0;36mread_all_from_file\u001b[1;34m(filename, safe)\u001b[0m\n\u001b[0;32m     10\u001b[0m         \u001b[1;32mreturn\u001b[0m \u001b[0mdefault\u001b[0m\u001b[1;33m\u001b[0m\u001b[0m\n\u001b[0;32m     11\u001b[0m     \u001b[1;32mif\u001b[0m \u001b[1;32mnot\u001b[0m \u001b[0mos\u001b[0m\u001b[1;33m.\u001b[0m\u001b[0mpath\u001b[0m\u001b[1;33m.\u001b[0m\u001b[0mexists\u001b[0m\u001b[1;33m(\u001b[0m\u001b[0mfilename\u001b[0m\u001b[1;33m)\u001b[0m\u001b[1;33m:\u001b[0m\u001b[1;33m\u001b[0m\u001b[0m\n\u001b[1;32m---> 12\u001b[1;33m         \u001b[1;32mraise\u001b[0m \u001b[0mcall\u001b[0m\u001b[1;33m(\u001b[0m\u001b[1;34m\"'%s' This is a custom message showing         that my exception works.\"\u001b[0m\u001b[1;33m%\u001b[0m\u001b[0mformat\u001b[0m\u001b[1;33m(\u001b[0m\u001b[0mfilename\u001b[0m\u001b[1;33m)\u001b[0m\u001b[1;33m)\u001b[0m\u001b[1;33m\u001b[0m\u001b[0m\n\u001b[0m\u001b[0;32m     13\u001b[0m     \u001b[1;32mtry\u001b[0m\u001b[1;33m:\u001b[0m\u001b[1;33m\u001b[0m\u001b[0m\n\u001b[0;32m     14\u001b[0m         \u001b[0mf\u001b[0m \u001b[1;33m=\u001b[0m \u001b[0mopen\u001b[0m\u001b[1;33m(\u001b[0m\u001b[0mfilename\u001b[0m\u001b[1;33m)\u001b[0m\u001b[1;33m\u001b[0m\u001b[0m\n",
        "\u001b[1;31mcall\u001b[0m: 'file.which.does.not.exist' This is a custom message showing         that my exception works."
       ]
      }
     ],
     "prompt_number": 6
    },
    {
     "cell_type": "code",
     "collapsed": false,
     "input": [
      "read_all_from_file('file.which.does.not.exist', safe=True)"
     ],
     "language": "python",
     "metadata": {},
     "outputs": []
    },
    {
     "cell_type": "code",
     "collapsed": false,
     "input": [],
     "language": "python",
     "metadata": {},
     "outputs": []
    }
   ],
   "metadata": {}
  }
 ]
}