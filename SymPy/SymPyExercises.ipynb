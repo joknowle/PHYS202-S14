{
 "metadata": {
  "name": "",
  "signature": "sha256:6d441cf4ca1b4f4b36922a058ab1d214e265734b3c4557a5401fee801d1613f3"
 },
 "nbformat": 3,
 "nbformat_minor": 0,
 "worksheets": [
  {
   "cells": [
    {
     "cell_type": "code",
     "collapsed": false,
     "input": [],
     "language": "python",
     "metadata": {},
     "outputs": []
    }
   ],
   "metadata": {}
  }
 ]
}