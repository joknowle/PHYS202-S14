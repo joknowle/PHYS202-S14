{
 "metadata": {
  "name": "",
  "signature": "sha256:bdc629f268e882be530fd567b24e168b334d28b40247e459c8fad26f7359d685"
 },
 "nbformat": 3,
 "nbformat_minor": 0,
 "worksheets": []
}