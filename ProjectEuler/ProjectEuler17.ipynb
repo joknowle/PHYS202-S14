{
 "metadata": {
  "name": "",
  "signature": "sha256:cce627d46006f04f30e02e54295862fa1b6fb5f790bbfcb9ee40334cafe9dff5"
 },
 "nbformat": 3,
 "nbformat_minor": 0,
 "worksheets": [
  {
   "cells": [
    {
     "cell_type": "heading",
     "level": 1,
     "metadata": {},
     "source": [
      "Number letter counts"
     ]
    },
    {
     "cell_type": "heading",
     "level": 3,
     "metadata": {},
     "source": [
      "Problem 17"
     ]
    },
    {
     "cell_type": "markdown",
     "metadata": {},
     "source": [
      "If the numbers 1 to 5 are written out in words: one, two, three, four, five, then there are 3 + 3 + 5 + 4 + 4 = 19 letters used in total.\n",
      "\n",
      "If all the numbers from 1 to 1000 (one thousand) inclusive were written out in words, how many letters would be used?"
     ]
    },
    {
     "cell_type": "markdown",
     "metadata": {},
     "source": [
      "NOTE: Do not count spaces or hyphens. For example, 342 (three hundred and forty-two) contains 23 letters and 115 (one hundred and fifteen) contains 20 letters. The use of \"and\" when writing out numbers is in compliance with British usage."
     ]
    },
    {
     "cell_type": "code",
     "collapsed": false,
     "input": [
      "import numpy as np"
     ],
     "language": "python",
     "metadata": {},
     "outputs": [],
     "prompt_number": 1
    },
    {
     "cell_type": "code",
     "collapsed": false,
     "input": [
      "#value_by_word = {'zero':0, 'one':3, 'two':3, 'three':5, 'four':4, 'five':4, 'six':3, 'seven':5, \\\n",
      "#                   'eight':5, 'nine':4, 'ten':3, 'eleven':6, 'twelve':6, 'thirteen':8, 'fourteen':8, \\\n",
      "#                   'fifteen':7, 'sixteen':7, 'seventeen':9, 'eighteen':8, 'nineteen':8}\n",
      "value_by_number = {0:0, 1:3, 2:3, 3:5, 4:4, 5:4, 6:3, 7:5, 8:5, 9:4, 10:3, \\\n",
      "                   11:6, 12:6, 13:8, 14:8, 15:7, 16:7, 17:9, 18:8, 19:8}\n",
      "multiples_of_10 = {0:0, 2:6, 3:6, 4:6, 5:5, 6:5, 7:7, 8:6, 9:6} #key*10 = value ==> # of letters.\n",
      "\n",
      "thou, hun, tens, ones, zeroth = 0, 0, 0, 0, 0\n",
      "HTU = np.array([zeroth, ones, tens, hun, thou])\n",
      "nums = np.array([0, 1, 10, 100, 1000, 10000])\n",
      "trash = 0"
     ],
     "language": "python",
     "metadata": {},
     "outputs": [],
     "prompt_number": 2
    },
    {
     "cell_type": "code",
     "collapsed": false,
     "input": [
      "def count_by_number(x, i):\n",
      "    x[0] =  i % nums[2]                                         # Det: ones.\n",
      "    x[1] = (i % nums[3] - x[0]) / nums[2]                       # Det: tens.\n",
      "    x[2] = (i % nums[4] - x[1] - x[0]) / nums[3]\n",
      "    x[3] = (i % nums[5] - x[2] - x[1] - x[0]) / nums[4]\n",
      "    return x[0], x[1], x[2], x[3]"
     ],
     "language": "python",
     "metadata": {},
     "outputs": [],
     "prompt_number": 3
    },
    {
     "cell_type": "code",
     "collapsed": false,
     "input": [
      "for i in range(1,1001):\n",
      "    # first step in range of numbers before repetition begins.\n",
      "    if i <= 19: \n",
      "        nums[0] += value_by_number[i]\n",
      "    # second step of numbers before repetition begins.\n",
      "    if i < 100 and i >= 20:\n",
      "        HTU[1], HTU[2], trash, trash = count_by_number([HTU[1], HTU[2], 0, 0], i)\n",
      "        nums[0] += value_by_number[HTU[1]] +  multiples_of_10[HTU[2]]\n",
      "\n",
      "    # third step\n",
      "    if i >= 100: \n",
      "        HTU[1], HTU[2], HTU[3], trash = count_by_number([HTU[1], HTU[2], HTU[3], 0], i)\n",
      "        # Must account for numbers between 10 and 20. \"The Teens.\"\n",
      "        if HTU[2] == 1:\n",
      "            special_case = HTU[2] * nums[2] + HTU[1]\n",
      "            nums[0] += value_by_number[HTU[3]] + nums[2] + value_by_number[special_case]\n",
      "        else:\n",
      "            if HTU[2] > 0 or HTU[1] > 0:\n",
      "                nums[0] += value_by_number[HTU[3]] + nums[2] + multiples_of_10[HTU[2]] + value_by_number[HTU[1]]\n",
      "            else:\n",
      "                if i != 1000:\n",
      "                    nums[0] += value_by_number[HTU[3]] + 7\n",
      "\n",
      "    if i == 1000: # Last step\n",
      "        nums[0] += 11 # one instance: 11 letters for 'one thousand'\n",
      "        #print 'iteration #',i,':', nums[0], ' :total letters'\n",
      "        \n",
      "print 'iteration range(1,1001):', nums[0], ' :total letters'\n",
      "nums[0] = 0 #reset"
     ],
     "language": "python",
     "metadata": {},
     "outputs": [
      {
       "output_type": "stream",
       "stream": "stdout",
       "text": [
        "iteration range(1,1001): 21224  :total letters\n"
       ]
      }
     ],
     "prompt_number": 27
    },
    {
     "cell_type": "code",
     "collapsed": false,
     "input": [],
     "language": "python",
     "metadata": {},
     "outputs": []
    }
   ],
   "metadata": {}
  }
 ]
}