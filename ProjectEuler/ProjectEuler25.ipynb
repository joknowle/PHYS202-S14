{
 "metadata": {
  "name": "",
  "signature": "sha256:7569bbedab9b18c20c0cae6a929b7cf7fcc85cfaa8bb766eab144f947dec264e"
 },
 "nbformat": 3,
 "nbformat_minor": 0,
 "worksheets": [
  {
   "cells": [
    {
     "cell_type": "heading",
     "level": 1,
     "metadata": {},
     "source": [
      "Problem 25"
     ]
    },
    {
     "cell_type": "heading",
     "level": 3,
     "metadata": {},
     "source": [
      "1000-digit Fibonacci number"
     ]
    },
    {
     "cell_type": "markdown",
     "metadata": {},
     "source": [
      "The Fibonacci sequence is defined by the recurrence relation:\n",
      "\n",
      "$$F_n = F_{n-1} + F_{n-2}, \\tag{where $F_1 = 1 and F_2 = 1$}$$ "
     ]
    },
    {
     "cell_type": "markdown",
     "metadata": {},
     "source": [
      "Hence the first 12 terms will be:\n",
      "\n",
      "F1 = 1\n",
      "\n",
      "F2 = 1\n",
      "\n",
      "F3 = 2\n",
      "\n",
      "F4 = 3\n",
      "\n",
      "F5 = 5\n",
      "\n",
      "F6 = 8\n",
      "\n",
      "F7 = 13\n",
      "\n",
      "F8 = 21\n",
      "\n",
      "F9 = 34\n",
      "\n",
      "F10 = 55\n",
      "\n",
      "F11 = 89\n",
      "\n",
      "F12 = 144\n"
     ]
    },
    {
     "cell_type": "markdown",
     "metadata": {},
     "source": [
      "The 12th term, $F_{12}$, is the first term to contain three digits.\n",
      "\n",
      "What is the first term in the Fibonacci sequence to contain 1000 digits?"
     ]
    },
    {
     "cell_type": "code",
     "collapsed": false,
     "input": [
      "%pylab inline\n",
      "import numpy as np\n",
      "import math, decimal as dc"
     ],
     "language": "python",
     "metadata": {},
     "outputs": [
      {
       "output_type": "stream",
       "stream": "stdout",
       "text": [
        "Populating the interactive namespace from numpy and matplotlib\n",
        "\n"
       ]
      }
     ],
     "prompt_number": 102
    },
    {
     "cell_type": "markdown",
     "metadata": {},
     "source": [
      "def listFN():\n",
      "    \"\"\"\n",
      "    Create a list of fibonacci numbers based on formula above. \n",
      "    \"\"\"\n",
      "    count = 0\n",
      "    y = np.zeros(5000)\n",
      "    y[0], y[1], y[2] = 0, 1, 1\n",
      "    \n",
      "    for n in range(3,5000):\n",
      "        lambda y: = y[n-1] + y[n-2]\n",
      "        count = decimal.Decimal(math.log10(y[n - 2])) + 1\n",
      "        print count\n",
      "        if count == 1000:\n",
      "            return n\n",
      "    return None\n",
      "print \"The first term with 1000 digits is:\", listFN()"
     ]
    },
    {
     "cell_type": "code",
     "collapsed": false,
     "input": [
      "def listFN():\n",
      "    \"\"\"\n",
      "    Create a list of fibonacci numbers based on formula above and convert to str.\n",
      "    If len(str) == 1000; return iteration number.\n",
      "    \"\"\"\n",
      "    x, y = 0, 1\n",
      "    for n in range(0,5000):\n",
      "        if len(str(x)) == 1000:\n",
      "            return n\n",
      "        x,y = y,x+y\n",
      "        \n",
      "print \"The first term with 1000 digits is:\", listFN()"
     ],
     "language": "python",
     "metadata": {},
     "outputs": [
      {
       "output_type": "stream",
       "stream": "stdout",
       "text": [
        "The first term with 1000 digits is: "
       ]
      },
      {
       "output_type": "stream",
       "stream": "stdout",
       "text": [
        "4782\n"
       ]
      }
     ],
     "prompt_number": 126
    },
    {
     "cell_type": "code",
     "collapsed": false,
     "input": [],
     "language": "python",
     "metadata": {},
     "outputs": []
    }
   ],
   "metadata": {}
  }
 ]
}