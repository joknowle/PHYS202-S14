{
 "metadata": {
  "name": "",
  "signature": "sha256:a07dc45948dbf876889cbb9e0761560a9ddbfb108c553d3b248060f4d16982aa"
 },
 "nbformat": 3,
 "nbformat_minor": 0,
 "worksheets": [
  {
   "cells": [
    {
     "cell_type": "heading",
     "level": 1,
     "metadata": {},
     "source": [
      "Counting Sundays"
     ]
    },
    {
     "cell_type": "heading",
     "level": 4,
     "metadata": {},
     "source": [
      "Problem 19\n"
     ]
    },
    {
     "cell_type": "markdown",
     "metadata": {},
     "source": [
      "You are given the following information, but you may prefer to do some research for yourself."
     ]
    },
    {
     "cell_type": "markdown",
     "metadata": {},
     "source": [
      "* 1st Jan 1900 was a Monday.\n",
      "\n",
      "* Thirty days has September,\n",
      "\n",
      "April, June and November.\n",
      "\n",
      "All the rest have thirty-one,\n",
      "\n",
      "Saving February alone,\n",
      "\n",
      "Which has twenty-eight, rain or shine.\n",
      "\n",
      "And on leap years, twenty-nine.\n",
      "\n",
      "* A leap year occurs on any year evenly divisible by 4, but not on a century unless it is divisible by 400."
     ]
    },
    {
     "cell_type": "markdown",
     "metadata": {},
     "source": [
      "How many Sundays fell on the first of the month during the twentieth century (1 Jan 1901 to 31 Dec 2000)?\n",
      "\n"
     ]
    },
    {
     "cell_type": "code",
     "collapsed": false,
     "input": [
      "import numpy as np\n",
      "%pylab inline"
     ],
     "language": "python",
     "metadata": {},
     "outputs": [
      {
       "output_type": "stream",
       "stream": "stdout",
       "text": [
        "Populating the interactive namespace from numpy and matplotlib\n"
       ]
      }
     ],
     "prompt_number": 19
    },
    {
     "cell_type": "code",
     "collapsed": false,
     "input": [
      "# First day to account for was a Tuesday.\n",
      "# Must solve this by using Jan 1st 1900 as a Monday.\n",
      "# It is easy to see that Since Jan 1st 1900 was a Monday,\n",
      "# then Jan 1st of 1901 is a Tuesday, \n",
      "# Jan 1st of 1902 is a Wednesday,\n",
      "# Jan 1st of 1903 is a Thursday,\n",
      "# Jan 1st of 1904 is a Friday,\n",
      "# Leap year interjects\n",
      "# Jan 1st of 1905 is NOT a Saturday, but rather a Sunday. \n",
      "# Pattern continues.\n",
      "\n",
      "# NOTES: 365 days a year, but leap year = 366.\n",
      "\n",
      "# Day codes:\n",
      "# Mon = 1, Tue = 2, Wed = 3, Thu = 4, Fri = 5, Sat = 6, Sun = 7."
     ],
     "language": "python",
     "metadata": {},
     "outputs": [],
     "prompt_number": 1
    },
    {
     "cell_type": "code",
     "collapsed": false,
     "input": [
      "month = np.array([\"Jan\",\"Feb\",\"Mar\", \"Apr\", \"May\", \"June\", \"July\", \\\n",
      "              \"Aug\", \"Sept\", \"Oct\", \"Nov\", \"Dec\"])\n",
      "\n",
      "daysInMonth = {'Jan': 31, 'Feb': 28, 'Mar': 31, 'Apr': 30, \\\n",
      "               'May': 31, 'June': 30, 'July': 31, 'Aug': 31, \\\n",
      "            'Sept': 30, 'Oct': 31, 'Nov': 30, 'Dec': 31}\n",
      "year = 1900\n",
      "countSun = 0\n",
      "\n",
      "def leapYear(isLeapYear):\n",
      "    \"\"\"\n",
      "    Function call to determine if the current year is a leap year.\n",
      "    If it isn't, function returns false and the month of Feb\n",
      "    remains 28 days.\n",
      "    If it is, function returns true and the month of Feb is 29 days.\n",
      "    \"\"\"\n",
      "    if isLeapYear % 100 == 0:\n",
      "        if isLeapYear % 400 == 0:\n",
      "            return True\n",
      "        else:\n",
      "            return False\n",
      "    elif isLeapYear % 4 == 0:\n",
      "        return True\n",
      "    else: \n",
      "        return False\n",
      "    \n",
      "def nextDay(day):\n",
      "    \"\"\"\n",
      "    Function call to assign day name string value. ie: Monday - > Tuesday.\n",
      "    Purpose: To keep track of which day names are \n",
      "    associated with which day values in the month. \n",
      "    \"\"\"\n",
      "    if day == \"Sun\":\n",
      "        return \"Mon\"\n",
      "    elif day == \"Mon\":\n",
      "        return \"Tue\"\n",
      "    elif day == \"Tue\":\n",
      "        return \"Wed\"\n",
      "    elif day == \"Wed\":\n",
      "        return \"Thu\"\n",
      "    elif day == \"Thu\":\n",
      "        return \"Fri\"\n",
      "    elif day == \"Fri\":\n",
      "        return \"Sat\"\n",
      "    elif day == \"Sat\":\n",
      "        return \"Sun\"\n",
      "    \n",
      "while(year < 2001): # start from the year 1900 and evaluate each month and day in the year.\n",
      "    currentMonth = 0                                     # Starting/Reset value for the loop year.\n",
      "    day = 1                                              # Starting/Reset value for the loop year.\n",
      "    while(currentMonth <= len(month) -1):                # Loop through range(0,11) for index reasons.\n",
      "        if month[currentMonth] == \"Feb\":                 # Det. if currentMonth is Feb to account for leap year.\n",
      "            if leapYear(year) == True:\n",
      "                daysInMonth['Feb'] = 29\n",
      "                                                         # print \"changed feb to 29 days for leap year\"\n",
      "            elif leapYear(year) == False:\n",
      "                daysInMonth['Feb'] = 28\n",
      "                                                         # print \"no leap year. 28 days still.\"\n",
      "        while day <= daysInMonth[month[currentMonth]]:   # Loop through max days associated with currentMonth.\n",
      "            if year > 1900:                              # Counting Sundays the 1st from 1901 on.\n",
      "                if day == 1 and currentDay == \"Sun\":\n",
      "                    countSun += 1\n",
      "                currentDay = nextDay(currentDay)\n",
      "                day += 1\n",
      "            elif year == 1900:                           # Not counting Sundays the 1st in 1900.\n",
      "                currentDay = nextDay(currentDay)\n",
      "                day += 1\n",
      "        currentMonth += 1                                # Increment month.\n",
      "        day = 1                                          # Reset value for day in the month.\n",
      "    year += 1                                            # Increment year.\n",
      "    \n",
      "print countSun"
     ],
     "language": "python",
     "metadata": {},
     "outputs": [
      {
       "output_type": "stream",
       "stream": "stdout",
       "text": [
        "171\n"
       ]
      }
     ],
     "prompt_number": 51
    },
    {
     "cell_type": "code",
     "collapsed": false,
     "input": [
      "import datetime as dt"
     ],
     "language": "python",
     "metadata": {},
     "outputs": [],
     "prompt_number": 70
    },
    {
     "cell_type": "code",
     "collapsed": false,
     "input": [
      "sun = 0\n",
      "for x in range(1901, 2001):\n",
      "    for y in range(1,13):\n",
      "        if dt.date(x,y,1).isoweekday() == 7:\n",
      "            sun += 1\n",
      "print sun"
     ],
     "language": "python",
     "metadata": {},
     "outputs": [
      {
       "output_type": "stream",
       "stream": "stdout",
       "text": [
        "171\n"
       ]
      }
     ],
     "prompt_number": 99
    },
    {
     "cell_type": "markdown",
     "metadata": {},
     "source": [
      "Values match!"
     ]
    },
    {
     "cell_type": "code",
     "collapsed": false,
     "input": [],
     "language": "python",
     "metadata": {},
     "outputs": []
    }
   ],
   "metadata": {}
  }
 ]
}