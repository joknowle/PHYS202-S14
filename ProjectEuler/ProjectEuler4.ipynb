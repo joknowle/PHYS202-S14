{
 "metadata": {
  "name": "",
  "signature": "sha256:1f60d32e23ec8357e8a4070be2de0b53bcdb60e7bae17dfb0f77eba57bd89279"
 },
 "nbformat": 3,
 "nbformat_minor": 0,
 "worksheets": [
  {
   "cells": [
    {
     "cell_type": "heading",
     "level": 1,
     "metadata": {},
     "source": [
      "Largest palindrome product"
     ]
    },
    {
     "cell_type": "heading",
     "level": 3,
     "metadata": {},
     "source": [
      "Problem 4"
     ]
    },
    {
     "cell_type": "markdown",
     "metadata": {},
     "source": [
      "A palindromic number reads the same both ways. The largest palindrome made from the product of two 2-digit numbers is 9009 = 91 \u00d7 99.\n",
      "\n",
      "Find the largest palindrome made from the product of two 3-digit numbers."
     ]
    },
    {
     "cell_type": "code",
     "collapsed": false,
     "input": [
      "pally = []\n",
      "for i in range(10, 100):\n",
      "    for j in range(10, 100):\n",
      "        a = i * j\n",
      "        if a % 10 == (a / 1000) % 10 and (a / 10) % 10 == (a / 100) % 10:\n",
      "            pally.append(a)\n",
      "print max(pally)\n"
     ],
     "language": "python",
     "metadata": {},
     "outputs": [
      {
       "output_type": "stream",
       "stream": "stdout",
       "text": [
        "9009\n"
       ]
      }
     ],
     "prompt_number": 1
    },
    {
     "cell_type": "code",
     "collapsed": false,
     "input": [
      "pally = []\n",
      "for i in range(100,1000):\n",
      "    for j in range(100,1000):\n",
      "        a = i * j\n",
      "        if a%10==(a / 100000) % 10 and (a / 10) % 10==(a / 10000) % 10 and (a / 100) % 10==(a / 1000) % 10:\n",
      "            pally.append(a)\n",
      "print max(pally)"
     ],
     "language": "python",
     "metadata": {},
     "outputs": [
      {
       "output_type": "stream",
       "stream": "stdout",
       "text": [
        "906609\n"
       ]
      }
     ],
     "prompt_number": 2
    },
    {
     "cell_type": "code",
     "collapsed": false,
     "input": [],
     "language": "python",
     "metadata": {},
     "outputs": []
    }
   ],
   "metadata": {}
  }
 ]
}