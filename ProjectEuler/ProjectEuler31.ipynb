{
 "metadata": {
  "name": "",
  "signature": "sha256:7fa15a1ce9eb827b738fde41d2e17a94899a3601621fdfefd4beb3c2adb27f77"
 },
 "nbformat": 3,
 "nbformat_minor": 0,
 "worksheets": [
  {
   "cells": [
    {
     "cell_type": "heading",
     "level": 1,
     "metadata": {},
     "source": [
      "Coin sums"
     ]
    },
    {
     "cell_type": "heading",
     "level": 3,
     "metadata": {},
     "source": [
      "Problem 31"
     ]
    },
    {
     "cell_type": "markdown",
     "metadata": {},
     "source": [
      "In England the currency is made up of pound, \u00a3, and pence, p, and there are eight coins in general circulation:\n",
      "\n",
      "1p, 2p, 5p, 10p, 20p, 50p, \u00a31 (100p) and \u00a32 (200p).\n",
      "It is possible to make \u00a32 in the following way:\n",
      "\n",
      "1\u00d7\u00a31 + 1\u00d750p + 2\u00d720p + 1\u00d75p + 1\u00d72p + 3\u00d71p\n",
      "How many different ways can \u00a32 be made using any number of coins?"
     ]
    },
    {
     "cell_type": "code",
     "collapsed": false,
     "input": [
      "import numpy as np\n",
      "%pylab inline"
     ],
     "language": "python",
     "metadata": {},
     "outputs": [
      {
       "output_type": "stream",
       "stream": "stdout",
       "text": [
        "Populating the interactive namespace from numpy and matplotlib\n"
       ]
      }
     ],
     "prompt_number": 7
    },
    {
     "cell_type": "code",
     "collapsed": false,
     "input": [
      "\n",
      "# array set [1, 5, 10,20,50,100,200]\n",
      "# 200 for 1p\n",
      "# 100 for 2p\n",
      "# 40 for 5p\n",
      "# 20 for 10p\n",
      "# 10 for 20p\n",
      "# 4 for 50p\n",
      "# 2 for 1 pound\n",
      "# 1 for 2 pounds.\n",
      "# 0:195 + 1:1, 0:190 + 1:2, 0:185 + 1:3....\n",
      "# 0:190 + 2:1\n",
      "# 0:180 + 3:1\n",
      "# recurrance formula for 1p: 0:200-(x:n*item) + x:n\n",
      "\n",
      "\n",
      "# scrapped code below\n",
      "\"\"\"\n",
      "a = 0 #starting sum\n",
      "b = 0\n",
      "x = 0 #starting recursive sum\n",
      "y = 0 #starting index\n",
      "def count(fin, i, j, arr):\n",
      "    #count for each individual value to total 200 first.\n",
      "    i = fin/arr[j]\n",
      "    return i\n",
      "def count1(fin, i, j, arr):\n",
      "while y < len(coins):\n",
      "    a += count(two_pounds, x, y, coins)\n",
      "    y += 1\n",
      "print a\n",
      "\"\"\"\n",
      "# to make 5p\n",
      "# 1, 1, 1, 1, 1\n",
      "# 1, 1, 1, 2\n",
      "# 1, 2, 2\n",
      "# 5\n",
      "# 4 different ways.\n",
      "# need 73682 \n",
      "\n",
      "coins = np.array([1,2,5,10,20,50,100,200])\n",
      "two_pounds = 200\n",
      "def count(fin, arr):\n",
      "    perm = [1]+[0]*fin # create array to store value of coins in each element\n",
      "    for coin in arr:  # permute each coin\n",
      "        for i in range(coin, fin+1): # for each i between the coin and 200 pounds...\n",
      "            perm[i] += perm[i - coin] # store previous element values of the array\n",
      "    return perm[fin]  \n",
      "print count(two_pounds, coins)   "
     ],
     "language": "python",
     "metadata": {},
     "outputs": [
      {
       "output_type": "stream",
       "stream": "stdout",
       "text": [
        "73682\n"
       ]
      }
     ],
     "prompt_number": 10
    },
    {
     "cell_type": "code",
     "collapsed": false,
     "input": [],
     "language": "python",
     "metadata": {},
     "outputs": []
    }
   ],
   "metadata": {}
  }
 ]
}