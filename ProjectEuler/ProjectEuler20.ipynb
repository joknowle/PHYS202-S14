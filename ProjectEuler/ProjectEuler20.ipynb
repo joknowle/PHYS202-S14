{
 "metadata": {
  "name": "",
  "signature": "sha256:cd91c2df38530b6ee202c4f66cb85c3187572026e451356e8e759558b47f81ec"
 },
 "nbformat": 3,
 "nbformat_minor": 0,
 "worksheets": [
  {
   "cells": [
    {
     "cell_type": "heading",
     "level": 1,
     "metadata": {},
     "source": [
      "Factorial digit sum"
     ]
    },
    {
     "cell_type": "heading",
     "level": 3,
     "metadata": {},
     "source": [
      "Problem 20"
     ]
    },
    {
     "cell_type": "markdown",
     "metadata": {},
     "source": [
      "$n!$ means $n \u00d7 (n \u2212 1) \u00d7 ... \u00d7 3 \u00d7 2 \u00d7 1$\n",
      "\n",
      "For example, $10! = 10 \u00d7 9 \u00d7 ... \u00d7 3 \u00d7 2 \u00d7 1 = 3628800$,\n",
      "and the sum of the digits in the number $10!$ is $3 + 6 + 2 + 8 + 8 + 0 + 0 = 27$.\n",
      "\n",
      "Find the sum of the digits in the number $100!$"
     ]
    },
    {
     "cell_type": "code",
     "collapsed": false,
     "input": [
      "import numpy as np\n",
      "import math"
     ],
     "language": "python",
     "metadata": {},
     "outputs": [],
     "prompt_number": 3
    },
    {
     "cell_type": "code",
     "collapsed": false,
     "input": [
      "# test case to reproduce given example results:\n",
      "factorialTest = math.factorial(10)\n",
      "factorialSumTest = 0\n",
      "for i in str(factorialTest):\n",
      "    factorialSumTest += int(i)\n",
      "print \"10! =\", factorialTest, \"And the sum of digits in\", factorialTest, \"is:\", factorialSumTest, \"\\n\"\n",
      "\n",
      "# implementation to solve for 100!\n",
      "factorial = math.factorial(100)\n",
      "factorialSum = 0\n",
      "for i in str(factorial):\n",
      "    factorialSum += int(i)\n",
      "print \"100! =\", factorial, \"\\n\\n\", \"And the sum of digits in 100! is:\", factorialSum\n"
     ],
     "language": "python",
     "metadata": {},
     "outputs": [
      {
       "output_type": "stream",
       "stream": "stdout",
       "text": [
        "10! = 3628800 And the sum of digits in 3628800 is: 27 \n",
        "\n",
        "100! = 93326215443944152681699238856266700490715968264381621468592963895217599993229915608941463976156518286253697920827223758251185210916864000000000000000000000000 \n",
        "\n",
        "And the sum of digits in 100! is: 648\n"
       ]
      }
     ],
     "prompt_number": 14
    }
   ],
   "metadata": {}
  }
 ]
}