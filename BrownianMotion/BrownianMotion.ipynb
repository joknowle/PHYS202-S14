{
 "metadata": {
  "name": "",
  "signature": "sha256:9b0a32519337f8e85fcfcb6f2bb286694f2d30650ab955b65d736f7ea7698c71"
 },
 "nbformat": 3,
 "nbformat_minor": 0,
 "worksheets": [
  {
   "cells": [
    {
     "cell_type": "heading",
     "level": 1,
     "metadata": {},
     "source": [
      "Brownian Motion and Avogadro's Number"
     ]
    },
    {
     "cell_type": "markdown",
     "metadata": {},
     "source": [
      "**Data collection. **\n",
      "\n",
      "Using a USB microscope and diluted milk, we can capture images of milkfat globules undergoing Brownian motion. For writing and testing the code, you will be supplied with a set of raw data as sequences of 200 JPEG images. Once you have a working analysis chain, you will collect and analyze your own data.\n",
      "\n",
      "\n",
      "**Image Segmentation**\n",
      "\n",
      "Read in an image and use thresholding to separate the image into foreground and background pixels.\n",
      "\n",
      "**Particle identification. **\n",
      "\n",
      "Find maximal blobs of connected foreground pixels using depth-first search.\n",
      "\n",
      "**Particle tracking. **\n",
      "\n",
      "Determine how far each particle moves between observations via a simple nearest neighbor calculation.\n",
      "\n",
      "**Data analysis. **\n",
      "\n",
      "Estimate Avogadro's number by averaging a sequence of displacements and plugging the results into Einstein's equations."
     ]
    },
    {
     "cell_type": "code",
     "collapsed": false,
     "input": [
      "import Blobfinder as blf\n",
      "import numpy as np\n",
      "from PIL import Image\n",
      "from StringIO import StringIO\n",
      "import requests"
     ],
     "language": "python",
     "metadata": {},
     "outputs": [],
     "prompt_number": 11
    },
    {
     "cell_type": "code",
     "collapsed": false,
     "input": [
      "frame00000 = Image.open('run6/frame00000.jpg')\n",
      "blf.flubberFinder(25, frame00000, 600.)"
     ],
     "language": "python",
     "metadata": {},
     "outputs": [
      {
       "ename": "TypeError",
       "evalue": "flubberFinder() takes exactly 2 arguments (3 given)",
       "output_type": "pyerr",
       "traceback": [
        "\u001b[1;31m---------------------------------------------------------------------------\u001b[0m\n\u001b[1;31mTypeError\u001b[0m                                 Traceback (most recent call last)",
        "\u001b[1;32m<ipython-input-16-129b86716bb6>\u001b[0m in \u001b[0;36m<module>\u001b[1;34m()\u001b[0m\n\u001b[0;32m      1\u001b[0m \u001b[0mframe00000\u001b[0m \u001b[1;33m=\u001b[0m \u001b[0mImage\u001b[0m\u001b[1;33m.\u001b[0m\u001b[0mopen\u001b[0m\u001b[1;33m(\u001b[0m\u001b[1;34m'run6/frame00000.jpg'\u001b[0m\u001b[1;33m)\u001b[0m\u001b[1;33m\u001b[0m\u001b[0m\n\u001b[1;32m----> 2\u001b[1;33m \u001b[0mblf\u001b[0m\u001b[1;33m.\u001b[0m\u001b[0mflubberFinder\u001b[0m\u001b[1;33m(\u001b[0m\u001b[0mframe00000\u001b[0m\u001b[1;33m,\u001b[0m \u001b[1;36m600.\u001b[0m\u001b[1;33m,\u001b[0m \u001b[1;36m25\u001b[0m\u001b[1;33m)\u001b[0m\u001b[1;33m\u001b[0m\u001b[0m\n\u001b[0m",
        "\u001b[1;31mTypeError\u001b[0m: flubberFinder() takes exactly 2 arguments (3 given)"
       ]
      }
     ],
     "prompt_number": 16
    },
    {
     "cell_type": "code",
     "collapsed": false,
     "input": [
      "def beadMassInfo(p, tau, fileName):\n",
      "    \"\"\"\n",
      "    Creates a BlobFinder object using a luminance threshold of tau.\n",
      "    Prints out the mass and c.o.m of all beads with at least pixel size p.\n",
      "    Prints out the mass and c.o.m of all the blobs. (beads w/ at least 1 pixel.)\n",
      "    \"\"\"\n",
      "    "
     ],
     "language": "python",
     "metadata": {},
     "outputs": [],
     "prompt_number": 2
    },
    {
     "cell_type": "code",
     "collapsed": false,
     "input": [
      "def initiation(p, tau, deltaP, fileNameSequence):\n",
      "    \"\"\"\n",
      "    Identifies beads (under specified value p and tau) in each image (using BlobFinder.)\n",
      "    Writes to a file the radial displacement for each bead/frame (one per line, with '%10.4f'.)\n",
      "    Note: beads tracked by deltaP requirements, and only by two consecutive frames.\n",
      "    \"\"\"\n",
      "    data = Image.open(\"\")\n",
      "    BlobFinder(data,200+200+200)\n",
      "    #plt.imshow(data);"
     ],
     "language": "python",
     "metadata": {},
     "outputs": [],
     "prompt_number": 3
    },
    {
     "cell_type": "code",
     "collapsed": false,
     "input": [
      "filenames = []\n",
      "for i in range(0, 200):\n",
      "    i = str(i)\n",
      "    if len(i) == 1:\n",
      "        filename = 'frame0000' + i + '.jpg'\n",
      "        filenames.append(filename)\n",
      "    if len(i) == 2:\n",
      "        filename = 'frame000' + i + '.jpg'\n",
      "        filenames.append(filename)\n",
      "    if len(i) == 3:\n",
      "        filename = 'frame00' + i + '.jpg'\n",
      "        filenames.append(filename)"
     ],
     "language": "python",
     "metadata": {},
     "outputs": [
      {
       "ename": "NameError",
       "evalue": "name 'fileName' is not defined",
       "output_type": "pyerr",
       "traceback": [
        "\u001b[0;31m---------------------------------------------------------------------------\u001b[0m\n\u001b[0;31mNameError\u001b[0m                                 Traceback (most recent call last)",
        "\u001b[0;32m<ipython-input-4-0ef503b998ee>\u001b[0m in \u001b[0;36m<module>\u001b[0;34m()\u001b[0m\n\u001b[1;32m      1\u001b[0m \u001b[0mp\u001b[0m \u001b[0;34m=\u001b[0m \u001b[0;36m25\u001b[0m\u001b[0;34m\u001b[0m\u001b[0m\n\u001b[1;32m      2\u001b[0m \u001b[0mtau\u001b[0m \u001b[0;34m=\u001b[0m \u001b[0;36m600\u001b[0m\u001b[0;34m\u001b[0m\u001b[0m\n\u001b[0;32m----> 3\u001b[0;31m \u001b[0msomething\u001b[0m\u001b[0;34m(\u001b[0m\u001b[0mp\u001b[0m\u001b[0;34m,\u001b[0m \u001b[0mtau\u001b[0m\u001b[0;34m,\u001b[0m \u001b[0mfileName\u001b[0m\u001b[0;34m)\u001b[0m\u001b[0;34m\u001b[0m\u001b[0m\n\u001b[0m",
        "\u001b[0;31mNameError\u001b[0m: name 'fileName' is not defined"
       ]
      }
     ],
     "prompt_number": 4
    },
    {
     "cell_type": "code",
     "collapsed": false,
     "input": [],
     "language": "python",
     "metadata": {},
     "outputs": [],
     "prompt_number": 1
    },
    {
     "cell_type": "code",
     "collapsed": false,
     "input": [],
     "language": "python",
     "metadata": {},
     "outputs": []
    }
   ],
   "metadata": {}
  }
 ]
}