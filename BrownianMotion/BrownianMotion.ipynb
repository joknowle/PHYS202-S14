{
 "metadata": {
  "name": "",
  "signature": "sha256:81d61cc5dd3a377a4cb8feac17f479a207253aaca52f8d7f331e88d38cfd434c"
 },
 "nbformat": 3,
 "nbformat_minor": 0,
 "worksheets": [
  {
   "cells": [
    {
     "cell_type": "code",
     "collapsed": false,
     "input": [
      "import Blobfinder as blf"
     ],
     "language": "python",
     "metadata": {},
     "outputs": [],
     "prompt_number": 1
    },
    {
     "cell_type": "code",
     "collapsed": false,
     "input": [
      "def beadMassInfo(p, tau, fileName):\n",
      "    \"\"\"\n",
      "    Creates a BlobFinder object using a luminance threshold of tau.\n",
      "    Prints out the mass and c.o.m of all beads with at least pixel size p.\n",
      "    Prints out the mass and c.o.m of all the blobs. (beads w/ at least 1 pixel.)\n",
      "    \"\"\"\n",
      "    "
     ],
     "language": "python",
     "metadata": {},
     "outputs": [],
     "prompt_number": 2
    },
    {
     "cell_type": "code",
     "collapsed": false,
     "input": [
      "def initiation(p, tau, deltaP, fileNameSequence):\n",
      "    \"\"\"\n",
      "    Identifies beads (under specified value p and tau) in each image (using BlobFinder.)\n",
      "    Writes to a file the radial displacement for each bead/frame (one per line, with '%10.4f'.)\n",
      "    Note: beads tracked by deltaP requirements, and only by two consecutive frames.\n",
      "    \"\"\"\n",
      "    data = Image.open(\"\")\n",
      "    BlobFinder(data,200+200+200)\n",
      "    #plt.imshow(data);"
     ],
     "language": "python",
     "metadata": {},
     "outputs": [],
     "prompt_number": 3
    },
    {
     "cell_type": "code",
     "collapsed": false,
     "input": [
      "p = 25\n",
      "tau = 600\n",
      "intitiation(p, tau, fileName)"
     ],
     "language": "python",
     "metadata": {},
     "outputs": [
      {
       "ename": "NameError",
       "evalue": "name 'fileName' is not defined",
       "output_type": "pyerr",
       "traceback": [
        "\u001b[0;31m---------------------------------------------------------------------------\u001b[0m\n\u001b[0;31mNameError\u001b[0m                                 Traceback (most recent call last)",
        "\u001b[0;32m<ipython-input-4-0ef503b998ee>\u001b[0m in \u001b[0;36m<module>\u001b[0;34m()\u001b[0m\n\u001b[1;32m      1\u001b[0m \u001b[0mp\u001b[0m \u001b[0;34m=\u001b[0m \u001b[0;36m25\u001b[0m\u001b[0;34m\u001b[0m\u001b[0m\n\u001b[1;32m      2\u001b[0m \u001b[0mtau\u001b[0m \u001b[0;34m=\u001b[0m \u001b[0;36m600\u001b[0m\u001b[0;34m\u001b[0m\u001b[0m\n\u001b[0;32m----> 3\u001b[0;31m \u001b[0msomething\u001b[0m\u001b[0;34m(\u001b[0m\u001b[0mp\u001b[0m\u001b[0;34m,\u001b[0m \u001b[0mtau\u001b[0m\u001b[0;34m,\u001b[0m \u001b[0mfileName\u001b[0m\u001b[0;34m)\u001b[0m\u001b[0;34m\u001b[0m\u001b[0m\n\u001b[0m",
        "\u001b[0;31mNameError\u001b[0m: name 'fileName' is not defined"
       ]
      }
     ],
     "prompt_number": 4
    },
    {
     "cell_type": "code",
     "collapsed": false,
     "input": [],
     "language": "python",
     "metadata": {},
     "outputs": []
    }
   ],
   "metadata": {}
  }
 ]
}