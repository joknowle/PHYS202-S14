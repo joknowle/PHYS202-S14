{
 "metadata": {
  "name": "",
  "signature": "sha256:048ef3ba3e94373791419c493b5e1a700a47cf22e4f192d4ea652f8d870a1d92"
 },
 "nbformat": 3,
 "nbformat_minor": 0,
 "worksheets": [
  {
   "cells": [
    {
     "cell_type": "heading",
     "level": 1,
     "metadata": {},
     "source": [
      "Brownian Motion and Avogadro's Number"
     ]
    },
    {
     "cell_type": "markdown",
     "metadata": {},
     "source": [
      "**Data collection. **\n",
      "\n",
      "Using a USB microscope and diluted milk, we can capture images of milkfat globules undergoing Brownian motion. For writing and testing the code, you will be supplied with a set of raw data as sequences of 200 JPEG images. Once you have a working analysis chain, you will collect and analyze your own data.\n"
     ]
    },
    {
     "cell_type": "markdown",
     "metadata": {},
     "source": [
      "**Image Segmentation**\n",
      "\n",
      "Read in an image and use thresholding to separate the image into foreground and background pixels."
     ]
    },
    {
     "cell_type": "markdown",
     "metadata": {},
     "source": [
      "**Particle identification. **\n",
      "\n",
      "Find maximal blobs of connected foreground pixels using depth-first search."
     ]
    },
    {
     "cell_type": "markdown",
     "metadata": {},
     "source": [
      "**Particle tracking. **\n",
      "\n",
      "Determine how far each particle moves between observations via a simple nearest neighbor calculation."
     ]
    },
    {
     "cell_type": "markdown",
     "metadata": {},
     "source": [
      "**Data analysis. **\n",
      "\n",
      "Estimate Avogadro's number by averaging a sequence of displacements and plugging the results into Einstein's equations."
     ]
    },
    {
     "cell_type": "code",
     "collapsed": false,
     "input": [
      "%%file Blobfinder.py\n",
      "import numpy as np\n",
      "from PIL import Image\n",
      "from StringIO import StringIO\n",
      "\n",
      "class Blob():\n",
      "    def __init__():\n",
      "        \"\"\"\n",
      "        Construct an empty blob.\n",
      "        \"\"\"\n",
      "        return None\n",
      "\n",
      "    def add(i,j):\n",
      "        \"\"\"\n",
      "        Add a pixel (i, j) to the blob.\n",
      "        \"\"\"\n",
      "        return None\n",
      "\n",
      "    def mass():\n",
      "        \"\"\"\n",
      "        Return number of pixels added equal to its mass.\n",
      "        \"\"\"\n",
      "        return None\n",
      "\n",
      "    def distanceTo(blob):\n",
      "        \"\"\"\n",
      "        Return distance between the center of mass of this blob and b\n",
      "        \"\"\"\n",
      "        return None\n",
      "\n",
      "    def centerOfMass():\n",
      "        \"\"\"\n",
      "        Return tuple of (x,y) values for this blob's center of mass.\n",
      "        Format center-of-mass coordinates with 4 sig figs.\n",
      "        \"\"\"\n",
      "        return None\n",
      "\n",
      "def BlobFinder(picture, tau):\n",
      "    '''\n",
      "    find all blobs in the picture using the luminance threshold tau\n",
      "    '''\n",
      "    black = (0, 0, 0)\n",
      "    white = (255, 255, 255)\n",
      "    xsize, ysize = picture.size\n",
      "    temp = picture.load()\n",
      "    for x in range(xsize):\n",
      "        for y in range(ysize):\n",
      "            r,g,b = temp[x,y]\n",
      "            if r+g+b >= tau: \n",
      "                temp[x,y] = black\n",
      "            else:\n",
      "                temp[x,y] = white\n",
      "    return None\n",
      "\n",
      "def countBeads(P):\n",
      "    '''\n",
      "    return the number of beads with >= P pixels\n",
      "    '''\n",
      "\n",
      "def getBeads(P):\n",
      "    '''\n",
      "    return all beads with >= P pixels\n",
      "    '''"
     ],
     "language": "python",
     "metadata": {},
     "outputs": [
      {
       "output_type": "stream",
       "stream": "stdout",
       "text": [
        "Overwriting Blobfinder.py\n"
       ]
      }
     ],
     "prompt_number": 1
    },
    {
     "cell_type": "code",
     "collapsed": false,
     "input": [
      "import Blobfinder as bf"
     ],
     "language": "python",
     "metadata": {},
     "outputs": [],
     "prompt_number": 2
    },
    {
     "cell_type": "code",
     "collapsed": false,
     "input": [
      "def something(p, tau, fileName):\n",
      "    \"\"\"\n",
      "    Creates a BlobFinder object using a luminance threshold of tau.\n",
      "    Prints out the mass and c.o.m of all beads with at least pixel size p.\n",
      "    Prints out the mass and c.o.m of all the blobs. (beads w/ at least 1 pixel.)\n",
      "    \"\"\"\n",
      "    "
     ],
     "language": "python",
     "metadata": {},
     "outputs": [],
     "prompt_number": 4
    },
    {
     "cell_type": "code",
     "collapsed": false,
     "input": [
      "def something1(p, tau, deltaP, fileNameSequence):\n",
      "    \"\"\"\n",
      "    Identifies beads (under specified value p and tau) in each image (using BlobFinder.)\n",
      "    Writes to a file the radial displacement for each bead/frame (one per line, with '%10.4f'.)\n",
      "    Note: beads tracked by deltaP requirements, and only by two consecutive frames.\n",
      "    \"\"\"\n",
      "    data = Image.open(StringIO(response.content))\n",
      "    BlobFinder(data,200+200+200)\n",
      "    #plt.imshow(data);"
     ],
     "language": "python",
     "metadata": {},
     "outputs": [],
     "prompt_number": 5
    },
    {
     "cell_type": "code",
     "collapsed": false,
     "input": [],
     "language": "python",
     "metadata": {},
     "outputs": []
    },
    {
     "cell_type": "heading",
     "level": 4,
     "metadata": {},
     "source": [
      "Notes:"
     ]
    },
    {
     "cell_type": "markdown",
     "metadata": {},
     "source": [
      "$$\\sigma^2 = 2D\\Delta t$$"
     ]
    },
    {
     "cell_type": "markdown",
     "metadata": {},
     "source": [
      "$D = $ *self-diffusion constant* \n",
      "\n",
      "$\\Delta t = $ time interval between position measurements. (0.5 seconds per frame) \n"
     ]
    },
    {
     "cell_type": "markdown",
     "metadata": {},
     "source": [
      "In computing $\\sigma^2$, we account for the variance in observed bead displacements in the x and y directions. \n",
      "\n",
      "Let $(\\Delta x_1, \\Delta x_2), ..., (\\Delta x_n, \\Delta y_n \\tag{n bead displacements}$\n",
      "\n",
      "and $r_1,...r_n \\tag{radial displacements}$\n",
      "\n",
      "\n",
      "then $$\\langle \\sigma^2 \\rangle = \\frac{({\\Delta x_1}^2+...+{\\Delta x_n}^2) + ({\\Delta y_1}^2+...+ {\\Delta y_n}^2)}{2n} = \\frac{{r_1}^2+...{r_n}^2}{2n}$$"
     ]
    },
    {
     "cell_type": "markdown",
     "metadata": {},
     "source": [
      "$r_i$ = pixel distance; which should be converted to meters $\\rightarrow .175\\times 10^{-6} \\frac{meters}{pixel}$"
     ]
    },
    {
     "cell_type": "markdown",
     "metadata": {},
     "source": [
      "$$D = \\frac{kT}{6\\pi \\eta \\rho} \\tag{Stokes-Einstein}$$"
     ]
    },
    {
     "cell_type": "markdown",
     "metadata": {},
     "source": [
      "$T = $ 297.15 Kelvin\n",
      "\n",
      "$\\eta = $ viscosity of water $= 9.135\\times 10^{-4} \\frac{N \\cdot s}{m^2}$\n",
      "\n",
      "$\\rho = $ radius of bead $= .5\\times 10^{-6}$ meters\n",
      "\n",
      "$k =$ Boltzmann constant. (Ultimately will solve for $k$)"
     ]
    },
    {
     "cell_type": "markdown",
     "metadata": {},
     "source": [
      "$N_A$ is defined to be the number of particles in a mole. By definition, $k = \\frac{R}{N_A}$, where $R = 8.31457 \\frac{J}{K \\cdot mol}$"
     ]
    },
    {
     "cell_type": "code",
     "collapsed": false,
     "input": [],
     "language": "python",
     "metadata": {},
     "outputs": []
    }
   ],
   "metadata": {}
  }
 ]
}