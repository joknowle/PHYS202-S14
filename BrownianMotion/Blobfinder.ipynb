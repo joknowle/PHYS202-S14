{
 "metadata": {
  "name": "",
  "signature": "sha256:0b5a2f7a664187eb0284931415380a5203b3320f7bb7d25948ef8c8746643170"
 },
 "nbformat": 3,
 "nbformat_minor": 0,
 "worksheets": [
  {
   "cells": [
    {
     "cell_type": "code",
     "collapsed": false,
     "input": [
      "%%file Blobfinder.py\n",
      "import numpy as np\n",
      "from PIL import Image\n",
      "from StringIO import StringIO\n",
      "import requests\n",
      "\n",
      "class Blob():\n",
      "    def __init__():\n",
      "        \"\"\"\n",
      "        Construct an empty flubber array for the purpose of filling \n",
      "        it with information in other functions.\n",
      "        \"\"\"\n",
      "        self.flubber = []\n",
      "        self.mass = 0\n",
      "        \n",
      "    def add(self, i, j):\n",
      "        \"\"\"\n",
      "        Add a pixel (i, j) to the flubber.\n",
      "        \"\"\"\n",
      "        self.flubber.append((i,j));\n",
      "        \n",
      "    def mass(self):\n",
      "        \"\"\"\n",
      "        Return number of pixels added equal to its mass.\n",
      "        \"\"\"\n",
      "        self.append(len(self.flubber))\n",
      "        \n",
      "    def distanceTo(self, comFirst, comSecond):\n",
      "        \"\"\"\n",
      "        Return distance between the center of mass of this flubber and b\n",
      "        \"\"\"\n",
      "        #\n",
      "        pX1 = comFirst[0]; pX2 = comFirst[1]; pY1 = comSecond[0]; pY2 = comSecond[1]; \n",
      "        self.dist = round(np.sqrt((pX2 - pX1)**2. + (pY2 - pY1)**2.), 4)\n",
      "        return self.dist\n",
      "    \n",
      "    def centerOfMass(self):\n",
      "        \"\"\"\n",
      "        Return tuple of (x,y) values for this flubber's center of mass.\n",
      "        Format center-of-mass coordinates with 4 sig figs.\n",
      "        \"\"\"\n",
      "        xLocs = 0; yLocs = 0;\n",
      "        for loc in self.flubber:\n",
      "            xLocs += loc[0]; yLocs += loc[1];\n",
      "            \n",
      "        # Average of total stored in array:\n",
      "        xAvg = round(xLocs, 4) / len(self.flubber); yAvg = round(yLocs, 4)/ len(self.flubber);\n",
      "        self.centerOfMass = [xAvg, yAvg]; Avg = [xAvg, yAvg];\n",
      "        return Avg\n",
      "    \n",
      "    \n",
      "def count(picture, inc, listFlubbers):\n",
      "    \"\"\"scan the image top to bottom and left to right using a nested loop.\n",
      "    when black pixel is found, increment the count, create a new blob, then call the fill\n",
      "    function to fill in all the pixels connected to that one. Put the pixels into the blob in the fill function.\"\"\"\n",
      "    BLACK = (0, 0, 0); RED = (255, 0, 0); tempImage = picture.load(); horLen, verLen = picture.size;\n",
      "    for x in xrange(horLen):\n",
      "        for y in xrange(verLen):\n",
      "            if tempImage[x,y] == BLACK:\n",
      "                redFlubbers = Blob()\n",
      "                fill(tempImage, horLen, verLen, x, y, redFlubbers)\n",
      "                redFlubbers.mass()\n",
      "                redFlubbers.centerOfMass()\n",
      "                listFlubbers.append(redFlubbers)\n",
      "                inc += 1\n",
      "    return listFlubbers\n",
      "\n",
      "\n",
      "def flubberFinder(P, picture, tau):\n",
      "    '''find all flubbers in the picture using the luminance threshold tau.'''\n",
      "    Flubbers = []\n",
      "    # Need to handle filter color information in images:\n",
      "    monochrome(picture, tau)\n",
      "    fill()\n",
      "    listFlubbers = count(picture, mask, Flubbers)\n",
      "    return listFlubbers\n",
      "\n",
      "def flubberGTEPixel(P, listFlubbers):\n",
      "    '''\n",
      "    return all unit flubbers with >= P pixels. \n",
      "    '''\n",
      "    tempListFlubbers = []\n",
      "    for i in listFlubbers: \n",
      "        if i.mass >= 25.:\n",
      "            tempListFlubbers.append(i)\n",
      "    return tempListFlubbers\n",
      "    \n",
      "def monochrome(picture, tau):\n",
      "    '''Reads and loads a temporary image to convert to black or white in regards to luminance threshold tau. '''\n",
      "    BLACK = (0, 0, 0); WHITE = (255, 255, 255); horLen, verLen = picture.size; tempImage = picture.load();\n",
      "    for x in xrange(horLen):\n",
      "        for y in xrange(verLen):\n",
      "            r, g, b = tempImage[x, y]\n",
      "            if r + g + b >= tau: \n",
      "                tempImage[x, y] = BLACK\n",
      "            else:\n",
      "                tempImage[x,y] = WHITE\n",
      "    #return tempImage\n",
      "\n",
      "def fill(picture, horLen, verLen, xi, yi, currentFlubber):\n",
      "    \"\"\"keep a list of pixels that need to be looked at, but haven't \n",
      "    yet been filled in - a list of the (x,y) coordinates of pixels that \n",
      "    are neighbors of ones we have already examined.  Keep looping until \n",
      "    there's nothing left in this list\"\"\"\n",
      "    BLACK = (0, 0, 0); RED = (255, 0, 0); queue = [(xi, yi)]\n",
      "    while queue:\n",
      "        x, y, queue = queue[0][0], queue[0][1], queue[1:]\n",
      "        if picture[x, y] == BLACK:\n",
      "            picture[x, y] = RED\n",
      "            #adds red points to the blob in question\n",
      "            currentFlubber.add(x, y)\n",
      "            if x > 0:\n",
      "                queue.append((x - 1, y))\n",
      "            if x < (horLen - 1):\n",
      "                queue.append((x + 1, y))\n",
      "            if y > 0:\n",
      "                queue.append((x, y - 1))\n",
      "            if y < (verLen - 1):\n",
      "                queue.append((x, y + 1))\n",
      "    \n",
      "#if __name__ == \"__main__\":\n",
      "#    p = 25\n",
      "#    tau = 600\n",
      "#    print tau, p\n",
      "    # pictureObject = # call from drive.\n",
      "    # BlobFinder(pictureObject, tau)"
     ],
     "language": "python",
     "metadata": {},
     "outputs": [
      {
       "output_type": "stream",
       "stream": "stdout",
       "text": [
        "Overwriting Blobfinder.py\n"
       ]
      }
     ],
     "prompt_number": 8
    },
    {
     "cell_type": "heading",
     "level": 4,
     "metadata": {},
     "source": [
      "Notes:"
     ]
    },
    {
     "cell_type": "markdown",
     "metadata": {},
     "source": [
      "$$\\sigma^2 = 2D\\Delta t$$"
     ]
    },
    {
     "cell_type": "markdown",
     "metadata": {},
     "source": [
      "$D = $ *self-diffusion constant* \n",
      "\n",
      "$\\Delta t = $ time interval between position measurements. (0.5 seconds per frame) \n"
     ]
    },
    {
     "cell_type": "markdown",
     "metadata": {},
     "source": [
      "In computing $\\sigma^2$, we account for the variance in observed bead displacements in the x and y directions. \n",
      "\n",
      "Let $(\\Delta x_1, \\Delta x_2), ..., (\\Delta x_n, \\Delta y_n \\tag{n bead displacements}$\n",
      "\n",
      "and $r_1,...r_n \\tag{radial displacements}$\n",
      "\n",
      "\n",
      "then $$\\langle \\sigma^2 \\rangle = \\frac{({\\Delta x_1}^2+...+{\\Delta x_n}^2) + ({\\Delta y_1}^2+...+ {\\Delta y_n}^2)}{2n} = \\frac{{r_1}^2+...{r_n}^2}{2n}$$"
     ]
    },
    {
     "cell_type": "markdown",
     "metadata": {},
     "source": [
      "$r_i$ = pixel distance; which should be converted to meters $\\rightarrow .175\\times 10^{-6} \\frac{meters}{pixel}$"
     ]
    },
    {
     "cell_type": "markdown",
     "metadata": {},
     "source": [
      "$$D = \\frac{kT}{6\\pi \\eta \\rho} \\tag{Stokes-Einstein}$$"
     ]
    },
    {
     "cell_type": "markdown",
     "metadata": {},
     "source": [
      "$T = $ 297.15 Kelvin\n",
      "\n",
      "$\\eta = $ viscosity of water $= 9.135\\times 10^{-4} \\frac{N \\cdot s}{m^2}$\n",
      "\n",
      "$\\rho = $ radius of bead $= .5\\times 10^{-6}$ meters\n",
      "\n",
      "$k =$ Boltzmann constant. (Ultimately will solve for $k$)"
     ]
    },
    {
     "cell_type": "markdown",
     "metadata": {},
     "source": [
      "$N_A$ is defined to be the number of particles in a mole. By definition, $k = \\frac{R}{N_A}$, where $R = 8.31457 \\frac{J}{K \\cdot mol}$"
     ]
    },
    {
     "cell_type": "code",
     "collapsed": false,
     "input": [],
     "language": "python",
     "metadata": {},
     "outputs": []
    }
   ],
   "metadata": {}
  }
 ]
}