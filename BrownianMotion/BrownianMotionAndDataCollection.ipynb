{
 "metadata": {
  "name": "",
  "signature": "sha256:fde2874d5080b09ad3b706c36249e817aa7ee07987d19da19d7853ad19e6ca99"
 },
 "nbformat": 3,
 "nbformat_minor": 0,
 "worksheets": [
  {
   "cells": [
    {
     "cell_type": "heading",
     "level": 1,
     "metadata": {},
     "source": [
      "Brownian Motion and Avogadro's Number"
     ]
    },
    {
     "cell_type": "markdown",
     "metadata": {},
     "source": [
      "**Data collection. **\n",
      "\n",
      "Using a USB microscope and diluted milk, we can capture images of milkfat globules undergoing Brownian motion. For writing and testing the code, you will be supplied with a set of raw data as sequences of 200 JPEG images. Once you have a working analysis chain, you will collect and analyze your own data.\n",
      "\n",
      "\n",
      "**Image Segmentation**\n",
      "\n",
      "Read in an image and use thresholding to separate the image into foreground and background pixels.\n",
      "\n",
      "**Particle identification. **\n",
      "\n",
      "Find maximal blobs of connected foreground pixels using depth-first search.\n",
      "\n",
      "**Particle tracking. **\n",
      "\n",
      "Determine how far each particle moves between observations via a simple nearest neighbor calculation.\n",
      "\n",
      "**Data analysis. **\n",
      "\n",
      "Estimate Avogadro's number by averaging a sequence of displacements and plugging the results into Einstein's equations."
     ]
    },
    {
     "cell_type": "markdown",
     "metadata": {},
     "source": [
      "$$\\sigma^2 = 2D\\Delta t$$\n",
      "\n",
      "$D = $ *self-diffusion constant* \n",
      "\n",
      "$\\Delta t = $ time interval between position measurements. (0.5 seconds per frame) \n",
      "\n",
      "\n",
      "In computing $\\sigma^2$, we account for the variance in observed bead displacements in the x and y directions. \n",
      "\n",
      "Let $(\\Delta x_1, \\Delta x_2), ..., (\\Delta x_n, \\Delta y_n \\tag{n bead displacements}$\n",
      "\n",
      "and $r_1,...r_n \\tag{radial displacements}$\n",
      "\n",
      "\n",
      "then $$\\langle \\sigma^2 \\rangle = \\frac{({\\Delta x_1}^2+...+{\\Delta x_n}^2) + ({\\Delta y_1}^2+...+ {\\Delta y_n}^2)}{2n} = \\frac{{r_1}^2+...{r_n}^2}{2n}$$\n",
      "\n",
      "$r_i$ = pixel distance; which should be converted to meters $\\rightarrow .175\\times 10^{-6} \\frac{meters}{pixel}$\n",
      "\n",
      "$$D = \\frac{kT}{6\\pi \\eta \\rho} \\tag{Stokes-Einstein}$$\n",
      "\n",
      "$T = $ 297.15 Kelvin\n",
      "\n",
      "$\\eta = $ viscosity of water $= 9.135\\times 10^{-4} \\frac{N \\cdot s}{m^2}$\n",
      "\n",
      "$\\rho = $ radius of bead $= .5\\times 10^{-6}$ meters\n",
      "\n",
      "$k =$ Boltzmann constant. (Ultimately will solve for $k$)\n",
      "\n",
      "$N_A$ is defined to be the number of particles in a mole. By definition, $k = \\frac{R}{N_A}$, where $R = 8.31457 \\frac{J}{K \\cdot mol}$"
     ]
    },
    {
     "cell_type": "code",
     "collapsed": false,
     "input": [],
     "language": "python",
     "metadata": {},
     "outputs": []
    },
    {
     "cell_type": "code",
     "collapsed": false,
     "input": [],
     "language": "python",
     "metadata": {},
     "outputs": []
    },
    {
     "cell_type": "code",
     "collapsed": false,
     "input": [],
     "language": "python",
     "metadata": {},
     "outputs": []
    }
   ],
   "metadata": {}
  }
 ]
}