{
 "metadata": {
  "name": "",
  "signature": "sha256:b31d45e20919800996dde4f9dc101936e5a1e417bb86a3c8bcb081fe89a50721"
 },
 "nbformat": 3,
 "nbformat_minor": 0,
 "worksheets": [
  {
   "cells": [
    {
     "cell_type": "heading",
     "level": 1,
     "metadata": {},
     "source": [
      "Midterm"
     ]
    },
    {
     "cell_type": "heading",
     "level": 3,
     "metadata": {},
     "source": [
      "Question 1"
     ]
    },
    {
     "cell_type": "markdown",
     "metadata": {},
     "source": [
      "In Robert McCloskey\u2019s book Make Way for Ducklings, the names of the ducklings are Jack, Kack, Lack, Mack, Nack, Ouack, Pack, and Quack. This loop outputs these names in order:\n",
      "\n",
      "prefixes = 'JKLMNOPQ' \n",
      "\n",
      "suffix = 'ack'\n",
      "\n",
      "for letter in prefixes: \n",
      "\n",
      "    print letter + suffix\n",
      "    \n",
      "The output is:\n",
      "\n",
      "Jack \n",
      "\n",
      "Kack\n",
      "\n",
      "Lack \n",
      "\n",
      "Mack \n",
      "\n",
      "Nack\n",
      "\n",
      "Oack \n",
      "\n",
      "Pack \n",
      "\n",
      "Qack\n",
      "\n",
      "Of course, that\u2019s not quite right because \u201cOuack\u201d and \u201cQuack\u201d are misspelled.\n",
      "Modify the program to fix this error."
     ]
    },
    {
     "cell_type": "code",
     "collapsed": false,
     "input": [
      "prefixes = 'JKLMNOPQ'\n",
      "suffix = 'ack'\n",
      "subs = 'u'\n",
      "for letter in prefixes:\n",
      "    if letter == 'O' or letter == 'Q':\n",
      "        print letter + subs + suffix\n",
      "    else:\n",
      "        print letter + suffix"
     ],
     "language": "python",
     "metadata": {},
     "outputs": [
      {
       "output_type": "stream",
       "stream": "stdout",
       "text": [
        "Jack\n",
        "Kack\n",
        "Lack\n",
        "Mack\n",
        "Nack\n",
        "Ouack\n",
        "Pack\n",
        "Quack\n"
       ]
      }
     ],
     "prompt_number": 2
    },
    {
     "cell_type": "heading",
     "level": 3,
     "metadata": {},
     "source": [
      "Question 2:"
     ]
    },
    {
     "cell_type": "markdown",
     "metadata": {},
     "source": [
      "Use ipythonblocks to create an 8x8 grid with the first initial of your last name embedded in it in a different color. Use slices and/or loops to set the values rather than setting each block by hand. Here is an example:"
     ]
    },
    {
     "cell_type": "code",
     "collapsed": false,
     "input": [
      "import random \n",
      "from ipythonblocks import BlockGrid\n",
      "import numpy as np"
     ],
     "language": "python",
     "metadata": {},
     "outputs": [],
     "prompt_number": 2
    },
    {
     "cell_type": "code",
     "collapsed": false,
     "input": [
      "blue = (5,125,144)\n",
      "Black = (0,0,0)\n",
      "x = 0\n",
      "y = 7\n",
      "grid = BlockGrid(8,8, fill=blue)\n",
      "board = np.zeros((8, 8))\n",
      "\n",
      "for block in grid[:,2]:\n",
      "    block.set_colors(0,0,0)\n",
      "    #upper diagonal:\n",
      "for row in range(grid.width):\n",
      "    for col in range(grid.height):\n",
      "        if col == y and col > 2:\n",
      "            grid[row,col] = Black\n",
      "        if col == x - 1 and row > 4 :\n",
      "            grid[row,col] = Black\n",
      "    y -= 1 \n",
      "    x += 1\n",
      "grid.show()"
     ],
     "language": "python",
     "metadata": {},
     "outputs": [
      {
       "html": [
        "<style type=\"text/css\">table.blockgrid {border: none;} .blockgrid tr {border: none;} .blockgrid td {padding: 0px;} #blocksd778dd04-17e2-4580-ad6a-fb36f0be0ce4 td {border: 1px solid white;}</style><table id=\"blocksd778dd04-17e2-4580-ad6a-fb36f0be0ce4\" class=\"blockgrid\"><tbody><tr><td title=\"Index: [0, 0]&#10;Color: (5, 125, 144)\" style=\"width: 20px; height: 20px;background-color: rgb(5, 125, 144);\"></td><td title=\"Index: [0, 1]&#10;Color: (5, 125, 144)\" style=\"width: 20px; height: 20px;background-color: rgb(5, 125, 144);\"></td><td title=\"Index: [0, 2]&#10;Color: (0, 0, 0)\" style=\"width: 20px; height: 20px;background-color: rgb(0, 0, 0);\"></td><td title=\"Index: [0, 3]&#10;Color: (5, 125, 144)\" style=\"width: 20px; height: 20px;background-color: rgb(5, 125, 144);\"></td><td title=\"Index: [0, 4]&#10;Color: (5, 125, 144)\" style=\"width: 20px; height: 20px;background-color: rgb(5, 125, 144);\"></td><td title=\"Index: [0, 5]&#10;Color: (5, 125, 144)\" style=\"width: 20px; height: 20px;background-color: rgb(5, 125, 144);\"></td><td title=\"Index: [0, 6]&#10;Color: (5, 125, 144)\" style=\"width: 20px; height: 20px;background-color: rgb(5, 125, 144);\"></td><td title=\"Index: [0, 7]&#10;Color: (0, 0, 0)\" style=\"width: 20px; height: 20px;background-color: rgb(0, 0, 0);\"></td></tr><tr><td title=\"Index: [1, 0]&#10;Color: (5, 125, 144)\" style=\"width: 20px; height: 20px;background-color: rgb(5, 125, 144);\"></td><td title=\"Index: [1, 1]&#10;Color: (5, 125, 144)\" style=\"width: 20px; height: 20px;background-color: rgb(5, 125, 144);\"></td><td title=\"Index: [1, 2]&#10;Color: (0, 0, 0)\" style=\"width: 20px; height: 20px;background-color: rgb(0, 0, 0);\"></td><td title=\"Index: [1, 3]&#10;Color: (5, 125, 144)\" style=\"width: 20px; height: 20px;background-color: rgb(5, 125, 144);\"></td><td title=\"Index: [1, 4]&#10;Color: (5, 125, 144)\" style=\"width: 20px; height: 20px;background-color: rgb(5, 125, 144);\"></td><td title=\"Index: [1, 5]&#10;Color: (5, 125, 144)\" style=\"width: 20px; height: 20px;background-color: rgb(5, 125, 144);\"></td><td title=\"Index: [1, 6]&#10;Color: (0, 0, 0)\" style=\"width: 20px; height: 20px;background-color: rgb(0, 0, 0);\"></td><td title=\"Index: [1, 7]&#10;Color: (5, 125, 144)\" style=\"width: 20px; height: 20px;background-color: rgb(5, 125, 144);\"></td></tr><tr><td title=\"Index: [2, 0]&#10;Color: (5, 125, 144)\" style=\"width: 20px; height: 20px;background-color: rgb(5, 125, 144);\"></td><td title=\"Index: [2, 1]&#10;Color: (5, 125, 144)\" style=\"width: 20px; height: 20px;background-color: rgb(5, 125, 144);\"></td><td title=\"Index: [2, 2]&#10;Color: (0, 0, 0)\" style=\"width: 20px; height: 20px;background-color: rgb(0, 0, 0);\"></td><td title=\"Index: [2, 3]&#10;Color: (5, 125, 144)\" style=\"width: 20px; height: 20px;background-color: rgb(5, 125, 144);\"></td><td title=\"Index: [2, 4]&#10;Color: (5, 125, 144)\" style=\"width: 20px; height: 20px;background-color: rgb(5, 125, 144);\"></td><td title=\"Index: [2, 5]&#10;Color: (0, 0, 0)\" style=\"width: 20px; height: 20px;background-color: rgb(0, 0, 0);\"></td><td title=\"Index: [2, 6]&#10;Color: (5, 125, 144)\" style=\"width: 20px; height: 20px;background-color: rgb(5, 125, 144);\"></td><td title=\"Index: [2, 7]&#10;Color: (5, 125, 144)\" style=\"width: 20px; height: 20px;background-color: rgb(5, 125, 144);\"></td></tr><tr><td title=\"Index: [3, 0]&#10;Color: (5, 125, 144)\" style=\"width: 20px; height: 20px;background-color: rgb(5, 125, 144);\"></td><td title=\"Index: [3, 1]&#10;Color: (5, 125, 144)\" style=\"width: 20px; height: 20px;background-color: rgb(5, 125, 144);\"></td><td title=\"Index: [3, 2]&#10;Color: (0, 0, 0)\" style=\"width: 20px; height: 20px;background-color: rgb(0, 0, 0);\"></td><td title=\"Index: [3, 3]&#10;Color: (5, 125, 144)\" style=\"width: 20px; height: 20px;background-color: rgb(5, 125, 144);\"></td><td title=\"Index: [3, 4]&#10;Color: (0, 0, 0)\" style=\"width: 20px; height: 20px;background-color: rgb(0, 0, 0);\"></td><td title=\"Index: [3, 5]&#10;Color: (5, 125, 144)\" style=\"width: 20px; height: 20px;background-color: rgb(5, 125, 144);\"></td><td title=\"Index: [3, 6]&#10;Color: (5, 125, 144)\" style=\"width: 20px; height: 20px;background-color: rgb(5, 125, 144);\"></td><td title=\"Index: [3, 7]&#10;Color: (5, 125, 144)\" style=\"width: 20px; height: 20px;background-color: rgb(5, 125, 144);\"></td></tr><tr><td title=\"Index: [4, 0]&#10;Color: (5, 125, 144)\" style=\"width: 20px; height: 20px;background-color: rgb(5, 125, 144);\"></td><td title=\"Index: [4, 1]&#10;Color: (5, 125, 144)\" style=\"width: 20px; height: 20px;background-color: rgb(5, 125, 144);\"></td><td title=\"Index: [4, 2]&#10;Color: (0, 0, 0)\" style=\"width: 20px; height: 20px;background-color: rgb(0, 0, 0);\"></td><td title=\"Index: [4, 3]&#10;Color: (0, 0, 0)\" style=\"width: 20px; height: 20px;background-color: rgb(0, 0, 0);\"></td><td title=\"Index: [4, 4]&#10;Color: (5, 125, 144)\" style=\"width: 20px; height: 20px;background-color: rgb(5, 125, 144);\"></td><td title=\"Index: [4, 5]&#10;Color: (5, 125, 144)\" style=\"width: 20px; height: 20px;background-color: rgb(5, 125, 144);\"></td><td title=\"Index: [4, 6]&#10;Color: (5, 125, 144)\" style=\"width: 20px; height: 20px;background-color: rgb(5, 125, 144);\"></td><td title=\"Index: [4, 7]&#10;Color: (5, 125, 144)\" style=\"width: 20px; height: 20px;background-color: rgb(5, 125, 144);\"></td></tr><tr><td title=\"Index: [5, 0]&#10;Color: (5, 125, 144)\" style=\"width: 20px; height: 20px;background-color: rgb(5, 125, 144);\"></td><td title=\"Index: [5, 1]&#10;Color: (5, 125, 144)\" style=\"width: 20px; height: 20px;background-color: rgb(5, 125, 144);\"></td><td title=\"Index: [5, 2]&#10;Color: (0, 0, 0)\" style=\"width: 20px; height: 20px;background-color: rgb(0, 0, 0);\"></td><td title=\"Index: [5, 3]&#10;Color: (5, 125, 144)\" style=\"width: 20px; height: 20px;background-color: rgb(5, 125, 144);\"></td><td title=\"Index: [5, 4]&#10;Color: (0, 0, 0)\" style=\"width: 20px; height: 20px;background-color: rgb(0, 0, 0);\"></td><td title=\"Index: [5, 5]&#10;Color: (5, 125, 144)\" style=\"width: 20px; height: 20px;background-color: rgb(5, 125, 144);\"></td><td title=\"Index: [5, 6]&#10;Color: (5, 125, 144)\" style=\"width: 20px; height: 20px;background-color: rgb(5, 125, 144);\"></td><td title=\"Index: [5, 7]&#10;Color: (5, 125, 144)\" style=\"width: 20px; height: 20px;background-color: rgb(5, 125, 144);\"></td></tr><tr><td title=\"Index: [6, 0]&#10;Color: (5, 125, 144)\" style=\"width: 20px; height: 20px;background-color: rgb(5, 125, 144);\"></td><td title=\"Index: [6, 1]&#10;Color: (5, 125, 144)\" style=\"width: 20px; height: 20px;background-color: rgb(5, 125, 144);\"></td><td title=\"Index: [6, 2]&#10;Color: (0, 0, 0)\" style=\"width: 20px; height: 20px;background-color: rgb(0, 0, 0);\"></td><td title=\"Index: [6, 3]&#10;Color: (5, 125, 144)\" style=\"width: 20px; height: 20px;background-color: rgb(5, 125, 144);\"></td><td title=\"Index: [6, 4]&#10;Color: (5, 125, 144)\" style=\"width: 20px; height: 20px;background-color: rgb(5, 125, 144);\"></td><td title=\"Index: [6, 5]&#10;Color: (0, 0, 0)\" style=\"width: 20px; height: 20px;background-color: rgb(0, 0, 0);\"></td><td title=\"Index: [6, 6]&#10;Color: (5, 125, 144)\" style=\"width: 20px; height: 20px;background-color: rgb(5, 125, 144);\"></td><td title=\"Index: [6, 7]&#10;Color: (5, 125, 144)\" style=\"width: 20px; height: 20px;background-color: rgb(5, 125, 144);\"></td></tr><tr><td title=\"Index: [7, 0]&#10;Color: (5, 125, 144)\" style=\"width: 20px; height: 20px;background-color: rgb(5, 125, 144);\"></td><td title=\"Index: [7, 1]&#10;Color: (5, 125, 144)\" style=\"width: 20px; height: 20px;background-color: rgb(5, 125, 144);\"></td><td title=\"Index: [7, 2]&#10;Color: (0, 0, 0)\" style=\"width: 20px; height: 20px;background-color: rgb(0, 0, 0);\"></td><td title=\"Index: [7, 3]&#10;Color: (5, 125, 144)\" style=\"width: 20px; height: 20px;background-color: rgb(5, 125, 144);\"></td><td title=\"Index: [7, 4]&#10;Color: (5, 125, 144)\" style=\"width: 20px; height: 20px;background-color: rgb(5, 125, 144);\"></td><td title=\"Index: [7, 5]&#10;Color: (5, 125, 144)\" style=\"width: 20px; height: 20px;background-color: rgb(5, 125, 144);\"></td><td title=\"Index: [7, 6]&#10;Color: (0, 0, 0)\" style=\"width: 20px; height: 20px;background-color: rgb(0, 0, 0);\"></td><td title=\"Index: [7, 7]&#10;Color: (5, 125, 144)\" style=\"width: 20px; height: 20px;background-color: rgb(5, 125, 144);\"></td></tr></tbody></table>"
       ],
       "metadata": {},
       "output_type": "display_data",
       "text": [
        "<IPython.core.display.HTML at 0x1027ae290>"
       ]
      }
     ],
     "prompt_number": 62
    },
    {
     "cell_type": "heading",
     "level": 3,
     "metadata": {},
     "source": [
      "Question 3\n"
     ]
    },
    {
     "cell_type": "markdown",
     "metadata": {},
     "source": [
      "\"99 Bottles of Beer\" is a traditional song in the United States and Canada. It is popular to sing on long trips, as it has a very repetitive format which is easy to memorize, and can take a long time to sing. The song's simple lyrics are as follows:\n",
      "99 bottles of beer on the wall, 99 bottles of beer.  \n",
      "Take one down, pass it around, 98 bottles of beer on the wall.\n",
      "The same verse is repeated, each time with one fewer bottle. The song is completed when the singer or singers reach zero.\n",
      "Your task here is to write a program capable of generating all the verses of the song.\n",
      " "
     ]
    },
    {
     "cell_type": "code",
     "collapsed": false,
     "input": [
      "song1 = [\"bottles of beer on the wall, \"]\n",
      "song2 = [\"bottles of beer. \"]\n",
      "song3 = [\"Take one down, pass it around, \"]\n",
      "song4 = [\"bottles of beer on the wall. \"]\n",
      "arr = np.arange(100)\n",
      "Rarr = arr[::-1]\n",
      "for x in Rarr:\n",
      "    if x > 0:\n",
      "        if x == 1:\n",
      "            song1 = [\"bottle of beer on the wall, \"]\n",
      "            song2 = [\"bottle of beer. \"]\n",
      "            song4 = [\"bottle of beer on the wall. \"]\n",
      "        print x, song1[0], x, song2[0]\n",
      "        if x - 1 == 1:\n",
      "            song4 = [\"bottle of beer on the wall.\"]\n",
      "            print song3[0], (x - 1), song4[0]\n",
      "        if x == 0:\n",
      "            return none\n",
      "        else:\n",
      "            print song3[0], (x - 1), song4[0]\n",
      "\n",
      "\n",
      "    "
     ],
     "language": "python",
     "metadata": {},
     "outputs": [
      {
       "ename": "SyntaxError",
       "evalue": "'return' outside function (<ipython-input-3-8fc6ed126fea>, line 18)",
       "output_type": "pyerr",
       "traceback": [
        "\u001b[1;36m  File \u001b[1;32m\"<ipython-input-3-8fc6ed126fea>\"\u001b[1;36m, line \u001b[1;32m18\u001b[0m\n\u001b[1;33m    return none\u001b[0m\n\u001b[1;31mSyntaxError\u001b[0m\u001b[1;31m:\u001b[0m 'return' outside function\n"
       ]
      }
     ],
     "prompt_number": 3
    },
    {
     "cell_type": "heading",
     "level": 4,
     "metadata": {},
     "source": [
      "Question 4"
     ]
    },
    {
     "cell_type": "markdown",
     "metadata": {},
     "source": [
      "Plot a simple graph of a sine function in the range 0 to 3 with a step size of 0.1.\n",
      "Make the line red.\n",
      "Add green diamond-shaped markers with size of 7.\n",
      "Include legible axis labels.\n",
      "Add a legend and a grid to the plot."
     ]
    },
    {
     "cell_type": "code",
     "collapsed": false,
     "input": [
      "%pylab inline"
     ],
     "language": "python",
     "metadata": {},
     "outputs": [
      {
       "output_type": "stream",
       "stream": "stdout",
       "text": [
        "Populating the interactive namespace from numpy and matplotlib\n"
       ]
      }
     ],
     "prompt_number": 81
    },
    {
     "cell_type": "code",
     "collapsed": false,
     "input": [
      "import pylab as pl\n",
      "import numpy as np\n",
      "\n",
      "pl.figure(figsize=(8, 6), dpi=80)\n",
      "pl.subplot(1, 1, 1)\n",
      "\n",
      "pl.grid()\n",
      "\n",
      "x = np.linspace(0, 3, 256, endpoint=True)\n",
      "sin = np.sin(x)\n",
      "\n",
      "pl.plot(x, sin, color=\"red\", linewidth=2.0, linestyle=\"-\", label=\"Sine Wave\")\n",
      "\n",
      "step = np.arange(-1.1, 1.1, .1, dtype=float)\n",
      "\n",
      "\n",
      "pl.yticks(step)\n",
      "\n",
      "axis = pl.gca()\n",
      "axis.spines['right'].set_position(('data',0))\n",
      "axis.spines['left'].set_position(('data',0))\n",
      "axis.spines['top'].set_position(('data',0))\n",
      "axis.spines['bottom'].set_position(('data',0))\n",
      "\n",
      "axis.xaxis.set_ticks_position('bottom')\n",
      "axis.yaxis.set_ticks_position('left')\n",
      "\n",
      "for x in axis.get_xticklabels() + axis.get_yticklabels():\n",
      "    x.set_fontsize(14)\n",
      "\n",
      "pl.legend(loc='lower right', fontsize=15)\n",
      "\n",
      "\n",
      "\n",
      "\n",
      "\n",
      "pl.show()"
     ],
     "language": "python",
     "metadata": {},
     "outputs": [
      {
       "metadata": {},
       "output_type": "display_data",
       "png": "[encoded data removed]",
       "text": [
        "<matplotlib.figure.Figure at 0x1068c5a90>"
       ]
      }
     ],
     "prompt_number": 93
    },
    {
     "cell_type": "heading",
     "level": 3,
     "metadata": {},
     "source": [
      "Question 5:"
     ]
    },
    {
     "cell_type": "markdown",
     "metadata": {},
     "source": [
      "Create a 100x5 NumPy array called arr of random floating point numbers between 10.7 and 36.2.\n",
      "Write the array to a file called numbers.txt as 5 columns separated by 2 spaces and formatted with 3 places after the decimal.\n",
      "Include a 3-line header that lists the date and time on line 2 (hint: try !date).\n",
      "Show the first 10 lines of the file using the !head command.\n",
      "Read the data back in from the file to a new floating point NumPy array called arr2 and use a slice to print the first ten lines of the array."
     ]
    },
    {
     "cell_type": "code",
     "collapsed": false,
     "input": [
      "import numpy as np"
     ],
     "language": "python",
     "metadata": {},
     "outputs": [],
     "prompt_number": 2
    },
    {
     "cell_type": "code",
     "collapsed": false,
     "input": [
      "#impliment 100 row b 5 colum matrix with assigned arr2 to each element.\n",
      "\n",
      "arr = np.random.uniform(10.7, 36.2, (100,5))\n",
      "date = !date\n",
      "\n",
      "np.savetxt('numbers.txt', arr, delimiter='  ', fmt='%2.3f', newline='\\n', header = '\\n' + str(date)+ '\\n')\n",
      "!head -11 numbers.txt\n",
      "\n",
      "arr2 = np.array(np.loadtxt('numbers.txt'))\n",
      "print \"-----\"\n",
      "print arr2[0:10]"
     ],
     "language": "python",
     "metadata": {},
     "outputs": [
      {
       "output_type": "stream",
       "stream": "stdout",
       "text": [
        "# \r\n",
        "# ['Tue Apr 29 15:56:09 PDT 2014']\r\n",
        "# \r\n",
        "33.558  23.273  14.990  34.179  13.432\r\n",
        "20.341  31.975  30.330  29.559  16.101\r\n",
        "20.111  24.601  13.870  13.553  15.691\r\n",
        "32.186  32.781  34.672  32.382  21.073\r\n",
        "11.588  14.136  17.201  35.909  28.673\r\n",
        "28.687  34.610  17.386  16.232  22.464\r\n",
        "30.693  35.608  13.254  25.684  18.901\r\n",
        "30.870  16.459  30.004  33.774  21.663\r\n"
       ]
      },
      {
       "output_type": "stream",
       "stream": "stdout",
       "text": [
        "-----\n",
        "[[ 33.558  23.273  14.99   34.179  13.432]\n",
        " [ 20.341  31.975  30.33   29.559  16.101]\n",
        " [ 20.111  24.601  13.87   13.553  15.691]\n",
        " [ 32.186  32.781  34.672  32.382  21.073]\n",
        " [ 11.588  14.136  17.201  35.909  28.673]\n",
        " [ 28.687  34.61   17.386  16.232  22.464]\n",
        " [ 30.693  35.608  13.254  25.684  18.901]\n",
        " [ 30.87   16.459  30.004  33.774  21.663]\n",
        " [ 19.409  21.49   30.187  20.672  13.81 ]\n",
        " [ 19.65   29.184  30.162  33.95   30.253]]\n"
       ]
      }
     ],
     "prompt_number": 76
    },
    {
     "cell_type": "code",
     "collapsed": false,
     "input": [],
     "language": "python",
     "metadata": {},
     "outputs": []
    }
   ],
   "metadata": {}
  }
 ]
}